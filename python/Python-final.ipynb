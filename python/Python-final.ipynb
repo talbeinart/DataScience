{
 "cells": [
  {
   "cell_type": "markdown",
   "metadata": {},
   "source": [
    "# Python Intro - Final Exercise\n"
   ]
  },
  {
   "cell_type": "code",
   "execution_count": 1,
   "metadata": {},
   "outputs": [],
   "source": [
    "import pyodbc\n",
    "import pandas as pd\n",
    "import numpy as np"
   ]
  },
  {
   "cell_type": "code",
   "execution_count": 2,
   "metadata": {},
   "outputs": [],
   "source": [
    "### In windows, Using a ODBC DNS (predefined connection name)\n",
    "##conn = pyodbc.connect('DSN=COLLEGE;Trusted_Connection=yes;')\n",
    "conn=pyodbc.connect(\"Driver={SQL Server Native Client 11.0};\"\n",
    "                      \"Server=EYAL-PC;\"\n",
    "                      \"Database=COLLEGE;\"\n",
    "                      \"Trusted_Connection=yes;\")\n"
   ]
  },
  {
   "cell_type": "code",
   "execution_count": 3,
   "metadata": {},
   "outputs": [
    {
     "data": {
      "text/html": [
       "<div>\n",
       "<style scoped>\n",
       "    .dataframe tbody tr th:only-of-type {\n",
       "        vertical-align: middle;\n",
       "    }\n",
       "\n",
       "    .dataframe tbody tr th {\n",
       "        vertical-align: top;\n",
       "    }\n",
       "\n",
       "    .dataframe thead th {\n",
       "        text-align: right;\n",
       "    }\n",
       "</style>\n",
       "<table border=\"1\" class=\"dataframe\">\n",
       "  <thead>\n",
       "    <tr style=\"text-align: right;\">\n",
       "      <th></th>\n",
       "      <th>CourseId</th>\n",
       "      <th>CourseName</th>\n",
       "      <th>DepartmentID</th>\n",
       "      <th>TeacherId</th>\n",
       "    </tr>\n",
       "  </thead>\n",
       "  <tbody>\n",
       "    <tr>\n",
       "      <th>0</th>\n",
       "      <td>1.0</td>\n",
       "      <td>English Begginers</td>\n",
       "      <td>1.0</td>\n",
       "      <td>15.0</td>\n",
       "    </tr>\n",
       "    <tr>\n",
       "      <th>1</th>\n",
       "      <td>2.0</td>\n",
       "      <td>Advanced English</td>\n",
       "      <td>1.0</td>\n",
       "      <td>15.0</td>\n",
       "    </tr>\n",
       "    <tr>\n",
       "      <th>2</th>\n",
       "      <td>3.0</td>\n",
       "      <td>Proffesional English</td>\n",
       "      <td>1.0</td>\n",
       "      <td>15.0</td>\n",
       "    </tr>\n",
       "    <tr>\n",
       "      <th>3</th>\n",
       "      <td>4.0</td>\n",
       "      <td>Mathematics 101</td>\n",
       "      <td>2.0</td>\n",
       "      <td>2.0</td>\n",
       "    </tr>\n",
       "    <tr>\n",
       "      <th>4</th>\n",
       "      <td>5.0</td>\n",
       "      <td>Matematics Advanced</td>\n",
       "      <td>2.0</td>\n",
       "      <td>13.0</td>\n",
       "    </tr>\n",
       "  </tbody>\n",
       "</table>\n",
       "</div>"
      ],
      "text/plain": [
       "   CourseId            CourseName  DepartmentID  TeacherId\n",
       "0       1.0     English Begginers           1.0       15.0\n",
       "1       2.0      Advanced English           1.0       15.0\n",
       "2       3.0  Proffesional English           1.0       15.0\n",
       "3       4.0       Mathematics 101           2.0        2.0\n",
       "4       5.0   Matematics Advanced           2.0       13.0"
      ]
     },
     "execution_count": 3,
     "metadata": {},
     "output_type": "execute_result"
    }
   ],
   "source": [
    "courses = pd.read_sql(\"SELECT * FROM Courses\",conn)\n",
    "courses.head()\n",
    "#courses.dtypes"
   ]
  },
  {
   "cell_type": "code",
   "execution_count": 4,
   "metadata": {},
   "outputs": [
    {
     "data": {
      "text/plain": [
       "31"
      ]
     },
     "execution_count": 4,
     "metadata": {},
     "output_type": "execute_result"
    }
   ],
   "source": [
    "len(courses)"
   ]
  },
  {
   "cell_type": "code",
   "execution_count": 5,
   "metadata": {},
   "outputs": [
    {
     "data": {
      "text/html": [
       "<div>\n",
       "<style scoped>\n",
       "    .dataframe tbody tr th:only-of-type {\n",
       "        vertical-align: middle;\n",
       "    }\n",
       "\n",
       "    .dataframe tbody tr th {\n",
       "        vertical-align: top;\n",
       "    }\n",
       "\n",
       "    .dataframe thead th {\n",
       "        text-align: right;\n",
       "    }\n",
       "</style>\n",
       "<table border=\"1\" class=\"dataframe\">\n",
       "  <thead>\n",
       "    <tr style=\"text-align: right;\">\n",
       "      <th></th>\n",
       "      <th>CourseId</th>\n",
       "      <th>StudentId</th>\n",
       "      <th>degree</th>\n",
       "    </tr>\n",
       "  </thead>\n",
       "  <tbody>\n",
       "    <tr>\n",
       "      <th>0</th>\n",
       "      <td>10.0</td>\n",
       "      <td>1.0</td>\n",
       "      <td>86.419914</td>\n",
       "    </tr>\n",
       "    <tr>\n",
       "      <th>1</th>\n",
       "      <td>10.0</td>\n",
       "      <td>1.0</td>\n",
       "      <td>86.419914</td>\n",
       "    </tr>\n",
       "    <tr>\n",
       "      <th>2</th>\n",
       "      <td>10.0</td>\n",
       "      <td>1.0</td>\n",
       "      <td>86.419914</td>\n",
       "    </tr>\n",
       "    <tr>\n",
       "      <th>3</th>\n",
       "      <td>10.0</td>\n",
       "      <td>1.0</td>\n",
       "      <td>86.419914</td>\n",
       "    </tr>\n",
       "    <tr>\n",
       "      <th>4</th>\n",
       "      <td>11.0</td>\n",
       "      <td>1.0</td>\n",
       "      <td>79.381125</td>\n",
       "    </tr>\n",
       "  </tbody>\n",
       "</table>\n",
       "</div>"
      ],
      "text/plain": [
       "   CourseId  StudentId     degree\n",
       "0      10.0        1.0  86.419914\n",
       "1      10.0        1.0  86.419914\n",
       "2      10.0        1.0  86.419914\n",
       "3      10.0        1.0  86.419914\n",
       "4      11.0        1.0  79.381125"
      ]
     },
     "execution_count": 5,
     "metadata": {},
     "output_type": "execute_result"
    }
   ],
   "source": [
    "classrooms = pd.read_sql(\"SELECT * FROM Classrooms\",conn)\n",
    "classrooms.head()\n",
    "#classrooms.describe()\n",
    "#classrooms.dtypes"
   ]
  },
  {
   "cell_type": "code",
   "execution_count": 6,
   "metadata": {},
   "outputs": [
    {
     "data": {
      "text/plain": [
       "3016"
      ]
     },
     "execution_count": 6,
     "metadata": {},
     "output_type": "execute_result"
    }
   ],
   "source": [
    "len(classrooms)"
   ]
  },
  {
   "cell_type": "code",
   "execution_count": 7,
   "metadata": {},
   "outputs": [
    {
     "data": {
      "text/html": [
       "<div>\n",
       "<style scoped>\n",
       "    .dataframe tbody tr th:only-of-type {\n",
       "        vertical-align: middle;\n",
       "    }\n",
       "\n",
       "    .dataframe tbody tr th {\n",
       "        vertical-align: top;\n",
       "    }\n",
       "\n",
       "    .dataframe thead th {\n",
       "        text-align: right;\n",
       "    }\n",
       "</style>\n",
       "<table border=\"1\" class=\"dataframe\">\n",
       "  <thead>\n",
       "    <tr style=\"text-align: right;\">\n",
       "      <th></th>\n",
       "      <th>DepartmentId</th>\n",
       "      <th>DepartmentName</th>\n",
       "    </tr>\n",
       "  </thead>\n",
       "  <tbody>\n",
       "    <tr>\n",
       "      <th>0</th>\n",
       "      <td>1.0</td>\n",
       "      <td>English</td>\n",
       "    </tr>\n",
       "    <tr>\n",
       "      <th>1</th>\n",
       "      <td>2.0</td>\n",
       "      <td>Science</td>\n",
       "    </tr>\n",
       "    <tr>\n",
       "      <th>2</th>\n",
       "      <td>3.0</td>\n",
       "      <td>Arts</td>\n",
       "    </tr>\n",
       "    <tr>\n",
       "      <th>3</th>\n",
       "      <td>4.0</td>\n",
       "      <td>Sport</td>\n",
       "    </tr>\n",
       "  </tbody>\n",
       "</table>\n",
       "</div>"
      ],
      "text/plain": [
       "   DepartmentId DepartmentName\n",
       "0           1.0        English\n",
       "1           2.0        Science\n",
       "2           3.0           Arts\n",
       "3           4.0          Sport"
      ]
     },
     "execution_count": 7,
     "metadata": {},
     "output_type": "execute_result"
    }
   ],
   "source": [
    "departments = pd.read_sql(\"SELECT * FROM Departments\",conn)\n",
    "departments.head()\n",
    "#departments.dtypes"
   ]
  },
  {
   "cell_type": "code",
   "execution_count": 8,
   "metadata": {},
   "outputs": [
    {
     "data": {
      "text/plain": [
       "4"
      ]
     },
     "execution_count": 8,
     "metadata": {},
     "output_type": "execute_result"
    }
   ],
   "source": [
    "len(departments)"
   ]
  },
  {
   "cell_type": "code",
   "execution_count": 9,
   "metadata": {},
   "outputs": [
    {
     "data": {
      "text/html": [
       "<div>\n",
       "<style scoped>\n",
       "    .dataframe tbody tr th:only-of-type {\n",
       "        vertical-align: middle;\n",
       "    }\n",
       "\n",
       "    .dataframe tbody tr th {\n",
       "        vertical-align: top;\n",
       "    }\n",
       "\n",
       "    .dataframe thead th {\n",
       "        text-align: right;\n",
       "    }\n",
       "</style>\n",
       "<table border=\"1\" class=\"dataframe\">\n",
       "  <thead>\n",
       "    <tr style=\"text-align: right;\">\n",
       "      <th></th>\n",
       "      <th>CourseId</th>\n",
       "      <th>StudentId</th>\n",
       "      <th>degree</th>\n",
       "      <th>CourseName</th>\n",
       "      <th>DepartmentID</th>\n",
       "      <th>TeacherId</th>\n",
       "      <th>DepartmentId</th>\n",
       "      <th>DepartmentName</th>\n",
       "    </tr>\n",
       "  </thead>\n",
       "  <tbody>\n",
       "    <tr>\n",
       "      <th>0</th>\n",
       "      <td>10.0</td>\n",
       "      <td>1.0</td>\n",
       "      <td>86.419914</td>\n",
       "      <td>Biology</td>\n",
       "      <td>2.0</td>\n",
       "      <td>3.0</td>\n",
       "      <td>2.0</td>\n",
       "      <td>Science</td>\n",
       "    </tr>\n",
       "    <tr>\n",
       "      <th>1</th>\n",
       "      <td>10.0</td>\n",
       "      <td>1.0</td>\n",
       "      <td>86.419914</td>\n",
       "      <td>Biology</td>\n",
       "      <td>2.0</td>\n",
       "      <td>3.0</td>\n",
       "      <td>2.0</td>\n",
       "      <td>Science</td>\n",
       "    </tr>\n",
       "    <tr>\n",
       "      <th>2</th>\n",
       "      <td>10.0</td>\n",
       "      <td>1.0</td>\n",
       "      <td>86.419914</td>\n",
       "      <td>Biology</td>\n",
       "      <td>2.0</td>\n",
       "      <td>3.0</td>\n",
       "      <td>2.0</td>\n",
       "      <td>Science</td>\n",
       "    </tr>\n",
       "    <tr>\n",
       "      <th>3</th>\n",
       "      <td>10.0</td>\n",
       "      <td>1.0</td>\n",
       "      <td>86.419914</td>\n",
       "      <td>Biology</td>\n",
       "      <td>2.0</td>\n",
       "      <td>3.0</td>\n",
       "      <td>2.0</td>\n",
       "      <td>Science</td>\n",
       "    </tr>\n",
       "    <tr>\n",
       "      <th>4</th>\n",
       "      <td>11.0</td>\n",
       "      <td>1.0</td>\n",
       "      <td>79.381125</td>\n",
       "      <td>Genetics</td>\n",
       "      <td>2.0</td>\n",
       "      <td>19.0</td>\n",
       "      <td>2.0</td>\n",
       "      <td>Science</td>\n",
       "    </tr>\n",
       "  </tbody>\n",
       "</table>\n",
       "</div>"
      ],
      "text/plain": [
       "   CourseId  StudentId     degree CourseName  DepartmentID  TeacherId  \\\n",
       "0      10.0        1.0  86.419914    Biology           2.0        3.0   \n",
       "1      10.0        1.0  86.419914    Biology           2.0        3.0   \n",
       "2      10.0        1.0  86.419914    Biology           2.0        3.0   \n",
       "3      10.0        1.0  86.419914    Biology           2.0        3.0   \n",
       "4      11.0        1.0  79.381125   Genetics           2.0       19.0   \n",
       "\n",
       "   DepartmentId DepartmentName  \n",
       "0           2.0        Science  \n",
       "1           2.0        Science  \n",
       "2           2.0        Science  \n",
       "3           2.0        Science  \n",
       "4           2.0        Science  "
      ]
     },
     "execution_count": 9,
     "metadata": {},
     "output_type": "execute_result"
    }
   ],
   "source": [
    "classcourse=pd.merge(classrooms, courses, how='left', on=['CourseId'])\n",
    "classcourse.head()\n",
    "classcoursesep=pd.merge(classcourse,departments, how='left', left_on='DepartmentID', right_on='DepartmentId')\n",
    "classcoursesep.head()\n",
    "#coursedep=pd.merge(courses,departments, how='left', left_on='DepartmentID', right_on='DepartmentId')\n",
    "#coursedep.head()\n"
   ]
  },
  {
   "cell_type": "code",
   "execution_count": 10,
   "metadata": {},
   "outputs": [
    {
     "data": {
      "text/plain": [
       "3016"
      ]
     },
     "execution_count": 10,
     "metadata": {},
     "output_type": "execute_result"
    }
   ],
   "source": [
    "len(classcoursesep)"
   ]
  },
  {
   "cell_type": "code",
   "execution_count": null,
   "metadata": {},
   "outputs": [],
   "source": []
  },
  {
   "cell_type": "markdown",
   "metadata": {},
   "source": [
    "# Questions\n",
    " \n",
    " \n",
    "## Q1. Count the number of students on each department"
   ]
  },
  {
   "cell_type": "code",
   "execution_count": 11,
   "metadata": {},
   "outputs": [
    {
     "name": "stdout",
     "output_type": "stream",
     "text": [
      "DepartmentName\n",
      "Arts       137\n",
      "English     84\n",
      "Science    200\n",
      "Sport       81\n",
      "Name: StudentId, dtype: int64\n"
     ]
    }
   ],
   "source": [
    "result1=classcoursesep.groupby('DepartmentName').StudentId.nunique()\n",
    "print(result1)"
   ]
  },
  {
   "cell_type": "markdown",
   "metadata": {},
   "source": [
    "## Q2. How many students have each course of the English department and the total number of students in the department?"
   ]
  },
  {
   "cell_type": "code",
   "execution_count": 12,
   "metadata": {},
   "outputs": [
    {
     "name": "stdout",
     "output_type": "stream",
     "text": [
      "CourseName\n",
      "Advanced English        24\n",
      "English Begginers       32\n",
      "Proffesional English    38\n",
      "Name: StudentId, dtype: int64\n"
     ]
    }
   ],
   "source": [
    "classcoursesep1=classcoursesep.copy()\n",
    "classcoursesep1.head()\n",
    "result2=classcoursesep1[classcoursesep1.DepartmentName=='English']\n",
    "result21=result2.groupby('CourseName').StudentId.nunique()\n",
    "print(result21)\n"
   ]
  },
  {
   "cell_type": "code",
   "execution_count": 13,
   "metadata": {},
   "outputs": [
    {
     "name": "stdout",
     "output_type": "stream",
     "text": [
      "84\n"
     ]
    }
   ],
   "source": [
    "classcoursesep1=classcoursesep.copy()\n",
    "classcoursesep1.head()\n",
    "result2=classcoursesep1[classcoursesep1.DepartmentName=='English']\n",
    "result22=result2.StudentId.nunique()\n",
    "print(result22)\n"
   ]
  },
  {
   "cell_type": "markdown",
   "metadata": {},
   "source": [
    "## Q3. How many small (<22 students) and large (22+ students) classrooms are needed for the Science department?"
   ]
  },
  {
   "cell_type": "code",
   "execution_count": 14,
   "metadata": {},
   "outputs": [
    {
     "data": {
      "text/html": [
       "<div>\n",
       "<style scoped>\n",
       "    .dataframe tbody tr th:only-of-type {\n",
       "        vertical-align: middle;\n",
       "    }\n",
       "\n",
       "    .dataframe tbody tr th {\n",
       "        vertical-align: top;\n",
       "    }\n",
       "\n",
       "    .dataframe thead tr th {\n",
       "        text-align: left;\n",
       "    }\n",
       "\n",
       "    .dataframe thead tr:last-of-type th {\n",
       "        text-align: right;\n",
       "    }\n",
       "</style>\n",
       "<table border=\"1\" class=\"dataframe\">\n",
       "  <thead>\n",
       "    <tr>\n",
       "      <th></th>\n",
       "      <th>StudentId</th>\n",
       "    </tr>\n",
       "    <tr>\n",
       "      <th></th>\n",
       "      <th>count</th>\n",
       "    </tr>\n",
       "    <tr>\n",
       "      <th>Class_Size_Cat</th>\n",
       "      <th></th>\n",
       "    </tr>\n",
       "  </thead>\n",
       "  <tbody>\n",
       "    <tr>\n",
       "      <th>Big</th>\n",
       "      <td>10</td>\n",
       "    </tr>\n",
       "    <tr>\n",
       "      <th>Small</th>\n",
       "      <td>6</td>\n",
       "    </tr>\n",
       "  </tbody>\n",
       "</table>\n",
       "</div>"
      ],
      "text/plain": [
       "               StudentId\n",
       "                   count\n",
       "Class_Size_Cat          \n",
       "Big                   10\n",
       "Small                  6"
      ]
     },
     "execution_count": 14,
     "metadata": {},
     "output_type": "execute_result"
    }
   ],
   "source": [
    "classcoursesep3=classcoursesep.copy()\n",
    "result3=classcoursesep3[classcoursesep3.DepartmentName=='Science']\n",
    "result31=result3.groupby('CourseName').StudentId.nunique()\n",
    "df3=pd.DataFrame(result31)\n",
    "df3['Class_Size_Cat'] = 'Small'\n",
    "df3.loc[(df3['StudentId']>22),'Class_Size_Cat']='Big'\n",
    "df3.groupby('Class_Size_Cat').agg({'StudentId':['count']})\n"
   ]
  },
  {
   "cell_type": "markdown",
   "metadata": {},
   "source": [
    "## Q4. A feminist student claims that there are more male than female in the College. Justify if the argument is correct"
   ]
  },
  {
   "cell_type": "code",
   "execution_count": 15,
   "metadata": {},
   "outputs": [
    {
     "name": "stdout",
     "output_type": "stream",
     "text": [
      "Gender\n",
      "F    165\n",
      "M    115\n",
      "Name: StudentId, dtype: int64\n"
     ]
    }
   ],
   "source": [
    "students = pd.read_sql(\"SELECT * FROM Students\",conn)\n",
    "students.head()\n",
    "result4=students.groupby('Gender').StudentId.nunique()\n",
    "print(result4)"
   ]
  },
  {
   "cell_type": "markdown",
   "metadata": {},
   "source": [
    "## Q5. For which courses the percentage of male/female students is over 70%?"
   ]
  },
  {
   "cell_type": "code",
   "execution_count": 26,
   "metadata": {},
   "outputs": [
    {
     "ename": "SyntaxError",
     "evalue": "invalid syntax (<ipython-input-26-455fe31eb78e>, line 8)",
     "output_type": "error",
     "traceback": [
      "\u001b[1;36m  File \u001b[1;32m\"<ipython-input-26-455fe31eb78e>\"\u001b[1;36m, line \u001b[1;32m8\u001b[0m\n\u001b[1;33m    df5.loc([F_CAT:['mean']]>0.7)\u001b[0m\n\u001b[1;37m                  ^\u001b[0m\n\u001b[1;31mSyntaxError\u001b[0m\u001b[1;31m:\u001b[0m invalid syntax\n"
     ]
    }
   ],
   "source": [
    "classcoursestu=pd.merge(classcourse,students, how='left', on='StudentId')\n",
    "classcoursestu['F_CAT'] = 0\n",
    "classcoursestu.loc[(classcoursestu['Gender']=='F'),'F_CAT']=1\n",
    "result5=classcoursestu.groupby(['CourseName']).agg({\"F_CAT\":['count',sum,'mean']})\n",
    "print(result5)\n",
    "df5=pd.DataFrame(result5)\n",
    "df5.head()\n",
    "df5.loc(['mean']>'0.7')\n",
    "#df5['Average'] = df5.count / df5.sum\n",
    "print(df5)\n",
    "\n",
    "#print (df5.reset_index().sort_values([''mean''],ascending=False).set_index([''mean'']))\n",
    "#test = df5.sort_values(['mean'], ascending=[False])\n",
    "#test = df.sort_values(['mean'], ascending=[0])\n",
    "\n",
    "\n",
    "### יש להביא רק את אלה שעבורם הממוצע גדול מ-0.7- להשלים\n",
    "#df5[df5.mean>0.70000]\n",
    "#df5.head()\n",
    "###להשלים\n",
    "\n",
    "\n",
    "#result5[result5.F_CAT:('mean']})>\"0.7\"]\n",
    "#result51=result5[result5.mean>0.7]\n",
    "#print(result51)\n",
    "#print(result5.loc[(result5['mean']>0.7)\n",
    "#result5.loc[(result5['mean']>0.7)\n",
    "#classcoursestu.head()\n",
    "#len(classcoursestu)\n"
   ]
  },
  {
   "cell_type": "markdown",
   "metadata": {},
   "source": [
    "## Q6. For each department, how many students passed with a grades over 80?"
   ]
  },
  {
   "cell_type": "code",
   "execution_count": 22,
   "metadata": {},
   "outputs": [
    {
     "name": "stdout",
     "output_type": "stream",
     "text": [
      "DepartmentName\n",
      "Arts        61\n",
      "English     40\n",
      "Science    122\n",
      "Sport       39\n",
      "Name: StudentId, dtype: int64\n"
     ]
    }
   ],
   "source": [
    "classcoursesep6=classcoursesep.copy()\n",
    "classcoursesep6.head()\n",
    "result6=classcoursesep6[classcoursesep6.degree>80]\n",
    "result61=result6.groupby('DepartmentName').StudentId.nunique()\n",
    "print(result61)\n"
   ]
  },
  {
   "cell_type": "markdown",
   "metadata": {},
   "source": [
    "## Q7. For each department, how many students passed with a grades under 60?"
   ]
  },
  {
   "cell_type": "code",
   "execution_count": 23,
   "metadata": {},
   "outputs": [
    {
     "name": "stdout",
     "output_type": "stream",
     "text": [
      "DepartmentName\n",
      "Arts       3\n",
      "English    2\n",
      "Science    7\n",
      "Sport      1\n",
      "Name: StudentId, dtype: int64\n"
     ]
    }
   ],
   "source": [
    "classcoursesep7=classcoursesep.copy()\n",
    "classcoursesep7.head()\n",
    "result7=classcoursesep7[classcoursesep7.degree<60]\n",
    "result71=result7.groupby('DepartmentName').StudentId.nunique()\n",
    "print(result71)"
   ]
  },
  {
   "cell_type": "markdown",
   "metadata": {},
   "source": [
    "## Q8. Rate the teachers by their average student's grades (in descending order)."
   ]
  },
  {
   "cell_type": "code",
   "execution_count": 25,
   "metadata": {},
   "outputs": [
    {
     "name": "stdout",
     "output_type": "stream",
     "text": [
      "                       degree\n",
      "                         mean\n",
      "Teach_name                   \n",
      " Alexander Watts    75.668139\n",
      " Amanda Dworkin     76.899881\n",
      " Caroline Knuesel   75.955453\n",
      " Conor Mckittrick   78.699492\n",
      " Daniel Bland       78.908281\n",
      " Darick Hess        81.432703\n",
      " Ernest Stoyanov    78.316150\n",
      " Heather Metcalf    80.440242\n",
      " Jeffrey Batzel     76.737973\n",
      " Jordyn Baron       80.729494\n",
      " Kaitlin Delude     76.765296\n",
      " Katerina Young     77.406852\n",
      " Kaylea Monzingo    79.365537\n",
      " Keegan Price       78.814631\n",
      " Mackenzie Olsen    78.383348\n",
      " Madison Batan      77.743575\n",
      " Maxwell Romkee     78.673509\n",
      " Mikayla Russell    77.134323\n",
      " Robert Aivazian    76.516464\n",
      " Tanner Fitzsimons  78.443395\n",
      " Terran Beaty       78.495479\n",
      " Zachary Healy      79.365867\n"
     ]
    }
   ],
   "source": [
    "teachers = pd.read_sql(\"SELECT * FROM Teachers\",conn)\n",
    "teachers['Teach_name'] = teachers['FirstName']+\" \" +teachers['LastName']\n",
    "teachers.head()\n",
    "#len(teachers)\n",
    "\n",
    "classcourse=pd.merge(classrooms, courses, how='left', on=['CourseId'])\n",
    "classcourse.head()\n",
    "classcourseteach=pd.merge(classcourse,teachers, how='left', on='TeacherId')\n",
    "classcourseteach.head()\n",
    "result8=classcourseteach.groupby(['Teach_name']).agg({'degree':['mean']})\n",
    "df8=pd.DataFrame(result8)\n",
    "#df8.columns\n",
    "#df8.sort_values(by=['mean'])\n",
    "print(df8)\n",
    "\n",
    "### לסנן את הטבלה בסדר יורד-להשלים\n",
    "\n",
    "\n",
    "#result8=classcourseteach.groupby(['CourseName','TeacherId','grade']).StudentId.nunique()\n",
    "#df8=pd.DataFrame(result8)\n",
    "#result8.head()\n",
    "\n"
   ]
  },
  {
   "cell_type": "markdown",
   "metadata": {},
   "source": [
    "## Q9. Create a dataframe showing the courses, departments they are associated with, the teacher in each course, and the number of students enrolled in the course (for each course, department and teacher show the names)."
   ]
  },
  {
   "cell_type": "code",
   "execution_count": 26,
   "metadata": {},
   "outputs": [
    {
     "name": "stdout",
     "output_type": "stream",
     "text": [
      "                                                        StudentId\n",
      "DepartmentName CourseName           Teach_name                   \n",
      "Arts           History of Arts       Caroline Knuesel          32\n",
      "               Literature            Daniel Bland              39\n",
      "               Musicology            Madison Batan             30\n",
      "               Painting              Katerina Young            34\n",
      "               Sculpture             Robert Aivazian           23\n",
      "               Theater               Ernest Stoyanov           26\n",
      "English        Advanced English      Conor Mckittrick          24\n",
      "               English Begginers     Conor Mckittrick          32\n",
      "               Proffesional English  Conor Mckittrick          38\n",
      "Science        Algebra               Alexander Watts           12\n",
      "               Biology               Jordyn Baron              36\n",
      "               Chemistry             Jeffrey Batzel            23\n",
      "               Computer Science      Kaylea Monzingo           38\n",
      "               Data Science          Mackenzie Olsen           30\n",
      "               Genetics              Terran Beaty              37\n",
      "               Geometry              Alexander Watts           13\n",
      "               Java                  Darick Hess               16\n",
      "               Matematics Advanced   Alexander Watts           10\n",
      "               Mathematics 101       Amanda Dworkin            18\n",
      "               Neurobiology          Terran Beaty              24\n",
      "               Physics               Alexander Watts           12\n",
      "               Python                Terran Beaty              23\n",
      "               R                     Tanner Fitzsimons         33\n",
      "               SQL                   Zachary Healy             24\n",
      "               Statistics            Heather Metcalf           24\n",
      "Sport          Gymnastics            Maxwell Romkee            22\n",
      "               Swimming              Mikayla Russell           18\n",
      "               Tenis                 Keegan Price              18\n",
      "               Volleyball            Kaitlin Delude            36\n"
     ]
    },
    {
     "data": {
      "text/html": [
       "<div>\n",
       "<style scoped>\n",
       "    .dataframe tbody tr th:only-of-type {\n",
       "        vertical-align: middle;\n",
       "    }\n",
       "\n",
       "    .dataframe tbody tr th {\n",
       "        vertical-align: top;\n",
       "    }\n",
       "\n",
       "    .dataframe thead th {\n",
       "        text-align: right;\n",
       "    }\n",
       "</style>\n",
       "<table border=\"1\" class=\"dataframe\">\n",
       "  <thead>\n",
       "    <tr style=\"text-align: right;\">\n",
       "      <th></th>\n",
       "      <th></th>\n",
       "      <th></th>\n",
       "      <th>StudentId</th>\n",
       "    </tr>\n",
       "    <tr>\n",
       "      <th>DepartmentName</th>\n",
       "      <th>CourseName</th>\n",
       "      <th>Teach_name</th>\n",
       "      <th></th>\n",
       "    </tr>\n",
       "  </thead>\n",
       "  <tbody>\n",
       "    <tr>\n",
       "      <th rowspan=\"5\" valign=\"top\">Arts</th>\n",
       "      <th>History of Arts</th>\n",
       "      <th>Caroline Knuesel</th>\n",
       "      <td>32</td>\n",
       "    </tr>\n",
       "    <tr>\n",
       "      <th>Literature</th>\n",
       "      <th>Daniel Bland</th>\n",
       "      <td>39</td>\n",
       "    </tr>\n",
       "    <tr>\n",
       "      <th>Musicology</th>\n",
       "      <th>Madison Batan</th>\n",
       "      <td>30</td>\n",
       "    </tr>\n",
       "    <tr>\n",
       "      <th>Painting</th>\n",
       "      <th>Katerina Young</th>\n",
       "      <td>34</td>\n",
       "    </tr>\n",
       "    <tr>\n",
       "      <th>Sculpture</th>\n",
       "      <th>Robert Aivazian</th>\n",
       "      <td>23</td>\n",
       "    </tr>\n",
       "  </tbody>\n",
       "</table>\n",
       "</div>"
      ],
      "text/plain": [
       "                                                  StudentId\n",
       "DepartmentName CourseName      Teach_name                  \n",
       "Arts           History of Arts  Caroline Knuesel         32\n",
       "               Literature       Daniel Bland             39\n",
       "               Musicology       Madison Batan            30\n",
       "               Painting         Katerina Young           34\n",
       "               Sculpture        Robert Aivazian          23"
      ]
     },
     "execution_count": 26,
     "metadata": {},
     "output_type": "execute_result"
    }
   ],
   "source": [
    "###    Dep-Course-Teacher-#students\n",
    "classcourse=pd.merge(classrooms, courses, how='left', on=['CourseId'])\n",
    "classcourse.head()\n",
    "classcoursesep=pd.merge(classcourse,departments, how='left', left_on='DepartmentID', right_on='DepartmentId')\n",
    "classcoursesep.head()\n",
    "classcoursedepteach=pd.merge(classcoursesep,teachers, how='left', on='TeacherId')\n",
    "classcoursedepteach.head()\n",
    "result9=classcoursedepteach.groupby(['DepartmentName','CourseName','Teach_name']).StudentId.nunique()\n",
    "df9=pd.DataFrame(result9)\n",
    "print(df9)\n",
    "df9.head()\n",
    "\n"
   ]
  },
  {
   "cell_type": "markdown",
   "metadata": {},
   "source": [
    "## Q10. Create a dataframe showing the students, the number of courses they take, the average of the grades per class, and their overall average (for each student show the student name)."
   ]
  },
  {
   "cell_type": "code",
   "execution_count": 27,
   "metadata": {},
   "outputs": [
    {
     "data": {
      "text/html": [
       "<div>\n",
       "<style scoped>\n",
       "    .dataframe tbody tr th:only-of-type {\n",
       "        vertical-align: middle;\n",
       "    }\n",
       "\n",
       "    .dataframe tbody tr th {\n",
       "        vertical-align: top;\n",
       "    }\n",
       "\n",
       "    .dataframe thead th {\n",
       "        text-align: right;\n",
       "    }\n",
       "</style>\n",
       "<table border=\"1\" class=\"dataframe\">\n",
       "  <thead>\n",
       "    <tr style=\"text-align: right;\">\n",
       "      <th></th>\n",
       "      <th></th>\n",
       "      <th></th>\n",
       "      <th></th>\n",
       "      <th>StudentId</th>\n",
       "    </tr>\n",
       "    <tr>\n",
       "      <th>Stu_name</th>\n",
       "      <th>DepartmentName</th>\n",
       "      <th>CourseName</th>\n",
       "      <th>degree</th>\n",
       "      <th></th>\n",
       "    </tr>\n",
       "  </thead>\n",
       "  <tbody>\n",
       "    <tr>\n",
       "      <th rowspan=\"4\" valign=\"top\">Aaron Dejoy</th>\n",
       "      <th>Arts</th>\n",
       "      <th>Sculpture</th>\n",
       "      <th>73.889151</th>\n",
       "      <td>1</td>\n",
       "    </tr>\n",
       "    <tr>\n",
       "      <th rowspan=\"2\" valign=\"top\">Science</th>\n",
       "      <th>Biology</th>\n",
       "      <th>57.978007</th>\n",
       "      <td>1</td>\n",
       "    </tr>\n",
       "    <tr>\n",
       "      <th>Python</th>\n",
       "      <th>69.148033</th>\n",
       "      <td>1</td>\n",
       "    </tr>\n",
       "    <tr>\n",
       "      <th>Sport</th>\n",
       "      <th>Gymnastics</th>\n",
       "      <th>83.765738</th>\n",
       "      <td>1</td>\n",
       "    </tr>\n",
       "    <tr>\n",
       "      <th>Abbey Singley</th>\n",
       "      <th>English</th>\n",
       "      <th>Advanced English</th>\n",
       "      <th>80.199500</th>\n",
       "      <td>1</td>\n",
       "    </tr>\n",
       "  </tbody>\n",
       "</table>\n",
       "</div>"
      ],
      "text/plain": [
       "                                                          StudentId\n",
       "Stu_name       DepartmentName CourseName       degree              \n",
       " Aaron Dejoy   Arts           Sculpture        73.889151          1\n",
       "               Science        Biology          57.978007          1\n",
       "                              Python           69.148033          1\n",
       "               Sport          Gymnastics       83.765738          1\n",
       " Abbey Singley English        Advanced English 80.199500          1"
      ]
     },
     "execution_count": 27,
     "metadata": {},
     "output_type": "execute_result"
    }
   ],
   "source": [
    "###    Student ID-Student NAME - # COURSE - AVE.grade by Dep.\n",
    "students = pd.read_sql(\"SELECT * FROM Students\",conn)\n",
    "students['Stu_name'] = students['FirstName']+\" \" +students['LastName']\n",
    "students.head()\n",
    "\n",
    "classcourse=pd.merge(classrooms, courses, how='left', on=['CourseId'])\n",
    "classcourse.head()\n",
    "classcoursesep=pd.merge(classcourse,departments, how='left', left_on='DepartmentID', right_on='DepartmentId')\n",
    "classcoursesep.head()\n",
    "classcoursesdepstu=pd.merge(classcoursesep,students, how='left', on='StudentId')\n",
    "classcoursesdepstu.head()\n",
    "result10=classcoursesdepstu.groupby(['Stu_name','DepartmentName','CourseName','degree']).StudentId.nunique()\n",
    "df10=pd.DataFrame(result10)\n",
    "df10.head()\n",
    "\n",
    "### להשלים - לייצר ממוצעים + ספירה ברמת מחלקה + מוצע כללי\n",
    "\n",
    "#result101=df10.groupby(['Stu_name','DepartmentName']).agg({\"degree\":['mean'],\"CourseName\":['count']})\n",
    "#print(result101)\n",
    "\n",
    "#result10=classcoursesdepstu.groupby(['Stu_name','DepartmentName']).agg({\"degree\":['mean'],\"CourseName\":['count']})\n",
    "#df10=pd.DataFrame(result10)\n",
    "#df10.head()\n",
    "\n",
    "#result10=classcoursesdepstu.groupby(['Stu_name','DepartmentName','CourseName','degree']).StudentId.nunique()\n",
    "#df10=pd.DataFrame(result10)\n",
    "#df10.head()\n",
    "#result101=df10.groupby(['Stu_name','DepartmentName']).agg({\"degree\":['mean'],\"CourseName\":['count']})\n",
    "#print(result101)"
   ]
  },
  {
   "cell_type": "code",
   "execution_count": null,
   "metadata": {},
   "outputs": [],
   "source": []
  }
 ],
 "metadata": {
  "kernelspec": {
   "display_name": "Python 3",
   "language": "python",
   "name": "python3"
  },
  "language_info": {
   "codemirror_mode": {
    "name": "ipython",
    "version": 3
   },
   "file_extension": ".py",
   "mimetype": "text/x-python",
   "name": "python",
   "nbconvert_exporter": "python",
   "pygments_lexer": "ipython3",
   "version": "3.7.6"
  }
 },
 "nbformat": 4,
 "nbformat_minor": 2
}
