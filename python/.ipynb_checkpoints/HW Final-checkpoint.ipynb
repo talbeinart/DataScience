{
 "cells": [
  {
   "cell_type": "markdown",
   "metadata": {},
   "source": [
    "# Python Intro - Final Exercise\n"
   ]
  },
  {
   "cell_type": "code",
   "execution_count": 1,
   "metadata": {},
   "outputs": [],
   "source": [
    "import pyodbc\n",
    "import pandas as pd\n",
    "import numpy as np"
   ]
  },
  {
   "cell_type": "code",
   "execution_count": 2,
   "metadata": {},
   "outputs": [],
   "source": [
    "### In windows, Using a ODBC DNS (predefined connection name)\n",
    "##conn = pyodbc.connect('DSN=COLLEGE;Trusted_Connection=yes;')\n",
    "conn=pyodbc.connect(\"Driver={SQL Server Native Client 11.0};\"\n",
    "                      \"Server=EYAL-PC;\"\n",
    "                      \"Database=COLLEGE;\"\n",
    "                      \"Trusted_Connection=yes;\")\n"
   ]
  },
  {
   "cell_type": "code",
   "execution_count": 3,
   "metadata": {},
   "outputs": [
    {
     "data": {
      "text/html": [
       "<div>\n",
       "<style scoped>\n",
       "    .dataframe tbody tr th:only-of-type {\n",
       "        vertical-align: middle;\n",
       "    }\n",
       "\n",
       "    .dataframe tbody tr th {\n",
       "        vertical-align: top;\n",
       "    }\n",
       "\n",
       "    .dataframe thead th {\n",
       "        text-align: right;\n",
       "    }\n",
       "</style>\n",
       "<table border=\"1\" class=\"dataframe\">\n",
       "  <thead>\n",
       "    <tr style=\"text-align: right;\">\n",
       "      <th></th>\n",
       "      <th>CourseId</th>\n",
       "      <th>CourseName</th>\n",
       "      <th>DepartmentID</th>\n",
       "      <th>TeacherId</th>\n",
       "    </tr>\n",
       "  </thead>\n",
       "  <tbody>\n",
       "    <tr>\n",
       "      <th>0</th>\n",
       "      <td>1.0</td>\n",
       "      <td>English Begginers</td>\n",
       "      <td>1.0</td>\n",
       "      <td>15.0</td>\n",
       "    </tr>\n",
       "    <tr>\n",
       "      <th>1</th>\n",
       "      <td>2.0</td>\n",
       "      <td>Advanced English</td>\n",
       "      <td>1.0</td>\n",
       "      <td>15.0</td>\n",
       "    </tr>\n",
       "    <tr>\n",
       "      <th>2</th>\n",
       "      <td>3.0</td>\n",
       "      <td>Proffesional English</td>\n",
       "      <td>1.0</td>\n",
       "      <td>15.0</td>\n",
       "    </tr>\n",
       "    <tr>\n",
       "      <th>3</th>\n",
       "      <td>4.0</td>\n",
       "      <td>Mathematics 101</td>\n",
       "      <td>2.0</td>\n",
       "      <td>2.0</td>\n",
       "    </tr>\n",
       "    <tr>\n",
       "      <th>4</th>\n",
       "      <td>5.0</td>\n",
       "      <td>Matematics Advanced</td>\n",
       "      <td>2.0</td>\n",
       "      <td>13.0</td>\n",
       "    </tr>\n",
       "  </tbody>\n",
       "</table>\n",
       "</div>"
      ],
      "text/plain": [
       "   CourseId            CourseName  DepartmentID  TeacherId\n",
       "0       1.0     English Begginers           1.0       15.0\n",
       "1       2.0      Advanced English           1.0       15.0\n",
       "2       3.0  Proffesional English           1.0       15.0\n",
       "3       4.0       Mathematics 101           2.0        2.0\n",
       "4       5.0   Matematics Advanced           2.0       13.0"
      ]
     },
     "execution_count": 3,
     "metadata": {},
     "output_type": "execute_result"
    }
   ],
   "source": [
    "courses = pd.read_sql(\"SELECT * FROM Courses\",conn)\n",
    "courses.head()\n",
    "#courses.dtypes"
   ]
  },
  {
   "cell_type": "code",
   "execution_count": 4,
   "metadata": {},
   "outputs": [
    {
     "data": {
      "text/plain": [
       "31"
      ]
     },
     "execution_count": 4,
     "metadata": {},
     "output_type": "execute_result"
    }
   ],
   "source": [
    "len(courses)"
   ]
  },
  {
   "cell_type": "code",
   "execution_count": 5,
   "metadata": {},
   "outputs": [
    {
     "data": {
      "text/html": [
       "<div>\n",
       "<style scoped>\n",
       "    .dataframe tbody tr th:only-of-type {\n",
       "        vertical-align: middle;\n",
       "    }\n",
       "\n",
       "    .dataframe tbody tr th {\n",
       "        vertical-align: top;\n",
       "    }\n",
       "\n",
       "    .dataframe thead th {\n",
       "        text-align: right;\n",
       "    }\n",
       "</style>\n",
       "<table border=\"1\" class=\"dataframe\">\n",
       "  <thead>\n",
       "    <tr style=\"text-align: right;\">\n",
       "      <th></th>\n",
       "      <th>CourseId</th>\n",
       "      <th>StudentId</th>\n",
       "      <th>degree</th>\n",
       "    </tr>\n",
       "  </thead>\n",
       "  <tbody>\n",
       "    <tr>\n",
       "      <th>0</th>\n",
       "      <td>10.0</td>\n",
       "      <td>1.0</td>\n",
       "      <td>86.419914</td>\n",
       "    </tr>\n",
       "    <tr>\n",
       "      <th>1</th>\n",
       "      <td>10.0</td>\n",
       "      <td>1.0</td>\n",
       "      <td>86.419914</td>\n",
       "    </tr>\n",
       "    <tr>\n",
       "      <th>2</th>\n",
       "      <td>10.0</td>\n",
       "      <td>1.0</td>\n",
       "      <td>86.419914</td>\n",
       "    </tr>\n",
       "    <tr>\n",
       "      <th>3</th>\n",
       "      <td>10.0</td>\n",
       "      <td>1.0</td>\n",
       "      <td>86.419914</td>\n",
       "    </tr>\n",
       "    <tr>\n",
       "      <th>4</th>\n",
       "      <td>11.0</td>\n",
       "      <td>1.0</td>\n",
       "      <td>79.381125</td>\n",
       "    </tr>\n",
       "  </tbody>\n",
       "</table>\n",
       "</div>"
      ],
      "text/plain": [
       "   CourseId  StudentId     degree\n",
       "0      10.0        1.0  86.419914\n",
       "1      10.0        1.0  86.419914\n",
       "2      10.0        1.0  86.419914\n",
       "3      10.0        1.0  86.419914\n",
       "4      11.0        1.0  79.381125"
      ]
     },
     "execution_count": 5,
     "metadata": {},
     "output_type": "execute_result"
    }
   ],
   "source": [
    "classrooms = pd.read_sql(\"SELECT * FROM Classrooms\",conn)\n",
    "classrooms.head()\n",
    "\n",
    "#classrooms.describe()\n",
    "#classrooms.dtypes"
   ]
  },
  {
   "cell_type": "code",
   "execution_count": 6,
   "metadata": {},
   "outputs": [
    {
     "data": {
      "text/plain": [
       "3016"
      ]
     },
     "execution_count": 6,
     "metadata": {},
     "output_type": "execute_result"
    }
   ],
   "source": [
    "len(classrooms)"
   ]
  },
  {
   "cell_type": "code",
   "execution_count": 7,
   "metadata": {},
   "outputs": [
    {
     "data": {
      "text/html": [
       "<div>\n",
       "<style scoped>\n",
       "    .dataframe tbody tr th:only-of-type {\n",
       "        vertical-align: middle;\n",
       "    }\n",
       "\n",
       "    .dataframe tbody tr th {\n",
       "        vertical-align: top;\n",
       "    }\n",
       "\n",
       "    .dataframe thead th {\n",
       "        text-align: right;\n",
       "    }\n",
       "</style>\n",
       "<table border=\"1\" class=\"dataframe\">\n",
       "  <thead>\n",
       "    <tr style=\"text-align: right;\">\n",
       "      <th></th>\n",
       "      <th>DepartmentId</th>\n",
       "      <th>DepartmentName</th>\n",
       "    </tr>\n",
       "  </thead>\n",
       "  <tbody>\n",
       "    <tr>\n",
       "      <th>0</th>\n",
       "      <td>1.0</td>\n",
       "      <td>English</td>\n",
       "    </tr>\n",
       "    <tr>\n",
       "      <th>1</th>\n",
       "      <td>2.0</td>\n",
       "      <td>Science</td>\n",
       "    </tr>\n",
       "    <tr>\n",
       "      <th>2</th>\n",
       "      <td>3.0</td>\n",
       "      <td>Arts</td>\n",
       "    </tr>\n",
       "    <tr>\n",
       "      <th>3</th>\n",
       "      <td>4.0</td>\n",
       "      <td>Sport</td>\n",
       "    </tr>\n",
       "  </tbody>\n",
       "</table>\n",
       "</div>"
      ],
      "text/plain": [
       "   DepartmentId DepartmentName\n",
       "0           1.0        English\n",
       "1           2.0        Science\n",
       "2           3.0           Arts\n",
       "3           4.0          Sport"
      ]
     },
     "execution_count": 7,
     "metadata": {},
     "output_type": "execute_result"
    }
   ],
   "source": [
    "departments = pd.read_sql(\"SELECT * FROM Departments\",conn)\n",
    "departments.head()\n",
    "#departments.dtypes"
   ]
  },
  {
   "cell_type": "code",
   "execution_count": 8,
   "metadata": {},
   "outputs": [
    {
     "data": {
      "text/plain": [
       "4"
      ]
     },
     "execution_count": 8,
     "metadata": {},
     "output_type": "execute_result"
    }
   ],
   "source": [
    "len(departments)"
   ]
  },
  {
   "cell_type": "code",
   "execution_count": 9,
   "metadata": {},
   "outputs": [
    {
     "data": {
      "text/html": [
       "<div>\n",
       "<style scoped>\n",
       "    .dataframe tbody tr th:only-of-type {\n",
       "        vertical-align: middle;\n",
       "    }\n",
       "\n",
       "    .dataframe tbody tr th {\n",
       "        vertical-align: top;\n",
       "    }\n",
       "\n",
       "    .dataframe thead th {\n",
       "        text-align: right;\n",
       "    }\n",
       "</style>\n",
       "<table border=\"1\" class=\"dataframe\">\n",
       "  <thead>\n",
       "    <tr style=\"text-align: right;\">\n",
       "      <th></th>\n",
       "      <th>CourseId</th>\n",
       "      <th>StudentId</th>\n",
       "      <th>degree</th>\n",
       "      <th>CourseName</th>\n",
       "      <th>DepartmentID</th>\n",
       "      <th>TeacherId</th>\n",
       "      <th>DepartmentId</th>\n",
       "      <th>DepartmentName</th>\n",
       "    </tr>\n",
       "  </thead>\n",
       "  <tbody>\n",
       "    <tr>\n",
       "      <th>0</th>\n",
       "      <td>10.0</td>\n",
       "      <td>1.0</td>\n",
       "      <td>86.419914</td>\n",
       "      <td>Biology</td>\n",
       "      <td>2.0</td>\n",
       "      <td>3.0</td>\n",
       "      <td>2.0</td>\n",
       "      <td>Science</td>\n",
       "    </tr>\n",
       "    <tr>\n",
       "      <th>1</th>\n",
       "      <td>10.0</td>\n",
       "      <td>1.0</td>\n",
       "      <td>86.419914</td>\n",
       "      <td>Biology</td>\n",
       "      <td>2.0</td>\n",
       "      <td>3.0</td>\n",
       "      <td>2.0</td>\n",
       "      <td>Science</td>\n",
       "    </tr>\n",
       "    <tr>\n",
       "      <th>2</th>\n",
       "      <td>10.0</td>\n",
       "      <td>1.0</td>\n",
       "      <td>86.419914</td>\n",
       "      <td>Biology</td>\n",
       "      <td>2.0</td>\n",
       "      <td>3.0</td>\n",
       "      <td>2.0</td>\n",
       "      <td>Science</td>\n",
       "    </tr>\n",
       "    <tr>\n",
       "      <th>3</th>\n",
       "      <td>10.0</td>\n",
       "      <td>1.0</td>\n",
       "      <td>86.419914</td>\n",
       "      <td>Biology</td>\n",
       "      <td>2.0</td>\n",
       "      <td>3.0</td>\n",
       "      <td>2.0</td>\n",
       "      <td>Science</td>\n",
       "    </tr>\n",
       "    <tr>\n",
       "      <th>4</th>\n",
       "      <td>11.0</td>\n",
       "      <td>1.0</td>\n",
       "      <td>79.381125</td>\n",
       "      <td>Genetics</td>\n",
       "      <td>2.0</td>\n",
       "      <td>19.0</td>\n",
       "      <td>2.0</td>\n",
       "      <td>Science</td>\n",
       "    </tr>\n",
       "  </tbody>\n",
       "</table>\n",
       "</div>"
      ],
      "text/plain": [
       "   CourseId  StudentId     degree CourseName  DepartmentID  TeacherId  \\\n",
       "0      10.0        1.0  86.419914    Biology           2.0        3.0   \n",
       "1      10.0        1.0  86.419914    Biology           2.0        3.0   \n",
       "2      10.0        1.0  86.419914    Biology           2.0        3.0   \n",
       "3      10.0        1.0  86.419914    Biology           2.0        3.0   \n",
       "4      11.0        1.0  79.381125   Genetics           2.0       19.0   \n",
       "\n",
       "   DepartmentId DepartmentName  \n",
       "0           2.0        Science  \n",
       "1           2.0        Science  \n",
       "2           2.0        Science  \n",
       "3           2.0        Science  \n",
       "4           2.0        Science  "
      ]
     },
     "execution_count": 9,
     "metadata": {},
     "output_type": "execute_result"
    }
   ],
   "source": [
    "classcourse=pd.merge(classrooms, courses, how='left', on=['CourseId'])\n",
    "classcourse.head()\n",
    "classcoursesep=pd.merge(classcourse,departments, how='left', left_on='DepartmentID', right_on='DepartmentId')\n",
    "classcoursesep.head()\n",
    "#coursedep=pd.merge(courses,departments, how='left', left_on='DepartmentID', right_on='DepartmentId')\n",
    "#coursedep.head()\n"
   ]
  },
  {
   "cell_type": "code",
   "execution_count": 10,
   "metadata": {},
   "outputs": [
    {
     "data": {
      "text/plain": [
       "3016"
      ]
     },
     "execution_count": 10,
     "metadata": {},
     "output_type": "execute_result"
    }
   ],
   "source": [
    "len(classcoursesep)"
   ]
  },
  {
   "cell_type": "code",
   "execution_count": null,
   "metadata": {},
   "outputs": [],
   "source": []
  },
  {
   "cell_type": "markdown",
   "metadata": {},
   "source": [
    "# Questions\n",
    " \n",
    " \n",
    "## Q1. Count the number of students on each department"
   ]
  },
  {
   "cell_type": "code",
   "execution_count": 11,
   "metadata": {},
   "outputs": [
    {
     "name": "stdout",
     "output_type": "stream",
     "text": [
      "DepartmentName\n",
      "Arts       137\n",
      "English     84\n",
      "Science    200\n",
      "Sport       81\n",
      "Name: StudentId, dtype: int64\n"
     ]
    }
   ],
   "source": [
    "result1=classcoursesep.groupby('DepartmentName').StudentId.nunique()\n",
    "print(result1)"
   ]
  },
  {
   "cell_type": "markdown",
   "metadata": {},
   "source": [
    "## Q2. How many students have each course of the English department and the total number of students in the department?"
   ]
  },
  {
   "cell_type": "code",
   "execution_count": 12,
   "metadata": {},
   "outputs": [
    {
     "name": "stdout",
     "output_type": "stream",
     "text": [
      "CourseName\n",
      "Advanced English        24\n",
      "English Begginers       32\n",
      "Proffesional English    38\n",
      "Name: StudentId, dtype: int64\n"
     ]
    }
   ],
   "source": [
    "classcoursesep1=classcoursesep.copy()\n",
    "classcoursesep1.head()\n",
    "result2=classcoursesep1[classcoursesep1.DepartmentName=='English']\n",
    "result21=result2.groupby('CourseName').StudentId.nunique()\n",
    "print(result21)\n"
   ]
  },
  {
   "cell_type": "code",
   "execution_count": 13,
   "metadata": {},
   "outputs": [
    {
     "name": "stdout",
     "output_type": "stream",
     "text": [
      "84\n"
     ]
    }
   ],
   "source": [
    "classcoursesep1=classcoursesep.copy()\n",
    "classcoursesep1.head()\n",
    "result2=classcoursesep1[classcoursesep1.DepartmentName=='English']\n",
    "result22=result2.StudentId.nunique()\n",
    "print(result22)\n"
   ]
  },
  {
   "cell_type": "markdown",
   "metadata": {},
   "source": [
    "## Q3. How many small (<22 students) and large (22+ students) classrooms are needed for the Science department?"
   ]
  },
  {
   "cell_type": "code",
   "execution_count": 14,
   "metadata": {},
   "outputs": [
    {
     "data": {
      "text/html": [
       "<div>\n",
       "<style scoped>\n",
       "    .dataframe tbody tr th:only-of-type {\n",
       "        vertical-align: middle;\n",
       "    }\n",
       "\n",
       "    .dataframe tbody tr th {\n",
       "        vertical-align: top;\n",
       "    }\n",
       "\n",
       "    .dataframe thead tr th {\n",
       "        text-align: left;\n",
       "    }\n",
       "\n",
       "    .dataframe thead tr:last-of-type th {\n",
       "        text-align: right;\n",
       "    }\n",
       "</style>\n",
       "<table border=\"1\" class=\"dataframe\">\n",
       "  <thead>\n",
       "    <tr>\n",
       "      <th></th>\n",
       "      <th>StudentId</th>\n",
       "    </tr>\n",
       "    <tr>\n",
       "      <th></th>\n",
       "      <th>count</th>\n",
       "    </tr>\n",
       "    <tr>\n",
       "      <th>Class_Size_Cat</th>\n",
       "      <th></th>\n",
       "    </tr>\n",
       "  </thead>\n",
       "  <tbody>\n",
       "    <tr>\n",
       "      <th>Big</th>\n",
       "      <td>10</td>\n",
       "    </tr>\n",
       "    <tr>\n",
       "      <th>Small</th>\n",
       "      <td>6</td>\n",
       "    </tr>\n",
       "  </tbody>\n",
       "</table>\n",
       "</div>"
      ],
      "text/plain": [
       "               StudentId\n",
       "                   count\n",
       "Class_Size_Cat          \n",
       "Big                   10\n",
       "Small                  6"
      ]
     },
     "execution_count": 14,
     "metadata": {},
     "output_type": "execute_result"
    }
   ],
   "source": [
    "classcoursesep3=classcoursesep.copy()\n",
    "result3=classcoursesep3[classcoursesep3.DepartmentName=='Science']\n",
    "result31=result3.groupby('CourseName').StudentId.nunique()\n",
    "df3=pd.DataFrame(result31)\n",
    "df3['Class_Size_Cat'] = 'Small'\n",
    "df3.loc[(df3['StudentId']>22),'Class_Size_Cat']='Big'\n",
    "df3.groupby('Class_Size_Cat').agg({'StudentId':['count']})\n"
   ]
  },
  {
   "cell_type": "markdown",
   "metadata": {},
   "source": [
    "## Q4. A feminist student claims that there are more male than female in the College. Justify if the argument is correct"
   ]
  },
  {
   "cell_type": "code",
   "execution_count": 15,
   "metadata": {},
   "outputs": [
    {
     "name": "stdout",
     "output_type": "stream",
     "text": [
      "Gender\n",
      "F    165\n",
      "M    115\n",
      "Name: StudentId, dtype: int64\n"
     ]
    }
   ],
   "source": [
    "students = pd.read_sql(\"SELECT * FROM Students\",conn)\n",
    "students.head()\n",
    "result4=students.groupby('Gender').StudentId.nunique()\n",
    "print(result4)"
   ]
  },
  {
   "cell_type": "markdown",
   "metadata": {},
   "source": [
    "## Q5. For which courses the percentage of male/female students is over 70%?"
   ]
  },
  {
   "cell_type": "code",
   "execution_count": 16,
   "metadata": {},
   "outputs": [
    {
     "name": "stdout",
     "output_type": "stream",
     "text": [
      "            Count  Sum  F_Average\n",
      "CourseName                       \n",
      "Sculpture      96   68   0.708333\n",
      "Tenis          72   52   0.722222\n"
     ]
    }
   ],
   "source": [
    "classcoursestu=pd.merge(classcourse,students, how='left', on='StudentId')\n",
    "classcoursestu['F_CAT'] = 0\n",
    "classcoursestu.loc[(classcoursestu['Gender']=='F'),'F_CAT']=1\n",
    "result5=classcoursestu.groupby(['CourseName']).agg({\"F_CAT\":['count',sum,'mean']})\n",
    "result5.columns = ['Count','Sum','F_Average']\n",
    "result5\n",
    "#result5.sort_values(by=['Average'],ascending=False)\n",
    "result51=result5[result5.F_Average>0.7]\n",
    "print(result51)\n"
   ]
  },
  {
   "cell_type": "code",
   "execution_count": 17,
   "metadata": {},
   "outputs": [
    {
     "data": {
      "text/html": [
       "<div>\n",
       "<style scoped>\n",
       "    .dataframe tbody tr th:only-of-type {\n",
       "        vertical-align: middle;\n",
       "    }\n",
       "\n",
       "    .dataframe tbody tr th {\n",
       "        vertical-align: top;\n",
       "    }\n",
       "\n",
       "    .dataframe thead th {\n",
       "        text-align: right;\n",
       "    }\n",
       "</style>\n",
       "<table border=\"1\" class=\"dataframe\">\n",
       "  <thead>\n",
       "    <tr style=\"text-align: right;\">\n",
       "      <th></th>\n",
       "      <th>CourseId</th>\n",
       "      <th>CourseName</th>\n",
       "      <th>Count</th>\n",
       "      <th>Sum</th>\n",
       "      <th>F_Average</th>\n",
       "    </tr>\n",
       "  </thead>\n",
       "  <tbody>\n",
       "    <tr>\n",
       "      <th>21</th>\n",
       "      <td>22.0</td>\n",
       "      <td>Sculpture</td>\n",
       "      <td>96</td>\n",
       "      <td>68</td>\n",
       "      <td>0.708333</td>\n",
       "    </tr>\n",
       "    <tr>\n",
       "      <th>26</th>\n",
       "      <td>29.0</td>\n",
       "      <td>Tenis</td>\n",
       "      <td>72</td>\n",
       "      <td>52</td>\n",
       "      <td>0.722222</td>\n",
       "    </tr>\n",
       "  </tbody>\n",
       "</table>\n",
       "</div>"
      ],
      "text/plain": [
       "    CourseId CourseName  Count  Sum  F_Average\n",
       "21      22.0  Sculpture     96   68   0.708333\n",
       "26      29.0      Tenis     72   52   0.722222"
      ]
     },
     "execution_count": 17,
     "metadata": {},
     "output_type": "execute_result"
    }
   ],
   "source": [
    "######### שאלה 5 כתיבה נוספת הכוללת גם את מספר הקורס ###########\n",
    "\n",
    "classcoursestu=pd.merge(classcourse,students, how='left', on='StudentId')\n",
    "classcoursestu['F_CAT'] = 0\n",
    "classcoursestu.loc[(classcoursestu['Gender']=='F'),'F_CAT']=1\n",
    "classcoursestu.head()\n",
    "\n",
    "result5=classcoursestu.groupby(['CourseId','CourseName']).agg({\"F_CAT\":['count',sum,'mean']})\n",
    "result5.columns = ['Count','Sum','F_Average']\n",
    "result5\n",
    "result5new = result5.rename_axis(['CourseId','CourseName']).reset_index()\n",
    "\n",
    "result5new1=result5new.loc[(result5new['F_Average']>0.7)]\n",
    "result5new1\n"
   ]
  },
  {
   "cell_type": "markdown",
   "metadata": {},
   "source": [
    "## Q6. For each department, how many students passed with a grades over 80?"
   ]
  },
  {
   "cell_type": "code",
   "execution_count": 18,
   "metadata": {},
   "outputs": [
    {
     "name": "stdout",
     "output_type": "stream",
     "text": [
      "DepartmentName\n",
      "Arts        61\n",
      "English     40\n",
      "Science    122\n",
      "Sport       39\n",
      "Name: StudentId, dtype: int64\n"
     ]
    }
   ],
   "source": [
    "classcoursesep6=classcoursesep.copy()\n",
    "classcoursesep6.head()\n",
    "result6=classcoursesep6[classcoursesep6.degree>80]\n",
    "result61=result6.groupby('DepartmentName').StudentId.nunique()\n",
    "print(result61)\n"
   ]
  },
  {
   "cell_type": "code",
   "execution_count": 62,
   "metadata": {},
   "outputs": [
    {
     "data": {
      "text/html": [
       "<div>\n",
       "<style scoped>\n",
       "    .dataframe tbody tr th:only-of-type {\n",
       "        vertical-align: middle;\n",
       "    }\n",
       "\n",
       "    .dataframe tbody tr th {\n",
       "        vertical-align: top;\n",
       "    }\n",
       "\n",
       "    .dataframe thead th {\n",
       "        text-align: right;\n",
       "    }\n",
       "</style>\n",
       "<table border=\"1\" class=\"dataframe\">\n",
       "  <thead>\n",
       "    <tr style=\"text-align: right;\">\n",
       "      <th></th>\n",
       "      <th>DepartmentName</th>\n",
       "      <th>Grade&gt;80</th>\n",
       "      <th>Total Students</th>\n",
       "      <th>Percent</th>\n",
       "    </tr>\n",
       "  </thead>\n",
       "  <tbody>\n",
       "    <tr>\n",
       "      <th>0</th>\n",
       "      <td>Arts</td>\n",
       "      <td>61</td>\n",
       "      <td>137</td>\n",
       "      <td>0.445255</td>\n",
       "    </tr>\n",
       "    <tr>\n",
       "      <th>1</th>\n",
       "      <td>English</td>\n",
       "      <td>40</td>\n",
       "      <td>84</td>\n",
       "      <td>0.476190</td>\n",
       "    </tr>\n",
       "    <tr>\n",
       "      <th>2</th>\n",
       "      <td>Science</td>\n",
       "      <td>122</td>\n",
       "      <td>200</td>\n",
       "      <td>0.610000</td>\n",
       "    </tr>\n",
       "    <tr>\n",
       "      <th>3</th>\n",
       "      <td>Sport</td>\n",
       "      <td>39</td>\n",
       "      <td>81</td>\n",
       "      <td>0.481481</td>\n",
       "    </tr>\n",
       "  </tbody>\n",
       "</table>\n",
       "</div>"
      ],
      "text/plain": [
       "  DepartmentName  Grade>80  Total Students   Percent\n",
       "0           Arts        61             137  0.445255\n",
       "1        English        40              84  0.476190\n",
       "2        Science       122             200  0.610000\n",
       "3          Sport        39              81  0.481481"
      ]
     },
     "execution_count": 62,
     "metadata": {},
     "output_type": "execute_result"
    }
   ],
   "source": [
    "###### תשובה לשאלה 6 המכילה את כמות הסטודנטים עם ציון מעל 80 וסה\"כ הסטודנטים #######\n",
    "classcoursesep6=classcoursesep.copy()\n",
    "classcoursesep6.head()\n",
    "result6=classcoursesep6[classcoursesep6.degree>80]\n",
    "result61=result6.groupby('DepartmentName').StudentId.nunique()\n",
    "result61.columns = ['Count>80']\n",
    "result61\n",
    "result61new = result61.rename_axis(['DepartmentName']).reset_index()\n",
    "result61new\n",
    "df6=pd.merge(result61new, result1, how='left', on=['DepartmentName'])\n",
    "df6.columns = ['DepartmentName', 'Grade>80', 'Total Students']\n",
    "df6new=pd.DataFrame(df6)\n",
    "df6new[['Grade>80', 'Total Students']] = df6new[['Grade>80', 'Total Students']].astype(int)\n",
    "df6new['Percent'] =df6new['Grade>80'] / df6new['Total Students']\n",
    "df6new=pd.DataFrame(test1)\n",
    "df6new.dtypes\n",
    "df6new"
   ]
  },
  {
   "cell_type": "markdown",
   "metadata": {},
   "source": [
    "## Q7. For each department, how many students passed with a grades under 60?"
   ]
  },
  {
   "cell_type": "code",
   "execution_count": 18,
   "metadata": {},
   "outputs": [
    {
     "name": "stdout",
     "output_type": "stream",
     "text": [
      "DepartmentName\n",
      "Arts       3\n",
      "English    2\n",
      "Science    7\n",
      "Sport      1\n",
      "Name: StudentId, dtype: int64\n"
     ]
    }
   ],
   "source": [
    "classcoursesep7=classcoursesep.copy()\n",
    "classcoursesep7.head()\n",
    "result7=classcoursesep7[classcoursesep7.degree<60]\n",
    "result71=result7.groupby('DepartmentName').StudentId.nunique()\n",
    "print(result71)"
   ]
  },
  {
   "cell_type": "markdown",
   "metadata": {},
   "source": [
    "## Q8. Rate the teachers by their average student's grades (in descending order)."
   ]
  },
  {
   "cell_type": "code",
   "execution_count": 120,
   "metadata": {},
   "outputs": [
    {
     "data": {
      "text/html": [
       "<div>\n",
       "<style scoped>\n",
       "    .dataframe tbody tr th:only-of-type {\n",
       "        vertical-align: middle;\n",
       "    }\n",
       "\n",
       "    .dataframe tbody tr th {\n",
       "        vertical-align: top;\n",
       "    }\n",
       "\n",
       "    .dataframe thead th {\n",
       "        text-align: right;\n",
       "    }\n",
       "</style>\n",
       "<table border=\"1\" class=\"dataframe\">\n",
       "  <thead>\n",
       "    <tr style=\"text-align: right;\">\n",
       "      <th></th>\n",
       "      <th>AveStuGrade</th>\n",
       "    </tr>\n",
       "    <tr>\n",
       "      <th>Teach_name</th>\n",
       "      <th></th>\n",
       "    </tr>\n",
       "  </thead>\n",
       "  <tbody>\n",
       "    <tr>\n",
       "      <th>Darick Hess</th>\n",
       "      <td>81.432703</td>\n",
       "    </tr>\n",
       "    <tr>\n",
       "      <th>Jordyn Baron</th>\n",
       "      <td>80.729494</td>\n",
       "    </tr>\n",
       "    <tr>\n",
       "      <th>Heather Metcalf</th>\n",
       "      <td>80.440242</td>\n",
       "    </tr>\n",
       "    <tr>\n",
       "      <th>Zachary Healy</th>\n",
       "      <td>79.365867</td>\n",
       "    </tr>\n",
       "    <tr>\n",
       "      <th>Kaylea Monzingo</th>\n",
       "      <td>79.365537</td>\n",
       "    </tr>\n",
       "    <tr>\n",
       "      <th>Daniel Bland</th>\n",
       "      <td>78.908281</td>\n",
       "    </tr>\n",
       "    <tr>\n",
       "      <th>Keegan Price</th>\n",
       "      <td>78.814631</td>\n",
       "    </tr>\n",
       "    <tr>\n",
       "      <th>Conor Mckittrick</th>\n",
       "      <td>78.699492</td>\n",
       "    </tr>\n",
       "    <tr>\n",
       "      <th>Maxwell Romkee</th>\n",
       "      <td>78.673509</td>\n",
       "    </tr>\n",
       "    <tr>\n",
       "      <th>Terran Beaty</th>\n",
       "      <td>78.495479</td>\n",
       "    </tr>\n",
       "    <tr>\n",
       "      <th>Tanner Fitzsimons</th>\n",
       "      <td>78.443395</td>\n",
       "    </tr>\n",
       "    <tr>\n",
       "      <th>Mackenzie Olsen</th>\n",
       "      <td>78.383348</td>\n",
       "    </tr>\n",
       "    <tr>\n",
       "      <th>Ernest Stoyanov</th>\n",
       "      <td>78.316150</td>\n",
       "    </tr>\n",
       "    <tr>\n",
       "      <th>Madison Batan</th>\n",
       "      <td>77.743575</td>\n",
       "    </tr>\n",
       "    <tr>\n",
       "      <th>Katerina Young</th>\n",
       "      <td>77.406852</td>\n",
       "    </tr>\n",
       "    <tr>\n",
       "      <th>Mikayla Russell</th>\n",
       "      <td>77.134323</td>\n",
       "    </tr>\n",
       "    <tr>\n",
       "      <th>Amanda Dworkin</th>\n",
       "      <td>76.899881</td>\n",
       "    </tr>\n",
       "    <tr>\n",
       "      <th>Kaitlin Delude</th>\n",
       "      <td>76.765296</td>\n",
       "    </tr>\n",
       "    <tr>\n",
       "      <th>Jeffrey Batzel</th>\n",
       "      <td>76.737973</td>\n",
       "    </tr>\n",
       "    <tr>\n",
       "      <th>Robert Aivazian</th>\n",
       "      <td>76.516464</td>\n",
       "    </tr>\n",
       "    <tr>\n",
       "      <th>Caroline Knuesel</th>\n",
       "      <td>75.955453</td>\n",
       "    </tr>\n",
       "    <tr>\n",
       "      <th>Alexander Watts</th>\n",
       "      <td>75.668139</td>\n",
       "    </tr>\n",
       "  </tbody>\n",
       "</table>\n",
       "</div>"
      ],
      "text/plain": [
       "                    AveStuGrade\n",
       "Teach_name                     \n",
       " Darick Hess          81.432703\n",
       " Jordyn Baron         80.729494\n",
       " Heather Metcalf      80.440242\n",
       " Zachary Healy        79.365867\n",
       " Kaylea Monzingo      79.365537\n",
       " Daniel Bland         78.908281\n",
       " Keegan Price         78.814631\n",
       " Conor Mckittrick     78.699492\n",
       " Maxwell Romkee       78.673509\n",
       " Terran Beaty         78.495479\n",
       " Tanner Fitzsimons    78.443395\n",
       " Mackenzie Olsen      78.383348\n",
       " Ernest Stoyanov      78.316150\n",
       " Madison Batan        77.743575\n",
       " Katerina Young       77.406852\n",
       " Mikayla Russell      77.134323\n",
       " Amanda Dworkin       76.899881\n",
       " Kaitlin Delude       76.765296\n",
       " Jeffrey Batzel       76.737973\n",
       " Robert Aivazian      76.516464\n",
       " Caroline Knuesel     75.955453\n",
       " Alexander Watts      75.668139"
      ]
     },
     "execution_count": 120,
     "metadata": {},
     "output_type": "execute_result"
    }
   ],
   "source": [
    "teachers = pd.read_sql(\"SELECT * FROM Teachers\",conn)\n",
    "teachers['Teach_name'] = teachers['FirstName']+\" \" +teachers['LastName']\n",
    "teachers.head()\n",
    "#len(teachers)\n",
    "\n",
    "classcourse=pd.merge(classrooms, courses, how='left', on=['CourseId'])\n",
    "classcourse.head()\n",
    "classcourseteach=pd.merge(classcourse,teachers, how='left', on='TeacherId')\n",
    "classcourseteach.head()\n",
    "result8=classcourseteach.groupby(['Teach_name']).agg({\"degree\":['mean']})\n",
    "result8.columns = ['AveStuGrade']\n",
    "result8.sort_values(ascending=False,by='AveStuGrade')\n"
   ]
  },
  {
   "cell_type": "markdown",
   "metadata": {},
   "source": [
    "## Q9. Create a dataframe showing the courses, departments they are associated with, the teacher in each course, and the number of students enrolled in the course (for each course, department and teacher show the names)."
   ]
  },
  {
   "cell_type": "code",
   "execution_count": 125,
   "metadata": {},
   "outputs": [
    {
     "data": {
      "text/html": [
       "<div>\n",
       "<style scoped>\n",
       "    .dataframe tbody tr th:only-of-type {\n",
       "        vertical-align: middle;\n",
       "    }\n",
       "\n",
       "    .dataframe tbody tr th {\n",
       "        vertical-align: top;\n",
       "    }\n",
       "\n",
       "    .dataframe thead th {\n",
       "        text-align: right;\n",
       "    }\n",
       "</style>\n",
       "<table border=\"1\" class=\"dataframe\">\n",
       "  <thead>\n",
       "    <tr style=\"text-align: right;\">\n",
       "      <th></th>\n",
       "      <th></th>\n",
       "      <th></th>\n",
       "      <th>StudentId</th>\n",
       "    </tr>\n",
       "    <tr>\n",
       "      <th>DepartmentName</th>\n",
       "      <th>CourseName</th>\n",
       "      <th>Teach_name</th>\n",
       "      <th></th>\n",
       "    </tr>\n",
       "  </thead>\n",
       "  <tbody>\n",
       "    <tr>\n",
       "      <th rowspan=\"5\" valign=\"top\">Arts</th>\n",
       "      <th>History of Arts</th>\n",
       "      <th>Caroline Knuesel</th>\n",
       "      <td>32</td>\n",
       "    </tr>\n",
       "    <tr>\n",
       "      <th>Literature</th>\n",
       "      <th>Daniel Bland</th>\n",
       "      <td>39</td>\n",
       "    </tr>\n",
       "    <tr>\n",
       "      <th>Musicology</th>\n",
       "      <th>Madison Batan</th>\n",
       "      <td>30</td>\n",
       "    </tr>\n",
       "    <tr>\n",
       "      <th>Painting</th>\n",
       "      <th>Katerina Young</th>\n",
       "      <td>34</td>\n",
       "    </tr>\n",
       "    <tr>\n",
       "      <th>Sculpture</th>\n",
       "      <th>Robert Aivazian</th>\n",
       "      <td>23</td>\n",
       "    </tr>\n",
       "  </tbody>\n",
       "</table>\n",
       "</div>"
      ],
      "text/plain": [
       "                                                  StudentId\n",
       "DepartmentName CourseName      Teach_name                  \n",
       "Arts           History of Arts  Caroline Knuesel         32\n",
       "               Literature       Daniel Bland             39\n",
       "               Musicology       Madison Batan            30\n",
       "               Painting         Katerina Young           34\n",
       "               Sculpture        Robert Aivazian          23"
      ]
     },
     "execution_count": 125,
     "metadata": {},
     "output_type": "execute_result"
    }
   ],
   "source": [
    "###    Dep-Course-Teacher-#students\n",
    "classcourse=pd.merge(classrooms, courses, how='left', on=['CourseId'])\n",
    "classcourse.head()\n",
    "classcoursesep=pd.merge(classcourse,departments, how='left', left_on='DepartmentID', right_on='DepartmentId')\n",
    "classcoursesep.head()\n",
    "classcoursedepteach=pd.merge(classcoursesep,teachers, how='left', on='TeacherId')\n",
    "classcoursedepteach.head()\n",
    "result9=classcoursedepteach.groupby(['DepartmentName','CourseName','Teach_name']).StudentId.nunique()\n",
    "df9=pd.DataFrame(result9)\n",
    "#print(df9)\n",
    "df9.head()\n",
    "\n"
   ]
  },
  {
   "cell_type": "markdown",
   "metadata": {},
   "source": [
    "## Q10. Create a dataframe showing the students, the number of courses they take, the average of the grades per class, and their overall average (for each student show the student name)."
   ]
  },
  {
   "cell_type": "code",
   "execution_count": 214,
   "metadata": {},
   "outputs": [
    {
     "data": {
      "text/html": [
       "<div>\n",
       "<style scoped>\n",
       "    .dataframe tbody tr th:only-of-type {\n",
       "        vertical-align: middle;\n",
       "    }\n",
       "\n",
       "    .dataframe tbody tr th {\n",
       "        vertical-align: top;\n",
       "    }\n",
       "\n",
       "    .dataframe thead th {\n",
       "        text-align: right;\n",
       "    }\n",
       "</style>\n",
       "<table border=\"1\" class=\"dataframe\">\n",
       "  <thead>\n",
       "    <tr style=\"text-align: right;\">\n",
       "      <th></th>\n",
       "      <th></th>\n",
       "      <th></th>\n",
       "      <th>DepartmentName</th>\n",
       "      <th>Arts</th>\n",
       "      <th>English</th>\n",
       "      <th>Science</th>\n",
       "      <th>Sport</th>\n",
       "    </tr>\n",
       "    <tr>\n",
       "      <th>StudentId</th>\n",
       "      <th>Stu_name</th>\n",
       "      <th>CourseCount</th>\n",
       "      <th>AverageDegree</th>\n",
       "      <th></th>\n",
       "      <th></th>\n",
       "      <th></th>\n",
       "      <th></th>\n",
       "    </tr>\n",
       "  </thead>\n",
       "  <tbody>\n",
       "    <tr>\n",
       "      <th>1.0</th>\n",
       "      <th>Alexandria Heller</th>\n",
       "      <th>4</th>\n",
       "      <th>81.337515</th>\n",
       "      <td>86.677535</td>\n",
       "      <td>NaN</td>\n",
       "      <td>79.557508</td>\n",
       "      <td>NaN</td>\n",
       "    </tr>\n",
       "    <tr>\n",
       "      <th>2.0</th>\n",
       "      <th>Cassie Liska</th>\n",
       "      <th>5</th>\n",
       "      <th>79.137364</th>\n",
       "      <td>79.542738</td>\n",
       "      <td>NaN</td>\n",
       "      <td>78.867115</td>\n",
       "      <td>NaN</td>\n",
       "    </tr>\n",
       "    <tr>\n",
       "      <th>3.0</th>\n",
       "      <th>Hayley Frank</th>\n",
       "      <th>3</th>\n",
       "      <th>78.793700</th>\n",
       "      <td>NaN</td>\n",
       "      <td>83.972245</td>\n",
       "      <td>76.204427</td>\n",
       "      <td>NaN</td>\n",
       "    </tr>\n",
       "    <tr>\n",
       "      <th>4.0</th>\n",
       "      <th>Maxwell Kotch</th>\n",
       "      <th>3</th>\n",
       "      <th>71.481003</th>\n",
       "      <td>69.356144</td>\n",
       "      <td>70.929801</td>\n",
       "      <td>74.157066</td>\n",
       "      <td>NaN</td>\n",
       "    </tr>\n",
       "    <tr>\n",
       "      <th>5.0</th>\n",
       "      <th>Dylan Boehm</th>\n",
       "      <th>3</th>\n",
       "      <th>76.718650</th>\n",
       "      <td>64.494845</td>\n",
       "      <td>NaN</td>\n",
       "      <td>100.000000</td>\n",
       "      <td>65.661106</td>\n",
       "    </tr>\n",
       "    <tr>\n",
       "      <th>...</th>\n",
       "      <th>...</th>\n",
       "      <th>...</th>\n",
       "      <th>...</th>\n",
       "      <td>...</td>\n",
       "      <td>...</td>\n",
       "      <td>...</td>\n",
       "      <td>...</td>\n",
       "    </tr>\n",
       "    <tr>\n",
       "      <th>275.0</th>\n",
       "      <th>Elise Ohler</th>\n",
       "      <th>4</th>\n",
       "      <th>82.028830</th>\n",
       "      <td>94.702880</td>\n",
       "      <td>71.617451</td>\n",
       "      <td>80.897496</td>\n",
       "      <td>NaN</td>\n",
       "    </tr>\n",
       "    <tr>\n",
       "      <th>276.0</th>\n",
       "      <th>Dylan Bannister</th>\n",
       "      <th>3</th>\n",
       "      <th>76.784735</th>\n",
       "      <td>NaN</td>\n",
       "      <td>NaN</td>\n",
       "      <td>76.784735</td>\n",
       "      <td>NaN</td>\n",
       "    </tr>\n",
       "    <tr>\n",
       "      <th>277.0</th>\n",
       "      <th>Bryan Medina</th>\n",
       "      <th>6</th>\n",
       "      <th>80.482335</th>\n",
       "      <td>78.849330</td>\n",
       "      <td>NaN</td>\n",
       "      <td>81.298837</td>\n",
       "      <td>NaN</td>\n",
       "    </tr>\n",
       "    <tr>\n",
       "      <th>278.0</th>\n",
       "      <th>Sydney Blas</th>\n",
       "      <th>3</th>\n",
       "      <th>75.359189</th>\n",
       "      <td>NaN</td>\n",
       "      <td>NaN</td>\n",
       "      <td>72.578017</td>\n",
       "      <td>76.749775</td>\n",
       "    </tr>\n",
       "    <tr>\n",
       "      <th>280.0</th>\n",
       "      <th>Matthew Mcgrath</th>\n",
       "      <th>4</th>\n",
       "      <th>76.621429</th>\n",
       "      <td>77.237998</td>\n",
       "      <td>NaN</td>\n",
       "      <td>75.696576</td>\n",
       "      <td>NaN</td>\n",
       "    </tr>\n",
       "  </tbody>\n",
       "</table>\n",
       "<p>256 rows × 4 columns</p>\n",
       "</div>"
      ],
      "text/plain": [
       "DepartmentName                                               Arts    English  \\\n",
       "StudentId Stu_name           CourseCount AverageDegree                         \n",
       "1.0        Alexandria Heller 4           81.337515      86.677535        NaN   \n",
       "2.0        Cassie Liska      5           79.137364      79.542738        NaN   \n",
       "3.0        Hayley Frank      3           78.793700            NaN  83.972245   \n",
       "4.0        Maxwell Kotch     3           71.481003      69.356144  70.929801   \n",
       "5.0        Dylan Boehm       3           76.718650      64.494845        NaN   \n",
       "...                                                           ...        ...   \n",
       "275.0      Elise Ohler       4           82.028830      94.702880  71.617451   \n",
       "276.0      Dylan Bannister   3           76.784735            NaN        NaN   \n",
       "277.0      Bryan Medina      6           80.482335      78.849330        NaN   \n",
       "278.0      Sydney Blas       3           75.359189            NaN        NaN   \n",
       "280.0      Matthew Mcgrath   4           76.621429      77.237998        NaN   \n",
       "\n",
       "DepartmentName                                             Science      Sport  \n",
       "StudentId Stu_name           CourseCount AverageDegree                         \n",
       "1.0        Alexandria Heller 4           81.337515       79.557508        NaN  \n",
       "2.0        Cassie Liska      5           79.137364       78.867115        NaN  \n",
       "3.0        Hayley Frank      3           78.793700       76.204427        NaN  \n",
       "4.0        Maxwell Kotch     3           71.481003       74.157066        NaN  \n",
       "5.0        Dylan Boehm       3           76.718650      100.000000  65.661106  \n",
       "...                                                            ...        ...  \n",
       "275.0      Elise Ohler       4           82.028830       80.897496        NaN  \n",
       "276.0      Dylan Bannister   3           76.784735       76.784735        NaN  \n",
       "277.0      Bryan Medina      6           80.482335       81.298837        NaN  \n",
       "278.0      Sydney Blas       3           75.359189       72.578017  76.749775  \n",
       "280.0      Matthew Mcgrath   4           76.621429       75.696576        NaN  \n",
       "\n",
       "[256 rows x 4 columns]"
      ]
     },
     "execution_count": 214,
     "metadata": {},
     "output_type": "execute_result"
    }
   ],
   "source": [
    "###    Student ID-Student NAME - # COURSE - AVE.grade by Dep.\n",
    "\n",
    "#######   יצירת טבלה מרכזית לעבודה ########\n",
    "students = pd.read_sql(\"SELECT * FROM Students\",conn)\n",
    "students['Stu_name'] = students['FirstName']+\" \" +students['LastName']\n",
    "students.head()\n",
    "\n",
    "classcourse=pd.merge(classrooms, courses, how='left', on=['CourseId'])\n",
    "classcourse.head()\n",
    "classcoursesep=pd.merge(classcourse,departments, how='left', left_on='DepartmentID', right_on='DepartmentId')\n",
    "classcoursesep.head()\n",
    "classcoursesdepstu=pd.merge(classcoursesep,students, how='left', on='StudentId')\n",
    "classcoursesdepstu.head()\n",
    "\n",
    "#######    יצירת טבלה על מנת לקבל לכל סטודנט ציון ממוצע כולל וחיבורה עם המרכזית ########\n",
    "resultbein=classcoursesep.groupby(['StudentId']).agg({\"degree\":['mean']})\n",
    "resultbein.columns = ['AverageDegree']\n",
    "dfbein=pd.DataFrame(resultbein)\n",
    "dfbein = dfbein.rename_axis(['StudentId']).reset_index()\n",
    "classcoursesdepstu1=pd.merge(classcoursesdepstu,dfbein, how='left', on='StudentId')\n",
    "classcoursesdepstu1.head()\n",
    "\n",
    "#######    יצירת טבלה על מנת לקבל לכל סטודנט כמה קורסים לוקח וחיבורה עם המרכזית ########\n",
    "classrooms = pd.read_sql(\"SELECT * FROM Classrooms\",conn)\n",
    "classuni=classrooms.groupby(['StudentId']).CourseId.nunique()\n",
    "dfbein1=pd.DataFrame(classuni)\n",
    "dfbein1 = dfbein1.rename_axis(['StudentId']).reset_index()\n",
    "dfbein1.columns = ['StudentId', 'CourseCount']\n",
    "classcoursesdepstu1=pd.merge(classcoursesdepstu1,dfbein1, how='left', on='StudentId')\n",
    "classcoursesdepstu1.head()\n",
    "\n",
    "\n",
    "\n",
    "#########לכל סוטנט, מחלקה, קורסים, ציון ממוצע, ציון ממוצע כללי וכמות קורסים שלוקח ######################\n",
    "\n",
    "result10=classcoursesdepstu1.groupby(['StudentId','Stu_name','DepartmentName','CourseName','degree','AverageDegree','CourseCount']).StudentId.nunique()\n",
    "df10=pd.DataFrame(result10)\n",
    "df10.columns = ['Count']\n",
    "df10.head()\n",
    "df10 = df10.rename_axis(['StudentId','Stu_name', 'DepartmentName', 'CourseName','degree','AverageDegree','CourseCount']).reset_index()\n",
    "df1010=pd.DataFrame(df10)\n",
    "\n",
    "############### יצירת פיבוט ######################\n",
    "table = pd.pivot_table(df1010, values='degree', index=['StudentId','Stu_name','CourseCount','AverageDegree'],\n",
    "                    columns=['DepartmentName'], aggfunc=np.mean)\n",
    "table\n",
    "#########################################################################################\n",
    "\n",
    "\n",
    "\n",
    "\n",
    "\n",
    "\n",
    "\n"
   ]
  },
  {
   "cell_type": "code",
   "execution_count": null,
   "metadata": {},
   "outputs": [],
   "source": []
  }
 ],
 "metadata": {
  "kernelspec": {
   "display_name": "Python 3",
   "language": "python",
   "name": "python3"
  },
  "language_info": {
   "codemirror_mode": {
    "name": "ipython",
    "version": 3
   },
   "file_extension": ".py",
   "mimetype": "text/x-python",
   "name": "python",
   "nbconvert_exporter": "python",
   "pygments_lexer": "ipython3",
   "version": "3.7.6"
  }
 },
 "nbformat": 4,
 "nbformat_minor": 2
}
