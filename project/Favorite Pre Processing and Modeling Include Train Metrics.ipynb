{
 "cells": [
  {
   "cell_type": "markdown",
   "metadata": {},
   "source": [
    "# Preparing the data for modeling"
   ]
  },
  {
   "cell_type": "code",
   "execution_count": 371,
   "metadata": {},
   "outputs": [],
   "source": [
    "library(readr)\n",
    "library(mechkar)\n",
    "library(dplyr)\n",
    "library(ggplot2)\n",
    "#library(lightgbm)\n"
   ]
  },
  {
   "cell_type": "code",
   "execution_count": 372,
   "metadata": {},
   "outputs": [],
   "source": [
    "data <- read.csv(\"C:/Users/Eyal Bijaoui/datascience/project/Favorita__dffinal.csv\")"
   ]
  },
  {
   "cell_type": "code",
   "execution_count": 373,
   "metadata": {},
   "outputs": [
    {
     "data": {
      "text/html": [
       "<style>\n",
       ".list-inline {list-style: none; margin:0; padding: 0}\n",
       ".list-inline>li {display: inline-block}\n",
       ".list-inline>li:not(:last-child)::after {content: \"\\00b7\"; padding: 0 .5ex}\n",
       "</style>\n",
       "<ol class=list-inline><li>18572</li><li>33</li></ol>\n"
      ],
      "text/latex": [
       "\\begin{enumerate*}\n",
       "\\item 18572\n",
       "\\item 33\n",
       "\\end{enumerate*}\n"
      ],
      "text/markdown": [
       "1. 18572\n",
       "2. 33\n",
       "\n",
       "\n"
      ],
      "text/plain": [
       "[1] 18572    33"
      ]
     },
     "metadata": {},
     "output_type": "display_data"
    }
   ],
   "source": [
    "dim(data)"
   ]
  },
  {
   "cell_type": "code",
   "execution_count": 374,
   "metadata": {},
   "outputs": [
    {
     "data": {
      "text/html": [
       "<table>\n",
       "<caption>A data.frame: 6 × 33</caption>\n",
       "<thead>\n",
       "\t<tr><th></th><th scope=col>X</th><th scope=col>sumtaransactions</th><th scope=col>locale_Ibarra</th><th scope=col>locale_Loja</th><th scope=col>locale_Manta</th><th scope=col>locale_Quito</th><th scope=col>National_Ecuador</th><th scope=col>maxoil</th><th scope=col>EQ_Impact</th><th scope=col>store_pct</th><th scope=col>...</th><th scope=col>store_type_B</th><th scope=col>store_type_C</th><th scope=col>store_type_D</th><th scope=col>onpromotion_0</th><th scope=col>onpromotion_1</th><th scope=col>MM_1</th><th scope=col>MM_2</th><th scope=col>MM_3</th><th scope=col>MM_12</th><th scope=col>log_sales</th></tr>\n",
       "\t<tr><th></th><th scope=col>&lt;int&gt;</th><th scope=col>&lt;int&gt;</th><th scope=col>&lt;int&gt;</th><th scope=col>&lt;int&gt;</th><th scope=col>&lt;int&gt;</th><th scope=col>&lt;int&gt;</th><th scope=col>&lt;int&gt;</th><th scope=col>&lt;int&gt;</th><th scope=col>&lt;int&gt;</th><th scope=col>&lt;dbl&gt;</th><th scope=col>...</th><th scope=col>&lt;int&gt;</th><th scope=col>&lt;int&gt;</th><th scope=col>&lt;int&gt;</th><th scope=col>&lt;int&gt;</th><th scope=col>&lt;int&gt;</th><th scope=col>&lt;int&gt;</th><th scope=col>&lt;int&gt;</th><th scope=col>&lt;int&gt;</th><th scope=col>&lt;int&gt;</th><th scope=col>&lt;dbl&gt;</th></tr>\n",
       "</thead>\n",
       "<tbody>\n",
       "\t<tr><th scope=row>1</th><td>1</td><td>1652</td><td>0</td><td>0</td><td>0</td><td>0</td><td>7</td><td>22</td><td>0</td><td>0.03246823</td><td>...</td><td>0</td><td>0</td><td>1</td><td>0</td><td>0</td><td>1</td><td>0</td><td>0</td><td>0</td><td>5.509388</td></tr>\n",
       "\t<tr><th scope=row>2</th><td>2</td><td>1796</td><td>0</td><td>0</td><td>0</td><td>0</td><td>7</td><td>22</td><td>0</td><td>0.03295283</td><td>...</td><td>0</td><td>0</td><td>1</td><td>0</td><td>0</td><td>1</td><td>0</td><td>0</td><td>0</td><td>4.553877</td></tr>\n",
       "\t<tr><th scope=row>3</th><td>3</td><td> 308</td><td>0</td><td>0</td><td>0</td><td>0</td><td>7</td><td>22</td><td>0</td><td>0.01717639</td><td>...</td><td>0</td><td>0</td><td>1</td><td>0</td><td>0</td><td>1</td><td>0</td><td>0</td><td>0</td><td>4.276666</td></tr>\n",
       "\t<tr><th scope=row>4</th><td>4</td><td>1927</td><td>0</td><td>0</td><td>0</td><td>0</td><td>7</td><td>22</td><td>0</td><td>0.03273745</td><td>...</td><td>0</td><td>0</td><td>0</td><td>0</td><td>0</td><td>1</td><td>0</td><td>0</td><td>0</td><td>5.811141</td></tr>\n",
       "\t<tr><th scope=row>5</th><td>5</td><td> 808</td><td>0</td><td>0</td><td>0</td><td>0</td><td>7</td><td>22</td><td>0</td><td>0.02907603</td><td>...</td><td>0</td><td>0</td><td>1</td><td>0</td><td>0</td><td>1</td><td>0</td><td>0</td><td>0</td><td>3.091042</td></tr>\n",
       "\t<tr><th scope=row>6</th><td>6</td><td> 778</td><td>0</td><td>0</td><td>0</td><td>0</td><td>7</td><td>22</td><td>0</td><td>0.03020676</td><td>...</td><td>0</td><td>0</td><td>1</td><td>0</td><td>0</td><td>1</td><td>0</td><td>0</td><td>0</td><td>4.127134</td></tr>\n",
       "</tbody>\n",
       "</table>\n"
      ],
      "text/latex": [
       "A data.frame: 6 × 33\n",
       "\\begin{tabular}{r|lllllllllllllllllllll}\n",
       "  & X & sumtaransactions & locale\\_Ibarra & locale\\_Loja & locale\\_Manta & locale\\_Quito & National\\_Ecuador & maxoil & EQ\\_Impact & store\\_pct & ... & store\\_type\\_B & store\\_type\\_C & store\\_type\\_D & onpromotion\\_0 & onpromotion\\_1 & MM\\_1 & MM\\_2 & MM\\_3 & MM\\_12 & log\\_sales\\\\\n",
       "  & <int> & <int> & <int> & <int> & <int> & <int> & <int> & <int> & <int> & <dbl> & ... & <int> & <int> & <int> & <int> & <int> & <int> & <int> & <int> & <int> & <dbl>\\\\\n",
       "\\hline\n",
       "\t1 & 1 & 1652 & 0 & 0 & 0 & 0 & 7 & 22 & 0 & 0.03246823 & ... & 0 & 0 & 1 & 0 & 0 & 1 & 0 & 0 & 0 & 5.509388\\\\\n",
       "\t2 & 2 & 1796 & 0 & 0 & 0 & 0 & 7 & 22 & 0 & 0.03295283 & ... & 0 & 0 & 1 & 0 & 0 & 1 & 0 & 0 & 0 & 4.553877\\\\\n",
       "\t3 & 3 &  308 & 0 & 0 & 0 & 0 & 7 & 22 & 0 & 0.01717639 & ... & 0 & 0 & 1 & 0 & 0 & 1 & 0 & 0 & 0 & 4.276666\\\\\n",
       "\t4 & 4 & 1927 & 0 & 0 & 0 & 0 & 7 & 22 & 0 & 0.03273745 & ... & 0 & 0 & 0 & 0 & 0 & 1 & 0 & 0 & 0 & 5.811141\\\\\n",
       "\t5 & 5 &  808 & 0 & 0 & 0 & 0 & 7 & 22 & 0 & 0.02907603 & ... & 0 & 0 & 1 & 0 & 0 & 1 & 0 & 0 & 0 & 3.091042\\\\\n",
       "\t6 & 6 &  778 & 0 & 0 & 0 & 0 & 7 & 22 & 0 & 0.03020676 & ... & 0 & 0 & 1 & 0 & 0 & 1 & 0 & 0 & 0 & 4.127134\\\\\n",
       "\\end{tabular}\n"
      ],
      "text/markdown": [
       "\n",
       "A data.frame: 6 × 33\n",
       "\n",
       "| <!--/--> | X &lt;int&gt; | sumtaransactions &lt;int&gt; | locale_Ibarra &lt;int&gt; | locale_Loja &lt;int&gt; | locale_Manta &lt;int&gt; | locale_Quito &lt;int&gt; | National_Ecuador &lt;int&gt; | maxoil &lt;int&gt; | EQ_Impact &lt;int&gt; | store_pct &lt;dbl&gt; | ... ... | store_type_B &lt;int&gt; | store_type_C &lt;int&gt; | store_type_D &lt;int&gt; | onpromotion_0 &lt;int&gt; | onpromotion_1 &lt;int&gt; | MM_1 &lt;int&gt; | MM_2 &lt;int&gt; | MM_3 &lt;int&gt; | MM_12 &lt;int&gt; | log_sales &lt;dbl&gt; |\n",
       "|---|---|---|---|---|---|---|---|---|---|---|---|---|---|---|---|---|---|---|---|---|---|\n",
       "| 1 | 1 | 1652 | 0 | 0 | 0 | 0 | 7 | 22 | 0 | 0.03246823 | ... | 0 | 0 | 1 | 0 | 0 | 1 | 0 | 0 | 0 | 5.509388 |\n",
       "| 2 | 2 | 1796 | 0 | 0 | 0 | 0 | 7 | 22 | 0 | 0.03295283 | ... | 0 | 0 | 1 | 0 | 0 | 1 | 0 | 0 | 0 | 4.553877 |\n",
       "| 3 | 3 |  308 | 0 | 0 | 0 | 0 | 7 | 22 | 0 | 0.01717639 | ... | 0 | 0 | 1 | 0 | 0 | 1 | 0 | 0 | 0 | 4.276666 |\n",
       "| 4 | 4 | 1927 | 0 | 0 | 0 | 0 | 7 | 22 | 0 | 0.03273745 | ... | 0 | 0 | 0 | 0 | 0 | 1 | 0 | 0 | 0 | 5.811141 |\n",
       "| 5 | 5 |  808 | 0 | 0 | 0 | 0 | 7 | 22 | 0 | 0.02907603 | ... | 0 | 0 | 1 | 0 | 0 | 1 | 0 | 0 | 0 | 3.091042 |\n",
       "| 6 | 6 |  778 | 0 | 0 | 0 | 0 | 7 | 22 | 0 | 0.03020676 | ... | 0 | 0 | 1 | 0 | 0 | 1 | 0 | 0 | 0 | 4.127134 |\n",
       "\n"
      ],
      "text/plain": [
       "  X sumtaransactions locale_Ibarra locale_Loja locale_Manta locale_Quito\n",
       "1 1 1652             0             0           0            0           \n",
       "2 2 1796             0             0           0            0           \n",
       "3 3  308             0             0           0            0           \n",
       "4 4 1927             0             0           0            0           \n",
       "5 5  808             0             0           0            0           \n",
       "6 6  778             0             0           0            0           \n",
       "  National_Ecuador maxoil EQ_Impact store_pct  ... store_type_B store_type_C\n",
       "1 7                22     0         0.03246823 ... 0            0           \n",
       "2 7                22     0         0.03295283 ... 0            0           \n",
       "3 7                22     0         0.01717639 ... 0            0           \n",
       "4 7                22     0         0.03273745 ... 0            0           \n",
       "5 7                22     0         0.02907603 ... 0            0           \n",
       "6 7                22     0         0.03020676 ... 0            0           \n",
       "  store_type_D onpromotion_0 onpromotion_1 MM_1 MM_2 MM_3 MM_12 log_sales\n",
       "1 1            0             0             1    0    0    0     5.509388 \n",
       "2 1            0             0             1    0    0    0     4.553877 \n",
       "3 1            0             0             1    0    0    0     4.276666 \n",
       "4 0            0             0             1    0    0    0     5.811141 \n",
       "5 1            0             0             1    0    0    0     3.091042 \n",
       "6 1            0             0             1    0    0    0     4.127134 "
      ]
     },
     "metadata": {},
     "output_type": "display_data"
    }
   ],
   "source": [
    "head(data)"
   ]
  },
  {
   "cell_type": "code",
   "execution_count": 375,
   "metadata": {},
   "outputs": [],
   "source": [
    "data<-data[,-c(1)]"
   ]
  },
  {
   "cell_type": "code",
   "execution_count": 376,
   "metadata": {},
   "outputs": [
    {
     "data": {
      "text/html": [
       "<table>\n",
       "<caption>A data.frame: 6 × 32</caption>\n",
       "<thead>\n",
       "\t<tr><th></th><th scope=col>sumtaransactions</th><th scope=col>locale_Ibarra</th><th scope=col>locale_Loja</th><th scope=col>locale_Manta</th><th scope=col>locale_Quito</th><th scope=col>National_Ecuador</th><th scope=col>maxoil</th><th scope=col>EQ_Impact</th><th scope=col>store_pct</th><th scope=col>city_pct</th><th scope=col>...</th><th scope=col>store_type_B</th><th scope=col>store_type_C</th><th scope=col>store_type_D</th><th scope=col>onpromotion_0</th><th scope=col>onpromotion_1</th><th scope=col>MM_1</th><th scope=col>MM_2</th><th scope=col>MM_3</th><th scope=col>MM_12</th><th scope=col>log_sales</th></tr>\n",
       "\t<tr><th></th><th scope=col>&lt;int&gt;</th><th scope=col>&lt;int&gt;</th><th scope=col>&lt;int&gt;</th><th scope=col>&lt;int&gt;</th><th scope=col>&lt;int&gt;</th><th scope=col>&lt;int&gt;</th><th scope=col>&lt;int&gt;</th><th scope=col>&lt;int&gt;</th><th scope=col>&lt;dbl&gt;</th><th scope=col>&lt;dbl&gt;</th><th scope=col>...</th><th scope=col>&lt;int&gt;</th><th scope=col>&lt;int&gt;</th><th scope=col>&lt;int&gt;</th><th scope=col>&lt;int&gt;</th><th scope=col>&lt;int&gt;</th><th scope=col>&lt;int&gt;</th><th scope=col>&lt;int&gt;</th><th scope=col>&lt;int&gt;</th><th scope=col>&lt;int&gt;</th><th scope=col>&lt;dbl&gt;</th></tr>\n",
       "</thead>\n",
       "<tbody>\n",
       "\t<tr><th scope=row>1</th><td>1652</td><td>0</td><td>0</td><td>0</td><td>0</td><td>7</td><td>22</td><td>0</td><td>0.03246823</td><td>0.48906957</td><td>...</td><td>0</td><td>0</td><td>1</td><td>0</td><td>0</td><td>1</td><td>0</td><td>0</td><td>0</td><td>5.509388</td></tr>\n",
       "\t<tr><th scope=row>2</th><td>1796</td><td>0</td><td>0</td><td>0</td><td>0</td><td>7</td><td>22</td><td>0</td><td>0.03295283</td><td>0.48906957</td><td>...</td><td>0</td><td>0</td><td>1</td><td>0</td><td>0</td><td>1</td><td>0</td><td>0</td><td>0</td><td>4.553877</td></tr>\n",
       "\t<tr><th scope=row>3</th><td> 308</td><td>0</td><td>0</td><td>0</td><td>0</td><td>7</td><td>22</td><td>0</td><td>0.01717639</td><td>0.12513461</td><td>...</td><td>0</td><td>0</td><td>1</td><td>0</td><td>0</td><td>1</td><td>0</td><td>0</td><td>0</td><td>4.276666</td></tr>\n",
       "\t<tr><th scope=row>4</th><td>1927</td><td>0</td><td>0</td><td>0</td><td>0</td><td>7</td><td>22</td><td>0</td><td>0.03273745</td><td>0.48906957</td><td>...</td><td>0</td><td>0</td><td>0</td><td>0</td><td>0</td><td>1</td><td>0</td><td>0</td><td>0</td><td>5.811141</td></tr>\n",
       "\t<tr><th scope=row>5</th><td> 808</td><td>0</td><td>0</td><td>0</td><td>0</td><td>7</td><td>22</td><td>0</td><td>0.02907603</td><td>0.05928279</td><td>...</td><td>0</td><td>0</td><td>1</td><td>0</td><td>0</td><td>1</td><td>0</td><td>0</td><td>0</td><td>3.091042</td></tr>\n",
       "\t<tr><th scope=row>6</th><td> 778</td><td>0</td><td>0</td><td>0</td><td>0</td><td>7</td><td>22</td><td>0</td><td>0.03020676</td><td>0.03020676</td><td>...</td><td>0</td><td>0</td><td>1</td><td>0</td><td>0</td><td>1</td><td>0</td><td>0</td><td>0</td><td>4.127134</td></tr>\n",
       "</tbody>\n",
       "</table>\n"
      ],
      "text/latex": [
       "A data.frame: 6 × 32\n",
       "\\begin{tabular}{r|lllllllllllllllllllll}\n",
       "  & sumtaransactions & locale\\_Ibarra & locale\\_Loja & locale\\_Manta & locale\\_Quito & National\\_Ecuador & maxoil & EQ\\_Impact & store\\_pct & city\\_pct & ... & store\\_type\\_B & store\\_type\\_C & store\\_type\\_D & onpromotion\\_0 & onpromotion\\_1 & MM\\_1 & MM\\_2 & MM\\_3 & MM\\_12 & log\\_sales\\\\\n",
       "  & <int> & <int> & <int> & <int> & <int> & <int> & <int> & <int> & <dbl> & <dbl> & ... & <int> & <int> & <int> & <int> & <int> & <int> & <int> & <int> & <int> & <dbl>\\\\\n",
       "\\hline\n",
       "\t1 & 1652 & 0 & 0 & 0 & 0 & 7 & 22 & 0 & 0.03246823 & 0.48906957 & ... & 0 & 0 & 1 & 0 & 0 & 1 & 0 & 0 & 0 & 5.509388\\\\\n",
       "\t2 & 1796 & 0 & 0 & 0 & 0 & 7 & 22 & 0 & 0.03295283 & 0.48906957 & ... & 0 & 0 & 1 & 0 & 0 & 1 & 0 & 0 & 0 & 4.553877\\\\\n",
       "\t3 &  308 & 0 & 0 & 0 & 0 & 7 & 22 & 0 & 0.01717639 & 0.12513461 & ... & 0 & 0 & 1 & 0 & 0 & 1 & 0 & 0 & 0 & 4.276666\\\\\n",
       "\t4 & 1927 & 0 & 0 & 0 & 0 & 7 & 22 & 0 & 0.03273745 & 0.48906957 & ... & 0 & 0 & 0 & 0 & 0 & 1 & 0 & 0 & 0 & 5.811141\\\\\n",
       "\t5 &  808 & 0 & 0 & 0 & 0 & 7 & 22 & 0 & 0.02907603 & 0.05928279 & ... & 0 & 0 & 1 & 0 & 0 & 1 & 0 & 0 & 0 & 3.091042\\\\\n",
       "\t6 &  778 & 0 & 0 & 0 & 0 & 7 & 22 & 0 & 0.03020676 & 0.03020676 & ... & 0 & 0 & 1 & 0 & 0 & 1 & 0 & 0 & 0 & 4.127134\\\\\n",
       "\\end{tabular}\n"
      ],
      "text/markdown": [
       "\n",
       "A data.frame: 6 × 32\n",
       "\n",
       "| <!--/--> | sumtaransactions &lt;int&gt; | locale_Ibarra &lt;int&gt; | locale_Loja &lt;int&gt; | locale_Manta &lt;int&gt; | locale_Quito &lt;int&gt; | National_Ecuador &lt;int&gt; | maxoil &lt;int&gt; | EQ_Impact &lt;int&gt; | store_pct &lt;dbl&gt; | city_pct &lt;dbl&gt; | ... ... | store_type_B &lt;int&gt; | store_type_C &lt;int&gt; | store_type_D &lt;int&gt; | onpromotion_0 &lt;int&gt; | onpromotion_1 &lt;int&gt; | MM_1 &lt;int&gt; | MM_2 &lt;int&gt; | MM_3 &lt;int&gt; | MM_12 &lt;int&gt; | log_sales &lt;dbl&gt; |\n",
       "|---|---|---|---|---|---|---|---|---|---|---|---|---|---|---|---|---|---|---|---|---|---|\n",
       "| 1 | 1652 | 0 | 0 | 0 | 0 | 7 | 22 | 0 | 0.03246823 | 0.48906957 | ... | 0 | 0 | 1 | 0 | 0 | 1 | 0 | 0 | 0 | 5.509388 |\n",
       "| 2 | 1796 | 0 | 0 | 0 | 0 | 7 | 22 | 0 | 0.03295283 | 0.48906957 | ... | 0 | 0 | 1 | 0 | 0 | 1 | 0 | 0 | 0 | 4.553877 |\n",
       "| 3 |  308 | 0 | 0 | 0 | 0 | 7 | 22 | 0 | 0.01717639 | 0.12513461 | ... | 0 | 0 | 1 | 0 | 0 | 1 | 0 | 0 | 0 | 4.276666 |\n",
       "| 4 | 1927 | 0 | 0 | 0 | 0 | 7 | 22 | 0 | 0.03273745 | 0.48906957 | ... | 0 | 0 | 0 | 0 | 0 | 1 | 0 | 0 | 0 | 5.811141 |\n",
       "| 5 |  808 | 0 | 0 | 0 | 0 | 7 | 22 | 0 | 0.02907603 | 0.05928279 | ... | 0 | 0 | 1 | 0 | 0 | 1 | 0 | 0 | 0 | 3.091042 |\n",
       "| 6 |  778 | 0 | 0 | 0 | 0 | 7 | 22 | 0 | 0.03020676 | 0.03020676 | ... | 0 | 0 | 1 | 0 | 0 | 1 | 0 | 0 | 0 | 4.127134 |\n",
       "\n"
      ],
      "text/plain": [
       "  sumtaransactions locale_Ibarra locale_Loja locale_Manta locale_Quito\n",
       "1 1652             0             0           0            0           \n",
       "2 1796             0             0           0            0           \n",
       "3  308             0             0           0            0           \n",
       "4 1927             0             0           0            0           \n",
       "5  808             0             0           0            0           \n",
       "6  778             0             0           0            0           \n",
       "  National_Ecuador maxoil EQ_Impact store_pct  city_pct   ... store_type_B\n",
       "1 7                22     0         0.03246823 0.48906957 ... 0           \n",
       "2 7                22     0         0.03295283 0.48906957 ... 0           \n",
       "3 7                22     0         0.01717639 0.12513461 ... 0           \n",
       "4 7                22     0         0.03273745 0.48906957 ... 0           \n",
       "5 7                22     0         0.02907603 0.05928279 ... 0           \n",
       "6 7                22     0         0.03020676 0.03020676 ... 0           \n",
       "  store_type_C store_type_D onpromotion_0 onpromotion_1 MM_1 MM_2 MM_3 MM_12\n",
       "1 0            1            0             0             1    0    0    0    \n",
       "2 0            1            0             0             1    0    0    0    \n",
       "3 0            1            0             0             1    0    0    0    \n",
       "4 0            0            0             0             1    0    0    0    \n",
       "5 0            1            0             0             1    0    0    0    \n",
       "6 0            1            0             0             1    0    0    0    \n",
       "  log_sales\n",
       "1 5.509388 \n",
       "2 4.553877 \n",
       "3 4.276666 \n",
       "4 5.811141 \n",
       "5 3.091042 \n",
       "6 4.127134 "
      ]
     },
     "metadata": {},
     "output_type": "display_data"
    }
   ],
   "source": [
    "head(data)"
   ]
  },
  {
   "cell_type": "code",
   "execution_count": 377,
   "metadata": {},
   "outputs": [
    {
     "data": {
      "text/html": [
       "<style>\n",
       ".list-inline {list-style: none; margin:0; padding: 0}\n",
       ".list-inline>li {display: inline-block}\n",
       ".list-inline>li:not(:last-child)::after {content: \"\\00b7\"; padding: 0 .5ex}\n",
       "</style>\n",
       "<ol class=list-inline><li>'sumtaransactions'</li><li>'locale_Ibarra'</li><li>'locale_Loja'</li><li>'locale_Manta'</li><li>'locale_Quito'</li><li>'National_Ecuador'</li><li>'maxoil'</li><li>'EQ_Impact'</li><li>'store_pct'</li><li>'city_pct'</li><li>'cluster_pct'</li><li>'item_nbr_589403'</li><li>'item_nbr_699745'</li><li>'item_nbr_741201'</li><li>'item_nbr_804098'</li><li>'item_nbr_1110679'</li><li>'item_nbr_1247036'</li><li>'class_2802'</li><li>'class_2850'</li><li>'class_2854'</li><li>'class_2864'</li><li>'store_type_A'</li><li>'store_type_B'</li><li>'store_type_C'</li><li>'store_type_D'</li><li>'onpromotion_0'</li><li>'onpromotion_1'</li><li>'MM_1'</li><li>'MM_2'</li><li>'MM_3'</li><li>'MM_12'</li><li>'log_sales'</li></ol>\n"
      ],
      "text/latex": [
       "\\begin{enumerate*}\n",
       "\\item 'sumtaransactions'\n",
       "\\item 'locale\\_Ibarra'\n",
       "\\item 'locale\\_Loja'\n",
       "\\item 'locale\\_Manta'\n",
       "\\item 'locale\\_Quito'\n",
       "\\item 'National\\_Ecuador'\n",
       "\\item 'maxoil'\n",
       "\\item 'EQ\\_Impact'\n",
       "\\item 'store\\_pct'\n",
       "\\item 'city\\_pct'\n",
       "\\item 'cluster\\_pct'\n",
       "\\item 'item\\_nbr\\_589403'\n",
       "\\item 'item\\_nbr\\_699745'\n",
       "\\item 'item\\_nbr\\_741201'\n",
       "\\item 'item\\_nbr\\_804098'\n",
       "\\item 'item\\_nbr\\_1110679'\n",
       "\\item 'item\\_nbr\\_1247036'\n",
       "\\item 'class\\_2802'\n",
       "\\item 'class\\_2850'\n",
       "\\item 'class\\_2854'\n",
       "\\item 'class\\_2864'\n",
       "\\item 'store\\_type\\_A'\n",
       "\\item 'store\\_type\\_B'\n",
       "\\item 'store\\_type\\_C'\n",
       "\\item 'store\\_type\\_D'\n",
       "\\item 'onpromotion\\_0'\n",
       "\\item 'onpromotion\\_1'\n",
       "\\item 'MM\\_1'\n",
       "\\item 'MM\\_2'\n",
       "\\item 'MM\\_3'\n",
       "\\item 'MM\\_12'\n",
       "\\item 'log\\_sales'\n",
       "\\end{enumerate*}\n"
      ],
      "text/markdown": [
       "1. 'sumtaransactions'\n",
       "2. 'locale_Ibarra'\n",
       "3. 'locale_Loja'\n",
       "4. 'locale_Manta'\n",
       "5. 'locale_Quito'\n",
       "6. 'National_Ecuador'\n",
       "7. 'maxoil'\n",
       "8. 'EQ_Impact'\n",
       "9. 'store_pct'\n",
       "10. 'city_pct'\n",
       "11. 'cluster_pct'\n",
       "12. 'item_nbr_589403'\n",
       "13. 'item_nbr_699745'\n",
       "14. 'item_nbr_741201'\n",
       "15. 'item_nbr_804098'\n",
       "16. 'item_nbr_1110679'\n",
       "17. 'item_nbr_1247036'\n",
       "18. 'class_2802'\n",
       "19. 'class_2850'\n",
       "20. 'class_2854'\n",
       "21. 'class_2864'\n",
       "22. 'store_type_A'\n",
       "23. 'store_type_B'\n",
       "24. 'store_type_C'\n",
       "25. 'store_type_D'\n",
       "26. 'onpromotion_0'\n",
       "27. 'onpromotion_1'\n",
       "28. 'MM_1'\n",
       "29. 'MM_2'\n",
       "30. 'MM_3'\n",
       "31. 'MM_12'\n",
       "32. 'log_sales'\n",
       "\n",
       "\n"
      ],
      "text/plain": [
       " [1] \"sumtaransactions\" \"locale_Ibarra\"    \"locale_Loja\"      \"locale_Manta\"    \n",
       " [5] \"locale_Quito\"     \"National_Ecuador\" \"maxoil\"           \"EQ_Impact\"       \n",
       " [9] \"store_pct\"        \"city_pct\"         \"cluster_pct\"      \"item_nbr_589403\" \n",
       "[13] \"item_nbr_699745\"  \"item_nbr_741201\"  \"item_nbr_804098\"  \"item_nbr_1110679\"\n",
       "[17] \"item_nbr_1247036\" \"class_2802\"       \"class_2850\"       \"class_2854\"      \n",
       "[21] \"class_2864\"       \"store_type_A\"     \"store_type_B\"     \"store_type_C\"    \n",
       "[25] \"store_type_D\"     \"onpromotion_0\"    \"onpromotion_1\"    \"MM_1\"            \n",
       "[29] \"MM_2\"             \"MM_3\"             \"MM_12\"            \"log_sales\"       "
      ]
     },
     "metadata": {},
     "output_type": "display_data"
    }
   ],
   "source": [
    "nm <- names(data)\n",
    "nm"
   ]
  },
  {
   "cell_type": "code",
   "execution_count": 378,
   "metadata": {},
   "outputs": [],
   "source": [
    "data[] <- lapply( data, factor) "
   ]
  },
  {
   "cell_type": "code",
   "execution_count": 379,
   "metadata": {},
   "outputs": [],
   "source": [
    "data$sumtaransactions<-as.numeric(data$sumtaransactions)\n",
    "data$National_Ecuador<-as.numeric(data$National_Ecuador)\n",
    "data$maxoil<-as.numeric(data$maxoil)\n",
    "data$store_pct<-as.numeric(data$store_pct)\n",
    "data$city_pct<-as.numeric(data$city_pct)\n",
    "data$cluster_pct<-as.numeric(data$cluster_pct)\n",
    "data$log_sales<-as.numeric(data$log_sales)"
   ]
  },
  {
   "cell_type": "code",
   "execution_count": 380,
   "metadata": {},
   "outputs": [
    {
     "data": {
      "text/plain": [
       " sumtaransactions locale_Ibarra locale_Loja locale_Manta locale_Quito\n",
       " Min.   :   1     0:17312       0:17138     0:16919      0:17138     \n",
       " 1st Qu.: 970     1: 1260       1: 1434     1: 1653      1: 1434     \n",
       " Median :1632                                                        \n",
       " Mean   :1520                                                        \n",
       " 3rd Qu.:2141                                                        \n",
       " Max.   :2538                                                        \n",
       " National_Ecuador     maxoil      EQ_Impact   store_pct        city_pct    \n",
       " Min.   : 1.000   Min.   : 1.00   0:17764   Min.   : 1.00   Min.   : 1.00  \n",
       " 1st Qu.: 1.000   1st Qu.: 7.00   1:  808   1st Qu.:25.00   1st Qu.:18.00  \n",
       " Median : 3.000   Median :10.00             Median :35.00   Median :21.00  \n",
       " Mean   : 4.155   Mean   :11.61             Mean   :32.57   Mean   :19.14  \n",
       " 3rd Qu.: 6.000   3rd Qu.:17.00             3rd Qu.:42.00   3rd Qu.:22.00  \n",
       " Max.   :11.000   Max.   :24.00             Max.   :46.00   Max.   :22.00  \n",
       "  cluster_pct    item_nbr_589403 item_nbr_699745 item_nbr_741201\n",
       " Min.   : 1.00   0:15867         0:16813         0:16272        \n",
       " 1st Qu.: 9.00   1: 2705         1: 1759         1: 2300        \n",
       " Median :13.00                                                  \n",
       " Mean   :11.74                                                  \n",
       " 3rd Qu.:15.00                                                  \n",
       " Max.   :17.00                                                  \n",
       " item_nbr_804098 item_nbr_1110679 item_nbr_1247036 class_2802 class_2850\n",
       " 0:16444         0:16305          0:15236          0:14486    0:13600   \n",
       " 1: 2128         1: 2267          1: 3336          1: 4086    1: 4972   \n",
       "                                                                        \n",
       "                                                                        \n",
       "                                                                        \n",
       "                                                                        \n",
       " class_2854 class_2864 store_type_A store_type_B store_type_C store_type_D\n",
       " 0:14144    0:15236    0:13693      0:16591      0:16586      0:9555      \n",
       " 1: 4428    1: 3336    1: 4879      1: 1981      1: 1986      1:9017      \n",
       "                                                                          \n",
       "                                                                          \n",
       "                                                                          \n",
       "                                                                          \n",
       " onpromotion_0 onpromotion_1 MM_1      MM_2      MM_3      MM_12    \n",
       " 0:10056       0:10582       0:16962   0:17112   0:16919   0:17138  \n",
       " 1: 8516       1: 7990       1: 1610   1: 1460   1: 1653   1: 1434  \n",
       "                                                                    \n",
       "                                                                    \n",
       "                                                                    \n",
       "                                                                    \n",
       "   log_sales     \n",
       " Min.   :  1.00  \n",
       " 1st Qu.: 16.00  \n",
       " Median : 47.00  \n",
       " Mean   : 99.41  \n",
       " 3rd Qu.:120.00  \n",
       " Max.   :840.00  "
      ]
     },
     "metadata": {},
     "output_type": "display_data"
    }
   ],
   "source": [
    "summary(data)"
   ]
  },
  {
   "cell_type": "code",
   "execution_count": 381,
   "metadata": {},
   "outputs": [
    {
     "data": {
      "text/html": [
       "<style>\n",
       ".list-inline {list-style: none; margin:0; padding: 0}\n",
       ".list-inline>li {display: inline-block}\n",
       ".list-inline>li:not(:last-child)::after {content: \"\\00b7\"; padding: 0 .5ex}\n",
       "</style>\n",
       "<ol class=list-inline><li>'sumtaransactions'</li><li>'locale_Ibarra'</li><li>'locale_Loja'</li><li>'locale_Manta'</li><li>'locale_Quito'</li><li>'National_Ecuador'</li><li>'maxoil'</li><li>'EQ_Impact'</li><li>'store_pct'</li><li>'city_pct'</li><li>'cluster_pct'</li><li>'item_nbr_589403'</li><li>'item_nbr_699745'</li><li>'item_nbr_741201'</li><li>'item_nbr_804098'</li><li>'item_nbr_1110679'</li><li>'item_nbr_1247036'</li><li>'class_2802'</li><li>'class_2850'</li><li>'class_2854'</li><li>'class_2864'</li><li>'store_type_A'</li><li>'store_type_B'</li><li>'store_type_C'</li><li>'store_type_D'</li><li>'onpromotion_0'</li><li>'onpromotion_1'</li><li>'MM_1'</li><li>'MM_2'</li><li>'MM_3'</li><li>'MM_12'</li><li>'log_sales'</li></ol>\n"
      ],
      "text/latex": [
       "\\begin{enumerate*}\n",
       "\\item 'sumtaransactions'\n",
       "\\item 'locale\\_Ibarra'\n",
       "\\item 'locale\\_Loja'\n",
       "\\item 'locale\\_Manta'\n",
       "\\item 'locale\\_Quito'\n",
       "\\item 'National\\_Ecuador'\n",
       "\\item 'maxoil'\n",
       "\\item 'EQ\\_Impact'\n",
       "\\item 'store\\_pct'\n",
       "\\item 'city\\_pct'\n",
       "\\item 'cluster\\_pct'\n",
       "\\item 'item\\_nbr\\_589403'\n",
       "\\item 'item\\_nbr\\_699745'\n",
       "\\item 'item\\_nbr\\_741201'\n",
       "\\item 'item\\_nbr\\_804098'\n",
       "\\item 'item\\_nbr\\_1110679'\n",
       "\\item 'item\\_nbr\\_1247036'\n",
       "\\item 'class\\_2802'\n",
       "\\item 'class\\_2850'\n",
       "\\item 'class\\_2854'\n",
       "\\item 'class\\_2864'\n",
       "\\item 'store\\_type\\_A'\n",
       "\\item 'store\\_type\\_B'\n",
       "\\item 'store\\_type\\_C'\n",
       "\\item 'store\\_type\\_D'\n",
       "\\item 'onpromotion\\_0'\n",
       "\\item 'onpromotion\\_1'\n",
       "\\item 'MM\\_1'\n",
       "\\item 'MM\\_2'\n",
       "\\item 'MM\\_3'\n",
       "\\item 'MM\\_12'\n",
       "\\item 'log\\_sales'\n",
       "\\end{enumerate*}\n"
      ],
      "text/markdown": [
       "1. 'sumtaransactions'\n",
       "2. 'locale_Ibarra'\n",
       "3. 'locale_Loja'\n",
       "4. 'locale_Manta'\n",
       "5. 'locale_Quito'\n",
       "6. 'National_Ecuador'\n",
       "7. 'maxoil'\n",
       "8. 'EQ_Impact'\n",
       "9. 'store_pct'\n",
       "10. 'city_pct'\n",
       "11. 'cluster_pct'\n",
       "12. 'item_nbr_589403'\n",
       "13. 'item_nbr_699745'\n",
       "14. 'item_nbr_741201'\n",
       "15. 'item_nbr_804098'\n",
       "16. 'item_nbr_1110679'\n",
       "17. 'item_nbr_1247036'\n",
       "18. 'class_2802'\n",
       "19. 'class_2850'\n",
       "20. 'class_2854'\n",
       "21. 'class_2864'\n",
       "22. 'store_type_A'\n",
       "23. 'store_type_B'\n",
       "24. 'store_type_C'\n",
       "25. 'store_type_D'\n",
       "26. 'onpromotion_0'\n",
       "27. 'onpromotion_1'\n",
       "28. 'MM_1'\n",
       "29. 'MM_2'\n",
       "30. 'MM_3'\n",
       "31. 'MM_12'\n",
       "32. 'log_sales'\n",
       "\n",
       "\n"
      ],
      "text/plain": [
       " [1] \"sumtaransactions\" \"locale_Ibarra\"    \"locale_Loja\"      \"locale_Manta\"    \n",
       " [5] \"locale_Quito\"     \"National_Ecuador\" \"maxoil\"           \"EQ_Impact\"       \n",
       " [9] \"store_pct\"        \"city_pct\"         \"cluster_pct\"      \"item_nbr_589403\" \n",
       "[13] \"item_nbr_699745\"  \"item_nbr_741201\"  \"item_nbr_804098\"  \"item_nbr_1110679\"\n",
       "[17] \"item_nbr_1247036\" \"class_2802\"       \"class_2850\"       \"class_2854\"      \n",
       "[21] \"class_2864\"       \"store_type_A\"     \"store_type_B\"     \"store_type_C\"    \n",
       "[25] \"store_type_D\"     \"onpromotion_0\"    \"onpromotion_1\"    \"MM_1\"            \n",
       "[29] \"MM_2\"             \"MM_3\"             \"MM_12\"            \"log_sales\"       "
      ]
     },
     "metadata": {},
     "output_type": "display_data"
    }
   ],
   "source": [
    "vn <- names(data)\n",
    "vn"
   ]
  },
  {
   "cell_type": "code",
   "execution_count": 382,
   "metadata": {},
   "outputs": [],
   "source": [
    "#library(devtools)\n",
    "#install_github(\"karpatit/mechkar\")\n",
    "require(mechkar)"
   ]
  },
  {
   "cell_type": "code",
   "execution_count": 383,
   "metadata": {},
   "outputs": [
    {
     "name": "stderr",
     "output_type": "stream",
     "text": [
      "Warning message in Table1(data = data, x = vn, y = \"log_sales\"):\n",
      "\"The following variables have unique values and will not be included in the analysis: \"\n"
     ]
    },
    {
     "name": "stdout",
     "output_type": "stream",
     "text": [
      "  |======================================================================| 100%"
     ]
    },
    {
     "name": "stderr",
     "output_type": "stream",
     "text": [
      "The dependent variable has more than 8 levels, table too large!\n",
      "\n"
     ]
    },
    {
     "data": {
      "text/html": [
       "<table>\n",
       "<caption>A tibble: 73 × 3</caption>\n",
       "<thead>\n",
       "\t<tr><th scope=col>V1</th><th scope=col>V2</th><th scope=col>Pop</th></tr>\n",
       "\t<tr><th scope=col>&lt;chr&gt;</th><th scope=col>&lt;chr&gt;</th><th scope=col>&lt;chr&gt;</th></tr>\n",
       "</thead>\n",
       "<tbody>\n",
       "\t<tr><td>Variables       </td><td>Categories  </td><td>Population             </td></tr>\n",
       "\t<tr><td>Individuals     </td><td>n           </td><td>18572                  </td></tr>\n",
       "\t<tr><td>sumtaransactions</td><td>Mean (SD)   </td><td>1,520.2 (705.6)        </td></tr>\n",
       "\t<tr><td>sumtaransactions</td><td>Median (IQR)</td><td>1,632.0 (970.0-2,141.0)</td></tr>\n",
       "\t<tr><td>sumtaransactions</td><td>Missing (%) </td><td> --                    </td></tr>\n",
       "\t<tr><td>locale_Ibarra   </td><td>0           </td><td>17,312 (93.2%)         </td></tr>\n",
       "\t<tr><td>locale_Ibarra   </td><td>1           </td><td>1,260 (6.8%)           </td></tr>\n",
       "\t<tr><td>locale_Loja     </td><td>0           </td><td>17,138 (92.3%)         </td></tr>\n",
       "\t<tr><td>locale_Loja     </td><td>1           </td><td>1,434 (7.7%)           </td></tr>\n",
       "\t<tr><td>locale_Manta    </td><td>0           </td><td>16,919 (91.1%)         </td></tr>\n",
       "\t<tr><td>locale_Manta    </td><td>1           </td><td>1,653 (8.9%)           </td></tr>\n",
       "\t<tr><td>locale_Quito    </td><td>0           </td><td>17,138 (92.3%)         </td></tr>\n",
       "\t<tr><td>locale_Quito    </td><td>1           </td><td>1,434 (7.7%)           </td></tr>\n",
       "\t<tr><td>National_Ecuador</td><td>Mean (SD)   </td><td>4.2 (3.2)              </td></tr>\n",
       "\t<tr><td>National_Ecuador</td><td>Median (IQR)</td><td>3.0 (1.0-6.0)          </td></tr>\n",
       "\t<tr><td>National_Ecuador</td><td>Missing (%) </td><td> --                    </td></tr>\n",
       "\t<tr><td>maxoil          </td><td>Mean (SD)   </td><td>11.6 (6.7)             </td></tr>\n",
       "\t<tr><td>maxoil          </td><td>Median (IQR)</td><td>10.0 (7.0-17.0)        </td></tr>\n",
       "\t<tr><td>maxoil          </td><td>Missing (%) </td><td> --                    </td></tr>\n",
       "\t<tr><td>EQ_Impact       </td><td>0           </td><td>17,764 (95.6%)         </td></tr>\n",
       "\t<tr><td>EQ_Impact       </td><td>1           </td><td>808 (4.4%)             </td></tr>\n",
       "\t<tr><td>store_pct       </td><td>Mean (SD)   </td><td>32.6 (11.3)            </td></tr>\n",
       "\t<tr><td>store_pct       </td><td>Median (IQR)</td><td>35.0 (25.0-42.0)       </td></tr>\n",
       "\t<tr><td>store_pct       </td><td>Missing (%) </td><td> --                    </td></tr>\n",
       "\t<tr><td>city_pct        </td><td>Mean (SD)   </td><td>19.1 (4.6)             </td></tr>\n",
       "\t<tr><td>city_pct        </td><td>Median (IQR)</td><td>21.0 (18.0-22.0)       </td></tr>\n",
       "\t<tr><td>city_pct        </td><td>Missing (%) </td><td> --                    </td></tr>\n",
       "\t<tr><td>cluster_pct     </td><td>Mean (SD)   </td><td>11.7 (4.2)             </td></tr>\n",
       "\t<tr><td>cluster_pct     </td><td>Median (IQR)</td><td>13.0 (9.0-15.0)        </td></tr>\n",
       "\t<tr><td>cluster_pct     </td><td>Missing (%) </td><td> --                    </td></tr>\n",
       "\t<tr><td>...</td><td>...</td><td>...</td></tr>\n",
       "\t<tr><td>class_2802   </td><td>1           </td><td>4,086 (22.0%)    </td></tr>\n",
       "\t<tr><td>class_2850   </td><td>0           </td><td>13,600 (73.2%)   </td></tr>\n",
       "\t<tr><td>class_2850   </td><td>1           </td><td>4,972 (26.8%)    </td></tr>\n",
       "\t<tr><td>class_2854   </td><td>0           </td><td>14,144 (76.2%)   </td></tr>\n",
       "\t<tr><td>class_2854   </td><td>1           </td><td>4,428 (23.8%)    </td></tr>\n",
       "\t<tr><td>class_2864   </td><td>0           </td><td>15,236 (82.0%)   </td></tr>\n",
       "\t<tr><td>class_2864   </td><td>1           </td><td>3,336 (18.0%)    </td></tr>\n",
       "\t<tr><td>store_type_A </td><td>0           </td><td>13,693 (73.7%)   </td></tr>\n",
       "\t<tr><td>store_type_A </td><td>1           </td><td>4,879 (26.3%)    </td></tr>\n",
       "\t<tr><td>store_type_B </td><td>0           </td><td>16,591 (89.3%)   </td></tr>\n",
       "\t<tr><td>store_type_B </td><td>1           </td><td>1,981 (10.7%)    </td></tr>\n",
       "\t<tr><td>store_type_C </td><td>0           </td><td>16,586 (89.3%)   </td></tr>\n",
       "\t<tr><td>store_type_C </td><td>1           </td><td>1,986 (10.7%)    </td></tr>\n",
       "\t<tr><td>store_type_D </td><td>0           </td><td>9,555 (51.4%)    </td></tr>\n",
       "\t<tr><td>store_type_D </td><td>1           </td><td>9,017 (48.6%)    </td></tr>\n",
       "\t<tr><td>onpromotion_0</td><td>0           </td><td>10,056 (54.1%)   </td></tr>\n",
       "\t<tr><td>onpromotion_0</td><td>1           </td><td>8,516 (45.9%)    </td></tr>\n",
       "\t<tr><td>onpromotion_1</td><td>0           </td><td>10,582 (57.0%)   </td></tr>\n",
       "\t<tr><td>onpromotion_1</td><td>1           </td><td>7,990 (43.0%)    </td></tr>\n",
       "\t<tr><td>MM_1         </td><td>0           </td><td>16,962 (91.3%)   </td></tr>\n",
       "\t<tr><td>MM_1         </td><td>1           </td><td>1,610 (8.7%)     </td></tr>\n",
       "\t<tr><td>MM_2         </td><td>0           </td><td>17,112 (92.1%)   </td></tr>\n",
       "\t<tr><td>MM_2         </td><td>1           </td><td>1,460 (7.9%)     </td></tr>\n",
       "\t<tr><td>MM_3         </td><td>0           </td><td>16,919 (91.1%)   </td></tr>\n",
       "\t<tr><td>MM_3         </td><td>1           </td><td>1,653 (8.9%)     </td></tr>\n",
       "\t<tr><td>MM_12        </td><td>0           </td><td>17,138 (92.3%)   </td></tr>\n",
       "\t<tr><td>MM_12        </td><td>1           </td><td>1,434 (7.7%)     </td></tr>\n",
       "\t<tr><td>log_sales    </td><td>Mean (SD)   </td><td>99.4 (138.0)     </td></tr>\n",
       "\t<tr><td>log_sales    </td><td>Median (IQR)</td><td>47.0 (16.0-120.0)</td></tr>\n",
       "\t<tr><td>log_sales    </td><td>Missing (%) </td><td> --              </td></tr>\n",
       "</tbody>\n",
       "</table>\n"
      ],
      "text/latex": [
       "A tibble: 73 × 3\n",
       "\\begin{tabular}{lll}\n",
       " V1 & V2 & Pop\\\\\n",
       " <chr> & <chr> & <chr>\\\\\n",
       "\\hline\n",
       "\t Variables        & Categories   & Population             \\\\\n",
       "\t Individuals      & n            & 18572                  \\\\\n",
       "\t sumtaransactions & Mean (SD)    & 1,520.2 (705.6)        \\\\\n",
       "\t sumtaransactions & Median (IQR) & 1,632.0 (970.0-2,141.0)\\\\\n",
       "\t sumtaransactions & Missing (\\%)  &  --                    \\\\\n",
       "\t locale\\_Ibarra    & 0            & 17,312 (93.2\\%)         \\\\\n",
       "\t locale\\_Ibarra    & 1            & 1,260 (6.8\\%)           \\\\\n",
       "\t locale\\_Loja      & 0            & 17,138 (92.3\\%)         \\\\\n",
       "\t locale\\_Loja      & 1            & 1,434 (7.7\\%)           \\\\\n",
       "\t locale\\_Manta     & 0            & 16,919 (91.1\\%)         \\\\\n",
       "\t locale\\_Manta     & 1            & 1,653 (8.9\\%)           \\\\\n",
       "\t locale\\_Quito     & 0            & 17,138 (92.3\\%)         \\\\\n",
       "\t locale\\_Quito     & 1            & 1,434 (7.7\\%)           \\\\\n",
       "\t National\\_Ecuador & Mean (SD)    & 4.2 (3.2)              \\\\\n",
       "\t National\\_Ecuador & Median (IQR) & 3.0 (1.0-6.0)          \\\\\n",
       "\t National\\_Ecuador & Missing (\\%)  &  --                    \\\\\n",
       "\t maxoil           & Mean (SD)    & 11.6 (6.7)             \\\\\n",
       "\t maxoil           & Median (IQR) & 10.0 (7.0-17.0)        \\\\\n",
       "\t maxoil           & Missing (\\%)  &  --                    \\\\\n",
       "\t EQ\\_Impact        & 0            & 17,764 (95.6\\%)         \\\\\n",
       "\t EQ\\_Impact        & 1            & 808 (4.4\\%)             \\\\\n",
       "\t store\\_pct        & Mean (SD)    & 32.6 (11.3)            \\\\\n",
       "\t store\\_pct        & Median (IQR) & 35.0 (25.0-42.0)       \\\\\n",
       "\t store\\_pct        & Missing (\\%)  &  --                    \\\\\n",
       "\t city\\_pct         & Mean (SD)    & 19.1 (4.6)             \\\\\n",
       "\t city\\_pct         & Median (IQR) & 21.0 (18.0-22.0)       \\\\\n",
       "\t city\\_pct         & Missing (\\%)  &  --                    \\\\\n",
       "\t cluster\\_pct      & Mean (SD)    & 11.7 (4.2)             \\\\\n",
       "\t cluster\\_pct      & Median (IQR) & 13.0 (9.0-15.0)        \\\\\n",
       "\t cluster\\_pct      & Missing (\\%)  &  --                    \\\\\n",
       "\t ... & ... & ...\\\\\n",
       "\t class\\_2802    & 1            & 4,086 (22.0\\%)    \\\\\n",
       "\t class\\_2850    & 0            & 13,600 (73.2\\%)   \\\\\n",
       "\t class\\_2850    & 1            & 4,972 (26.8\\%)    \\\\\n",
       "\t class\\_2854    & 0            & 14,144 (76.2\\%)   \\\\\n",
       "\t class\\_2854    & 1            & 4,428 (23.8\\%)    \\\\\n",
       "\t class\\_2864    & 0            & 15,236 (82.0\\%)   \\\\\n",
       "\t class\\_2864    & 1            & 3,336 (18.0\\%)    \\\\\n",
       "\t store\\_type\\_A  & 0            & 13,693 (73.7\\%)   \\\\\n",
       "\t store\\_type\\_A  & 1            & 4,879 (26.3\\%)    \\\\\n",
       "\t store\\_type\\_B  & 0            & 16,591 (89.3\\%)   \\\\\n",
       "\t store\\_type\\_B  & 1            & 1,981 (10.7\\%)    \\\\\n",
       "\t store\\_type\\_C  & 0            & 16,586 (89.3\\%)   \\\\\n",
       "\t store\\_type\\_C  & 1            & 1,986 (10.7\\%)    \\\\\n",
       "\t store\\_type\\_D  & 0            & 9,555 (51.4\\%)    \\\\\n",
       "\t store\\_type\\_D  & 1            & 9,017 (48.6\\%)    \\\\\n",
       "\t onpromotion\\_0 & 0            & 10,056 (54.1\\%)   \\\\\n",
       "\t onpromotion\\_0 & 1            & 8,516 (45.9\\%)    \\\\\n",
       "\t onpromotion\\_1 & 0            & 10,582 (57.0\\%)   \\\\\n",
       "\t onpromotion\\_1 & 1            & 7,990 (43.0\\%)    \\\\\n",
       "\t MM\\_1          & 0            & 16,962 (91.3\\%)   \\\\\n",
       "\t MM\\_1          & 1            & 1,610 (8.7\\%)     \\\\\n",
       "\t MM\\_2          & 0            & 17,112 (92.1\\%)   \\\\\n",
       "\t MM\\_2          & 1            & 1,460 (7.9\\%)     \\\\\n",
       "\t MM\\_3          & 0            & 16,919 (91.1\\%)   \\\\\n",
       "\t MM\\_3          & 1            & 1,653 (8.9\\%)     \\\\\n",
       "\t MM\\_12         & 0            & 17,138 (92.3\\%)   \\\\\n",
       "\t MM\\_12         & 1            & 1,434 (7.7\\%)     \\\\\n",
       "\t log\\_sales     & Mean (SD)    & 99.4 (138.0)     \\\\\n",
       "\t log\\_sales     & Median (IQR) & 47.0 (16.0-120.0)\\\\\n",
       "\t log\\_sales     & Missing (\\%)  &  --              \\\\\n",
       "\\end{tabular}\n"
      ],
      "text/markdown": [
       "\n",
       "A tibble: 73 × 3\n",
       "\n",
       "| V1 &lt;chr&gt; | V2 &lt;chr&gt; | Pop &lt;chr&gt; |\n",
       "|---|---|---|\n",
       "| Variables        | Categories   | Population              |\n",
       "| Individuals      | n            | 18572                   |\n",
       "| sumtaransactions | Mean (SD)    | 1,520.2 (705.6)         |\n",
       "| sumtaransactions | Median (IQR) | 1,632.0 (970.0-2,141.0) |\n",
       "| sumtaransactions | Missing (%)  |  --                     |\n",
       "| locale_Ibarra    | 0            | 17,312 (93.2%)          |\n",
       "| locale_Ibarra    | 1            | 1,260 (6.8%)            |\n",
       "| locale_Loja      | 0            | 17,138 (92.3%)          |\n",
       "| locale_Loja      | 1            | 1,434 (7.7%)            |\n",
       "| locale_Manta     | 0            | 16,919 (91.1%)          |\n",
       "| locale_Manta     | 1            | 1,653 (8.9%)            |\n",
       "| locale_Quito     | 0            | 17,138 (92.3%)          |\n",
       "| locale_Quito     | 1            | 1,434 (7.7%)            |\n",
       "| National_Ecuador | Mean (SD)    | 4.2 (3.2)               |\n",
       "| National_Ecuador | Median (IQR) | 3.0 (1.0-6.0)           |\n",
       "| National_Ecuador | Missing (%)  |  --                     |\n",
       "| maxoil           | Mean (SD)    | 11.6 (6.7)              |\n",
       "| maxoil           | Median (IQR) | 10.0 (7.0-17.0)         |\n",
       "| maxoil           | Missing (%)  |  --                     |\n",
       "| EQ_Impact        | 0            | 17,764 (95.6%)          |\n",
       "| EQ_Impact        | 1            | 808 (4.4%)              |\n",
       "| store_pct        | Mean (SD)    | 32.6 (11.3)             |\n",
       "| store_pct        | Median (IQR) | 35.0 (25.0-42.0)        |\n",
       "| store_pct        | Missing (%)  |  --                     |\n",
       "| city_pct         | Mean (SD)    | 19.1 (4.6)              |\n",
       "| city_pct         | Median (IQR) | 21.0 (18.0-22.0)        |\n",
       "| city_pct         | Missing (%)  |  --                     |\n",
       "| cluster_pct      | Mean (SD)    | 11.7 (4.2)              |\n",
       "| cluster_pct      | Median (IQR) | 13.0 (9.0-15.0)         |\n",
       "| cluster_pct      | Missing (%)  |  --                     |\n",
       "| ... | ... | ... |\n",
       "| class_2802    | 1            | 4,086 (22.0%)     |\n",
       "| class_2850    | 0            | 13,600 (73.2%)    |\n",
       "| class_2850    | 1            | 4,972 (26.8%)     |\n",
       "| class_2854    | 0            | 14,144 (76.2%)    |\n",
       "| class_2854    | 1            | 4,428 (23.8%)     |\n",
       "| class_2864    | 0            | 15,236 (82.0%)    |\n",
       "| class_2864    | 1            | 3,336 (18.0%)     |\n",
       "| store_type_A  | 0            | 13,693 (73.7%)    |\n",
       "| store_type_A  | 1            | 4,879 (26.3%)     |\n",
       "| store_type_B  | 0            | 16,591 (89.3%)    |\n",
       "| store_type_B  | 1            | 1,981 (10.7%)     |\n",
       "| store_type_C  | 0            | 16,586 (89.3%)    |\n",
       "| store_type_C  | 1            | 1,986 (10.7%)     |\n",
       "| store_type_D  | 0            | 9,555 (51.4%)     |\n",
       "| store_type_D  | 1            | 9,017 (48.6%)     |\n",
       "| onpromotion_0 | 0            | 10,056 (54.1%)    |\n",
       "| onpromotion_0 | 1            | 8,516 (45.9%)     |\n",
       "| onpromotion_1 | 0            | 10,582 (57.0%)    |\n",
       "| onpromotion_1 | 1            | 7,990 (43.0%)     |\n",
       "| MM_1          | 0            | 16,962 (91.3%)    |\n",
       "| MM_1          | 1            | 1,610 (8.7%)      |\n",
       "| MM_2          | 0            | 17,112 (92.1%)    |\n",
       "| MM_2          | 1            | 1,460 (7.9%)      |\n",
       "| MM_3          | 0            | 16,919 (91.1%)    |\n",
       "| MM_3          | 1            | 1,653 (8.9%)      |\n",
       "| MM_12         | 0            | 17,138 (92.3%)    |\n",
       "| MM_12         | 1            | 1,434 (7.7%)      |\n",
       "| log_sales     | Mean (SD)    | 99.4 (138.0)      |\n",
       "| log_sales     | Median (IQR) | 47.0 (16.0-120.0) |\n",
       "| log_sales     | Missing (%)  |  --               |\n",
       "\n"
      ],
      "text/plain": [
       "    V1               V2           Pop                    \n",
       "1   Variables        Categories   Population             \n",
       "2   Individuals      n            18572                  \n",
       "3   sumtaransactions Mean (SD)    1,520.2 (705.6)        \n",
       "4   sumtaransactions Median (IQR) 1,632.0 (970.0-2,141.0)\n",
       "5   sumtaransactions Missing (%)   --                    \n",
       "6   locale_Ibarra    0            17,312 (93.2%)         \n",
       "7   locale_Ibarra    1            1,260 (6.8%)           \n",
       "8   locale_Loja      0            17,138 (92.3%)         \n",
       "9   locale_Loja      1            1,434 (7.7%)           \n",
       "10  locale_Manta     0            16,919 (91.1%)         \n",
       "11  locale_Manta     1            1,653 (8.9%)           \n",
       "12  locale_Quito     0            17,138 (92.3%)         \n",
       "13  locale_Quito     1            1,434 (7.7%)           \n",
       "14  National_Ecuador Mean (SD)    4.2 (3.2)              \n",
       "15  National_Ecuador Median (IQR) 3.0 (1.0-6.0)          \n",
       "16  National_Ecuador Missing (%)   --                    \n",
       "17  maxoil           Mean (SD)    11.6 (6.7)             \n",
       "18  maxoil           Median (IQR) 10.0 (7.0-17.0)        \n",
       "19  maxoil           Missing (%)   --                    \n",
       "20  EQ_Impact        0            17,764 (95.6%)         \n",
       "21  EQ_Impact        1            808 (4.4%)             \n",
       "22  store_pct        Mean (SD)    32.6 (11.3)            \n",
       "23  store_pct        Median (IQR) 35.0 (25.0-42.0)       \n",
       "24  store_pct        Missing (%)   --                    \n",
       "25  city_pct         Mean (SD)    19.1 (4.6)             \n",
       "26  city_pct         Median (IQR) 21.0 (18.0-22.0)       \n",
       "27  city_pct         Missing (%)   --                    \n",
       "28  cluster_pct      Mean (SD)    11.7 (4.2)             \n",
       "29  cluster_pct      Median (IQR) 13.0 (9.0-15.0)        \n",
       "30  cluster_pct      Missing (%)   --                    \n",
       "... ...              ...          ...                    \n",
       "44  class_2802       1            4,086 (22.0%)          \n",
       "45  class_2850       0            13,600 (73.2%)         \n",
       "46  class_2850       1            4,972 (26.8%)          \n",
       "47  class_2854       0            14,144 (76.2%)         \n",
       "48  class_2854       1            4,428 (23.8%)          \n",
       "49  class_2864       0            15,236 (82.0%)         \n",
       "50  class_2864       1            3,336 (18.0%)          \n",
       "51  store_type_A     0            13,693 (73.7%)         \n",
       "52  store_type_A     1            4,879 (26.3%)          \n",
       "53  store_type_B     0            16,591 (89.3%)         \n",
       "54  store_type_B     1            1,981 (10.7%)          \n",
       "55  store_type_C     0            16,586 (89.3%)         \n",
       "56  store_type_C     1            1,986 (10.7%)          \n",
       "57  store_type_D     0            9,555 (51.4%)          \n",
       "58  store_type_D     1            9,017 (48.6%)          \n",
       "59  onpromotion_0    0            10,056 (54.1%)         \n",
       "60  onpromotion_0    1            8,516 (45.9%)          \n",
       "61  onpromotion_1    0            10,582 (57.0%)         \n",
       "62  onpromotion_1    1            7,990 (43.0%)          \n",
       "63  MM_1             0            16,962 (91.3%)         \n",
       "64  MM_1             1            1,610 (8.7%)           \n",
       "65  MM_2             0            17,112 (92.1%)         \n",
       "66  MM_2             1            1,460 (7.9%)           \n",
       "67  MM_3             0            16,919 (91.1%)         \n",
       "68  MM_3             1            1,653 (8.9%)           \n",
       "69  MM_12            0            17,138 (92.3%)         \n",
       "70  MM_12            1            1,434 (7.7%)           \n",
       "71  log_sales        Mean (SD)    99.4 (138.0)           \n",
       "72  log_sales        Median (IQR) 47.0 (16.0-120.0)      \n",
       "73  log_sales        Missing (%)   --                    "
      ]
     },
     "metadata": {},
     "output_type": "display_data"
    }
   ],
   "source": [
    "Table1(data = data,x = vn,y = \"log_sales\")"
   ]
  },
  {
   "cell_type": "markdown",
   "metadata": {},
   "source": [
    "### Test Dataset ####"
   ]
  },
  {
   "cell_type": "code",
   "execution_count": 384,
   "metadata": {},
   "outputs": [
    {
     "name": "stderr",
     "output_type": "stream",
     "text": [
      "Dataset partitioned into:\n",
      "\n",
      " + Train dataset: temp\n",
      "\n",
      " + Test dataset: test\n",
      "\n",
      "Warning message in Table1(data = df, y = \"traintest_ind_\", messages = FALSE):\n",
      "\"The following variables have unique values and will not be included in the analysis: \"\n"
     ]
    },
    {
     "name": "stdout",
     "output_type": "stream",
     "text": [
      "  |====================================================================  |  97%"
     ]
    },
    {
     "name": "stderr",
     "output_type": "stream",
     "text": [
      " \n",
      "\n",
      "You got a perfectly balanced training and test datasets\n",
      "\n",
      " \n",
      "\n"
     ]
    }
   ],
   "source": [
    "tab1 <- train_test(data = data[,vn], train_name = \"temp\", test_name = \"test\",prop = 0.8, seed = 5, tableone=T)"
   ]
  },
  {
   "cell_type": "code",
   "execution_count": 385,
   "metadata": {},
   "outputs": [
    {
     "data": {
      "text/html": [
       "<style>\n",
       ".list-inline {list-style: none; margin:0; padding: 0}\n",
       ".list-inline>li {display: inline-block}\n",
       ".list-inline>li:not(:last-child)::after {content: \"\\00b7\"; padding: 0 .5ex}\n",
       "</style>\n",
       "<ol class=list-inline><li>14857</li><li>32</li></ol>\n"
      ],
      "text/latex": [
       "\\begin{enumerate*}\n",
       "\\item 14857\n",
       "\\item 32\n",
       "\\end{enumerate*}\n"
      ],
      "text/markdown": [
       "1. 14857\n",
       "2. 32\n",
       "\n",
       "\n"
      ],
      "text/plain": [
       "[1] 14857    32"
      ]
     },
     "metadata": {},
     "output_type": "display_data"
    },
    {
     "data": {
      "text/html": [
       "<style>\n",
       ".list-inline {list-style: none; margin:0; padding: 0}\n",
       ".list-inline>li {display: inline-block}\n",
       ".list-inline>li:not(:last-child)::after {content: \"\\00b7\"; padding: 0 .5ex}\n",
       "</style>\n",
       "<ol class=list-inline><li>3715</li><li>32</li></ol>\n"
      ],
      "text/latex": [
       "\\begin{enumerate*}\n",
       "\\item 3715\n",
       "\\item 32\n",
       "\\end{enumerate*}\n"
      ],
      "text/markdown": [
       "1. 3715\n",
       "2. 32\n",
       "\n",
       "\n"
      ],
      "text/plain": [
       "[1] 3715   32"
      ]
     },
     "metadata": {},
     "output_type": "display_data"
    }
   ],
   "source": [
    "dim(temp)\n",
    "dim(test)"
   ]
  },
  {
   "cell_type": "code",
   "execution_count": 386,
   "metadata": {},
   "outputs": [
    {
     "data": {
      "text/html": [
       "<table>\n",
       "<caption>A tibble: 42 × 6</caption>\n",
       "<thead>\n",
       "\t<tr><th scope=col>V1</th><th scope=col>V2</th><th scope=col>Pop</th><th scope=col>1</th><th scope=col>2</th><th scope=col>pval</th></tr>\n",
       "\t<tr><th scope=col>&lt;chr&gt;</th><th scope=col>&lt;chr&gt;</th><th scope=col>&lt;chr&gt;</th><th scope=col>&lt;chr&gt;</th><th scope=col>&lt;chr&gt;</th><th scope=col>&lt;chr&gt;</th></tr>\n",
       "</thead>\n",
       "<tbody>\n",
       "\t<tr><td>Individuals     </td><td>n           </td><td>18572                  </td><td>14857                  </td><td>3715                   </td><td>NA   </td></tr>\n",
       "\t<tr><td>sumtaransactions</td><td>Mean (SD)   </td><td>1,520.2 (705.6)        </td><td>1,517.0 (706.9)        </td><td>1,532.8 (700.5)        </td><td>NA   </td></tr>\n",
       "\t<tr><td>sumtaransactions</td><td>Median (IQR)</td><td>1,632.0 (970.0-2,141.0)</td><td>1,628.0 (965.0-2,141.0)</td><td>1,654.0 (976.5-2,143.5)</td><td>0.224</td></tr>\n",
       "\t<tr><td>locale_Ibarra   </td><td>1           </td><td>1,260 (6.8%)           </td><td>1,023 (6.9%)           </td><td>237 (6.4%)             </td><td>0.289</td></tr>\n",
       "\t<tr><td>locale_Loja     </td><td>1           </td><td>1,434 (7.7%)           </td><td>1,133 (7.6%)           </td><td>301 (8.1%)             </td><td>0.348</td></tr>\n",
       "\t<tr><td>locale_Manta    </td><td>1           </td><td>1,653 (8.9%)           </td><td>1,324 (8.9%)           </td><td>329 (8.9%)             </td><td>0.941</td></tr>\n",
       "\t<tr><td>locale_Quito    </td><td>1           </td><td>1,434 (7.7%)           </td><td>1,133 (7.6%)           </td><td>301 (8.1%)             </td><td>0.348</td></tr>\n",
       "\t<tr><td>National_Ecuador</td><td>Mean (SD)   </td><td>4.2 (3.2)              </td><td>4.1 (3.2)              </td><td>4.2 (3.2)              </td><td>NA   </td></tr>\n",
       "\t<tr><td>National_Ecuador</td><td>Median (IQR)</td><td>3.0 (1.0-6.0)          </td><td>3.0 (1.0-6.0)          </td><td>3.0 (1.0-6.0)          </td><td>0.21 </td></tr>\n",
       "\t<tr><td>maxoil          </td><td>Mean (SD)   </td><td>11.6 (6.7)             </td><td>11.6 (6.7)             </td><td>11.6 (6.7)             </td><td>NA   </td></tr>\n",
       "\t<tr><td>maxoil          </td><td>Median (IQR)</td><td>10.0 (7.0-17.0)        </td><td>10.0 (7.0-17.0)        </td><td>10.0 (7.0-17.0)        </td><td>0.957</td></tr>\n",
       "\t<tr><td>EQ_Impact       </td><td>1           </td><td>808 (4.4%)             </td><td>635 (4.3%)             </td><td>173 (4.7%)             </td><td>0.328</td></tr>\n",
       "\t<tr><td>store_pct       </td><td>Mean (SD)   </td><td>32.6 (11.3)            </td><td>32.5 (11.3)            </td><td>32.7 (11.3)            </td><td>NA   </td></tr>\n",
       "\t<tr><td>store_pct       </td><td>Median (IQR)</td><td>35.0 (25.0-42.0)       </td><td>35.0 (25.0-42.0)       </td><td>35.0 (26.0-42.0)       </td><td>0.347</td></tr>\n",
       "\t<tr><td>city_pct        </td><td>Mean (SD)   </td><td>19.1 (4.6)             </td><td>19.1 (4.6)             </td><td>19.2 (4.5)             </td><td>NA   </td></tr>\n",
       "\t<tr><td>city_pct        </td><td>Median (IQR)</td><td>21.0 (18.0-22.0)       </td><td>21.0 (18.0-22.0)       </td><td>21.0 (18.0-22.0)       </td><td>0.237</td></tr>\n",
       "\t<tr><td>cluster_pct     </td><td>Mean (SD)   </td><td>11.7 (4.2)             </td><td>11.7 (4.2)             </td><td>11.8 (4.2)             </td><td>NA   </td></tr>\n",
       "\t<tr><td>cluster_pct     </td><td>Median (IQR)</td><td>13.0 (9.0-15.0)        </td><td>13.0 (9.0-15.0)        </td><td>13.0 (9.0-15.0)        </td><td>0.722</td></tr>\n",
       "\t<tr><td>item_nbr_589403 </td><td>1           </td><td>2,705 (14.6%)          </td><td>2,170 (14.6%)          </td><td>535 (14.4%)            </td><td>0.771</td></tr>\n",
       "\t<tr><td>item_nbr_699745 </td><td>1           </td><td>1,759 (9.5%)           </td><td>1,407 (9.5%)           </td><td>352 (9.5%)             </td><td>1    </td></tr>\n",
       "\t<tr><td>item_nbr_741201 </td><td>1           </td><td>2,300 (12.4%)          </td><td>1,820 (12.3%)          </td><td>480 (12.9%)            </td><td>0.279</td></tr>\n",
       "\t<tr><td>item_nbr_804098 </td><td>1           </td><td>2,128 (11.5%)          </td><td>1,720 (11.6%)          </td><td>408 (11.0%)            </td><td>0.323</td></tr>\n",
       "\t<tr><td>item_nbr_1110679</td><td>1           </td><td>2,267 (12.2%)          </td><td>1,820 (12.3%)          </td><td>447 (12.0%)            </td><td>0.738</td></tr>\n",
       "\t<tr><td>item_nbr_1247036</td><td>1           </td><td>3,336 (18.0%)          </td><td>2,644 (17.8%)          </td><td>692 (18.6%)            </td><td>0.248</td></tr>\n",
       "\t<tr><td>class_2802      </td><td>1           </td><td>4,086 (22.0%)          </td><td>3,296 (22.2%)          </td><td>790 (21.3%)            </td><td>0.235</td></tr>\n",
       "\t<tr><td>class_2850      </td><td>1           </td><td>4,972 (26.8%)          </td><td>3,990 (26.9%)          </td><td>982 (26.4%)            </td><td>0.617</td></tr>\n",
       "\t<tr><td>class_2854      </td><td>1           </td><td>4,428 (23.8%)          </td><td>3,540 (23.8%)          </td><td>888 (23.9%)            </td><td>0.94 </td></tr>\n",
       "\t<tr><td>class_2864      </td><td>1           </td><td>3,336 (18.0%)          </td><td>2,644 (17.8%)          </td><td>692 (18.6%)            </td><td>0.248</td></tr>\n",
       "\t<tr><td>store_type_A    </td><td>1           </td><td>4,879 (26.3%)          </td><td>3,878 (26.1%)          </td><td>1,001 (26.9%)          </td><td>0.306</td></tr>\n",
       "\t<tr><td>store_type_B    </td><td>1           </td><td>1,981 (10.7%)          </td><td>1,587 (10.7%)          </td><td>394 (10.6%)            </td><td>0.917</td></tr>\n",
       "\t<tr><td>store_type_C    </td><td>1           </td><td>1,986 (10.7%)          </td><td>1,611 (10.8%)          </td><td>375 (10.1%)            </td><td>0.196</td></tr>\n",
       "\t<tr><td>store_type_D    </td><td>1           </td><td>9,017 (48.6%)          </td><td>7,228 (48.7%)          </td><td>1,789 (48.2%)          </td><td>0.602</td></tr>\n",
       "\t<tr><td>onpromotion_0   </td><td>1           </td><td>8,516 (45.9%)          </td><td>6,793 (45.7%)          </td><td>1,723 (46.4%)          </td><td>0.484</td></tr>\n",
       "\t<tr><td>onpromotion_1   </td><td>1           </td><td>7,990 (43.0%)          </td><td>6,407 (43.1%)          </td><td>1,583 (42.6%)          </td><td>0.585</td></tr>\n",
       "\t<tr><td>MM_1            </td><td>1           </td><td>1,610 (8.7%)           </td><td>1,306 (8.8%)           </td><td>304 (8.2%)             </td><td>0.253</td></tr>\n",
       "\t<tr><td>MM_2            </td><td>1           </td><td>1,460 (7.9%)           </td><td>1,194 (8.0%)           </td><td>266 (7.2%)             </td><td>0.082</td></tr>\n",
       "\t<tr><td>MM_3            </td><td>1           </td><td>1,653 (8.9%)           </td><td>1,324 (8.9%)           </td><td>329 (8.9%)             </td><td>0.941</td></tr>\n",
       "\t<tr><td>MM_12           </td><td>1           </td><td>1,434 (7.7%)           </td><td>1,133 (7.6%)           </td><td>301 (8.1%)             </td><td>0.348</td></tr>\n",
       "\t<tr><td>log_sales       </td><td>Mean (SD)   </td><td>99.4 (138.0)           </td><td>98.9 (137.6)           </td><td>101.4 (139.6)          </td><td>NA   </td></tr>\n",
       "\t<tr><td>log_sales       </td><td>Median (IQR)</td><td>47.0 (16.0-120.0)      </td><td>46.0 (16.0-119.0)      </td><td>47.0 (16.0-123.0)      </td><td>0.333</td></tr>\n",
       "\t<tr><td>traintest_ind_  </td><td>Mean (SD)   </td><td>1.2 (0.4)              </td><td>NA                     </td><td>NA                     </td><td>NA   </td></tr>\n",
       "\t<tr><td>traintest_ind_  </td><td>Median (IQR)</td><td>1.0 (1.0-1.0)          </td><td>NA                     </td><td>NA                     </td><td>0    </td></tr>\n",
       "</tbody>\n",
       "</table>\n"
      ],
      "text/latex": [
       "A tibble: 42 × 6\n",
       "\\begin{tabular}{llllll}\n",
       " V1 & V2 & Pop & 1 & 2 & pval\\\\\n",
       " <chr> & <chr> & <chr> & <chr> & <chr> & <chr>\\\\\n",
       "\\hline\n",
       "\t Individuals      & n            & 18572                   & 14857                   & 3715                    & NA   \\\\\n",
       "\t sumtaransactions & Mean (SD)    & 1,520.2 (705.6)         & 1,517.0 (706.9)         & 1,532.8 (700.5)         & NA   \\\\\n",
       "\t sumtaransactions & Median (IQR) & 1,632.0 (970.0-2,141.0) & 1,628.0 (965.0-2,141.0) & 1,654.0 (976.5-2,143.5) & 0.224\\\\\n",
       "\t locale\\_Ibarra    & 1            & 1,260 (6.8\\%)            & 1,023 (6.9\\%)            & 237 (6.4\\%)              & 0.289\\\\\n",
       "\t locale\\_Loja      & 1            & 1,434 (7.7\\%)            & 1,133 (7.6\\%)            & 301 (8.1\\%)              & 0.348\\\\\n",
       "\t locale\\_Manta     & 1            & 1,653 (8.9\\%)            & 1,324 (8.9\\%)            & 329 (8.9\\%)              & 0.941\\\\\n",
       "\t locale\\_Quito     & 1            & 1,434 (7.7\\%)            & 1,133 (7.6\\%)            & 301 (8.1\\%)              & 0.348\\\\\n",
       "\t National\\_Ecuador & Mean (SD)    & 4.2 (3.2)               & 4.1 (3.2)               & 4.2 (3.2)               & NA   \\\\\n",
       "\t National\\_Ecuador & Median (IQR) & 3.0 (1.0-6.0)           & 3.0 (1.0-6.0)           & 3.0 (1.0-6.0)           & 0.21 \\\\\n",
       "\t maxoil           & Mean (SD)    & 11.6 (6.7)              & 11.6 (6.7)              & 11.6 (6.7)              & NA   \\\\\n",
       "\t maxoil           & Median (IQR) & 10.0 (7.0-17.0)         & 10.0 (7.0-17.0)         & 10.0 (7.0-17.0)         & 0.957\\\\\n",
       "\t EQ\\_Impact        & 1            & 808 (4.4\\%)              & 635 (4.3\\%)              & 173 (4.7\\%)              & 0.328\\\\\n",
       "\t store\\_pct        & Mean (SD)    & 32.6 (11.3)             & 32.5 (11.3)             & 32.7 (11.3)             & NA   \\\\\n",
       "\t store\\_pct        & Median (IQR) & 35.0 (25.0-42.0)        & 35.0 (25.0-42.0)        & 35.0 (26.0-42.0)        & 0.347\\\\\n",
       "\t city\\_pct         & Mean (SD)    & 19.1 (4.6)              & 19.1 (4.6)              & 19.2 (4.5)              & NA   \\\\\n",
       "\t city\\_pct         & Median (IQR) & 21.0 (18.0-22.0)        & 21.0 (18.0-22.0)        & 21.0 (18.0-22.0)        & 0.237\\\\\n",
       "\t cluster\\_pct      & Mean (SD)    & 11.7 (4.2)              & 11.7 (4.2)              & 11.8 (4.2)              & NA   \\\\\n",
       "\t cluster\\_pct      & Median (IQR) & 13.0 (9.0-15.0)         & 13.0 (9.0-15.0)         & 13.0 (9.0-15.0)         & 0.722\\\\\n",
       "\t item\\_nbr\\_589403  & 1            & 2,705 (14.6\\%)           & 2,170 (14.6\\%)           & 535 (14.4\\%)             & 0.771\\\\\n",
       "\t item\\_nbr\\_699745  & 1            & 1,759 (9.5\\%)            & 1,407 (9.5\\%)            & 352 (9.5\\%)              & 1    \\\\\n",
       "\t item\\_nbr\\_741201  & 1            & 2,300 (12.4\\%)           & 1,820 (12.3\\%)           & 480 (12.9\\%)             & 0.279\\\\\n",
       "\t item\\_nbr\\_804098  & 1            & 2,128 (11.5\\%)           & 1,720 (11.6\\%)           & 408 (11.0\\%)             & 0.323\\\\\n",
       "\t item\\_nbr\\_1110679 & 1            & 2,267 (12.2\\%)           & 1,820 (12.3\\%)           & 447 (12.0\\%)             & 0.738\\\\\n",
       "\t item\\_nbr\\_1247036 & 1            & 3,336 (18.0\\%)           & 2,644 (17.8\\%)           & 692 (18.6\\%)             & 0.248\\\\\n",
       "\t class\\_2802       & 1            & 4,086 (22.0\\%)           & 3,296 (22.2\\%)           & 790 (21.3\\%)             & 0.235\\\\\n",
       "\t class\\_2850       & 1            & 4,972 (26.8\\%)           & 3,990 (26.9\\%)           & 982 (26.4\\%)             & 0.617\\\\\n",
       "\t class\\_2854       & 1            & 4,428 (23.8\\%)           & 3,540 (23.8\\%)           & 888 (23.9\\%)             & 0.94 \\\\\n",
       "\t class\\_2864       & 1            & 3,336 (18.0\\%)           & 2,644 (17.8\\%)           & 692 (18.6\\%)             & 0.248\\\\\n",
       "\t store\\_type\\_A     & 1            & 4,879 (26.3\\%)           & 3,878 (26.1\\%)           & 1,001 (26.9\\%)           & 0.306\\\\\n",
       "\t store\\_type\\_B     & 1            & 1,981 (10.7\\%)           & 1,587 (10.7\\%)           & 394 (10.6\\%)             & 0.917\\\\\n",
       "\t store\\_type\\_C     & 1            & 1,986 (10.7\\%)           & 1,611 (10.8\\%)           & 375 (10.1\\%)             & 0.196\\\\\n",
       "\t store\\_type\\_D     & 1            & 9,017 (48.6\\%)           & 7,228 (48.7\\%)           & 1,789 (48.2\\%)           & 0.602\\\\\n",
       "\t onpromotion\\_0    & 1            & 8,516 (45.9\\%)           & 6,793 (45.7\\%)           & 1,723 (46.4\\%)           & 0.484\\\\\n",
       "\t onpromotion\\_1    & 1            & 7,990 (43.0\\%)           & 6,407 (43.1\\%)           & 1,583 (42.6\\%)           & 0.585\\\\\n",
       "\t MM\\_1             & 1            & 1,610 (8.7\\%)            & 1,306 (8.8\\%)            & 304 (8.2\\%)              & 0.253\\\\\n",
       "\t MM\\_2             & 1            & 1,460 (7.9\\%)            & 1,194 (8.0\\%)            & 266 (7.2\\%)              & 0.082\\\\\n",
       "\t MM\\_3             & 1            & 1,653 (8.9\\%)            & 1,324 (8.9\\%)            & 329 (8.9\\%)              & 0.941\\\\\n",
       "\t MM\\_12            & 1            & 1,434 (7.7\\%)            & 1,133 (7.6\\%)            & 301 (8.1\\%)              & 0.348\\\\\n",
       "\t log\\_sales        & Mean (SD)    & 99.4 (138.0)            & 98.9 (137.6)            & 101.4 (139.6)           & NA   \\\\\n",
       "\t log\\_sales        & Median (IQR) & 47.0 (16.0-120.0)       & 46.0 (16.0-119.0)       & 47.0 (16.0-123.0)       & 0.333\\\\\n",
       "\t traintest\\_ind\\_   & Mean (SD)    & 1.2 (0.4)               & NA                      & NA                      & NA   \\\\\n",
       "\t traintest\\_ind\\_   & Median (IQR) & 1.0 (1.0-1.0)           & NA                      & NA                      & 0    \\\\\n",
       "\\end{tabular}\n"
      ],
      "text/markdown": [
       "\n",
       "A tibble: 42 × 6\n",
       "\n",
       "| V1 &lt;chr&gt; | V2 &lt;chr&gt; | Pop &lt;chr&gt; | 1 &lt;chr&gt; | 2 &lt;chr&gt; | pval &lt;chr&gt; |\n",
       "|---|---|---|---|---|---|\n",
       "| Individuals      | n            | 18572                   | 14857                   | 3715                    | NA    |\n",
       "| sumtaransactions | Mean (SD)    | 1,520.2 (705.6)         | 1,517.0 (706.9)         | 1,532.8 (700.5)         | NA    |\n",
       "| sumtaransactions | Median (IQR) | 1,632.0 (970.0-2,141.0) | 1,628.0 (965.0-2,141.0) | 1,654.0 (976.5-2,143.5) | 0.224 |\n",
       "| locale_Ibarra    | 1            | 1,260 (6.8%)            | 1,023 (6.9%)            | 237 (6.4%)              | 0.289 |\n",
       "| locale_Loja      | 1            | 1,434 (7.7%)            | 1,133 (7.6%)            | 301 (8.1%)              | 0.348 |\n",
       "| locale_Manta     | 1            | 1,653 (8.9%)            | 1,324 (8.9%)            | 329 (8.9%)              | 0.941 |\n",
       "| locale_Quito     | 1            | 1,434 (7.7%)            | 1,133 (7.6%)            | 301 (8.1%)              | 0.348 |\n",
       "| National_Ecuador | Mean (SD)    | 4.2 (3.2)               | 4.1 (3.2)               | 4.2 (3.2)               | NA    |\n",
       "| National_Ecuador | Median (IQR) | 3.0 (1.0-6.0)           | 3.0 (1.0-6.0)           | 3.0 (1.0-6.0)           | 0.21  |\n",
       "| maxoil           | Mean (SD)    | 11.6 (6.7)              | 11.6 (6.7)              | 11.6 (6.7)              | NA    |\n",
       "| maxoil           | Median (IQR) | 10.0 (7.0-17.0)         | 10.0 (7.0-17.0)         | 10.0 (7.0-17.0)         | 0.957 |\n",
       "| EQ_Impact        | 1            | 808 (4.4%)              | 635 (4.3%)              | 173 (4.7%)              | 0.328 |\n",
       "| store_pct        | Mean (SD)    | 32.6 (11.3)             | 32.5 (11.3)             | 32.7 (11.3)             | NA    |\n",
       "| store_pct        | Median (IQR) | 35.0 (25.0-42.0)        | 35.0 (25.0-42.0)        | 35.0 (26.0-42.0)        | 0.347 |\n",
       "| city_pct         | Mean (SD)    | 19.1 (4.6)              | 19.1 (4.6)              | 19.2 (4.5)              | NA    |\n",
       "| city_pct         | Median (IQR) | 21.0 (18.0-22.0)        | 21.0 (18.0-22.0)        | 21.0 (18.0-22.0)        | 0.237 |\n",
       "| cluster_pct      | Mean (SD)    | 11.7 (4.2)              | 11.7 (4.2)              | 11.8 (4.2)              | NA    |\n",
       "| cluster_pct      | Median (IQR) | 13.0 (9.0-15.0)         | 13.0 (9.0-15.0)         | 13.0 (9.0-15.0)         | 0.722 |\n",
       "| item_nbr_589403  | 1            | 2,705 (14.6%)           | 2,170 (14.6%)           | 535 (14.4%)             | 0.771 |\n",
       "| item_nbr_699745  | 1            | 1,759 (9.5%)            | 1,407 (9.5%)            | 352 (9.5%)              | 1     |\n",
       "| item_nbr_741201  | 1            | 2,300 (12.4%)           | 1,820 (12.3%)           | 480 (12.9%)             | 0.279 |\n",
       "| item_nbr_804098  | 1            | 2,128 (11.5%)           | 1,720 (11.6%)           | 408 (11.0%)             | 0.323 |\n",
       "| item_nbr_1110679 | 1            | 2,267 (12.2%)           | 1,820 (12.3%)           | 447 (12.0%)             | 0.738 |\n",
       "| item_nbr_1247036 | 1            | 3,336 (18.0%)           | 2,644 (17.8%)           | 692 (18.6%)             | 0.248 |\n",
       "| class_2802       | 1            | 4,086 (22.0%)           | 3,296 (22.2%)           | 790 (21.3%)             | 0.235 |\n",
       "| class_2850       | 1            | 4,972 (26.8%)           | 3,990 (26.9%)           | 982 (26.4%)             | 0.617 |\n",
       "| class_2854       | 1            | 4,428 (23.8%)           | 3,540 (23.8%)           | 888 (23.9%)             | 0.94  |\n",
       "| class_2864       | 1            | 3,336 (18.0%)           | 2,644 (17.8%)           | 692 (18.6%)             | 0.248 |\n",
       "| store_type_A     | 1            | 4,879 (26.3%)           | 3,878 (26.1%)           | 1,001 (26.9%)           | 0.306 |\n",
       "| store_type_B     | 1            | 1,981 (10.7%)           | 1,587 (10.7%)           | 394 (10.6%)             | 0.917 |\n",
       "| store_type_C     | 1            | 1,986 (10.7%)           | 1,611 (10.8%)           | 375 (10.1%)             | 0.196 |\n",
       "| store_type_D     | 1            | 9,017 (48.6%)           | 7,228 (48.7%)           | 1,789 (48.2%)           | 0.602 |\n",
       "| onpromotion_0    | 1            | 8,516 (45.9%)           | 6,793 (45.7%)           | 1,723 (46.4%)           | 0.484 |\n",
       "| onpromotion_1    | 1            | 7,990 (43.0%)           | 6,407 (43.1%)           | 1,583 (42.6%)           | 0.585 |\n",
       "| MM_1             | 1            | 1,610 (8.7%)            | 1,306 (8.8%)            | 304 (8.2%)              | 0.253 |\n",
       "| MM_2             | 1            | 1,460 (7.9%)            | 1,194 (8.0%)            | 266 (7.2%)              | 0.082 |\n",
       "| MM_3             | 1            | 1,653 (8.9%)            | 1,324 (8.9%)            | 329 (8.9%)              | 0.941 |\n",
       "| MM_12            | 1            | 1,434 (7.7%)            | 1,133 (7.6%)            | 301 (8.1%)              | 0.348 |\n",
       "| log_sales        | Mean (SD)    | 99.4 (138.0)            | 98.9 (137.6)            | 101.4 (139.6)           | NA    |\n",
       "| log_sales        | Median (IQR) | 47.0 (16.0-120.0)       | 46.0 (16.0-119.0)       | 47.0 (16.0-123.0)       | 0.333 |\n",
       "| traintest_ind_   | Mean (SD)    | 1.2 (0.4)               | NA                      | NA                      | NA    |\n",
       "| traintest_ind_   | Median (IQR) | 1.0 (1.0-1.0)           | NA                      | NA                      | 0     |\n",
       "\n"
      ],
      "text/plain": [
       "   V1               V2           Pop                    \n",
       "1  Individuals      n            18572                  \n",
       "2  sumtaransactions Mean (SD)    1,520.2 (705.6)        \n",
       "3  sumtaransactions Median (IQR) 1,632.0 (970.0-2,141.0)\n",
       "4  locale_Ibarra    1            1,260 (6.8%)           \n",
       "5  locale_Loja      1            1,434 (7.7%)           \n",
       "6  locale_Manta     1            1,653 (8.9%)           \n",
       "7  locale_Quito     1            1,434 (7.7%)           \n",
       "8  National_Ecuador Mean (SD)    4.2 (3.2)              \n",
       "9  National_Ecuador Median (IQR) 3.0 (1.0-6.0)          \n",
       "10 maxoil           Mean (SD)    11.6 (6.7)             \n",
       "11 maxoil           Median (IQR) 10.0 (7.0-17.0)        \n",
       "12 EQ_Impact        1            808 (4.4%)             \n",
       "13 store_pct        Mean (SD)    32.6 (11.3)            \n",
       "14 store_pct        Median (IQR) 35.0 (25.0-42.0)       \n",
       "15 city_pct         Mean (SD)    19.1 (4.6)             \n",
       "16 city_pct         Median (IQR) 21.0 (18.0-22.0)       \n",
       "17 cluster_pct      Mean (SD)    11.7 (4.2)             \n",
       "18 cluster_pct      Median (IQR) 13.0 (9.0-15.0)        \n",
       "19 item_nbr_589403  1            2,705 (14.6%)          \n",
       "20 item_nbr_699745  1            1,759 (9.5%)           \n",
       "21 item_nbr_741201  1            2,300 (12.4%)          \n",
       "22 item_nbr_804098  1            2,128 (11.5%)          \n",
       "23 item_nbr_1110679 1            2,267 (12.2%)          \n",
       "24 item_nbr_1247036 1            3,336 (18.0%)          \n",
       "25 class_2802       1            4,086 (22.0%)          \n",
       "26 class_2850       1            4,972 (26.8%)          \n",
       "27 class_2854       1            4,428 (23.8%)          \n",
       "28 class_2864       1            3,336 (18.0%)          \n",
       "29 store_type_A     1            4,879 (26.3%)          \n",
       "30 store_type_B     1            1,981 (10.7%)          \n",
       "31 store_type_C     1            1,986 (10.7%)          \n",
       "32 store_type_D     1            9,017 (48.6%)          \n",
       "33 onpromotion_0    1            8,516 (45.9%)          \n",
       "34 onpromotion_1    1            7,990 (43.0%)          \n",
       "35 MM_1             1            1,610 (8.7%)           \n",
       "36 MM_2             1            1,460 (7.9%)           \n",
       "37 MM_3             1            1,653 (8.9%)           \n",
       "38 MM_12            1            1,434 (7.7%)           \n",
       "39 log_sales        Mean (SD)    99.4 (138.0)           \n",
       "40 log_sales        Median (IQR) 47.0 (16.0-120.0)      \n",
       "41 traintest_ind_   Mean (SD)    1.2 (0.4)              \n",
       "42 traintest_ind_   Median (IQR) 1.0 (1.0-1.0)          \n",
       "   1                       2                       pval \n",
       "1  14857                   3715                    NA   \n",
       "2  1,517.0 (706.9)         1,532.8 (700.5)         NA   \n",
       "3  1,628.0 (965.0-2,141.0) 1,654.0 (976.5-2,143.5) 0.224\n",
       "4  1,023 (6.9%)            237 (6.4%)              0.289\n",
       "5  1,133 (7.6%)            301 (8.1%)              0.348\n",
       "6  1,324 (8.9%)            329 (8.9%)              0.941\n",
       "7  1,133 (7.6%)            301 (8.1%)              0.348\n",
       "8  4.1 (3.2)               4.2 (3.2)               NA   \n",
       "9  3.0 (1.0-6.0)           3.0 (1.0-6.0)           0.21 \n",
       "10 11.6 (6.7)              11.6 (6.7)              NA   \n",
       "11 10.0 (7.0-17.0)         10.0 (7.0-17.0)         0.957\n",
       "12 635 (4.3%)              173 (4.7%)              0.328\n",
       "13 32.5 (11.3)             32.7 (11.3)             NA   \n",
       "14 35.0 (25.0-42.0)        35.0 (26.0-42.0)        0.347\n",
       "15 19.1 (4.6)              19.2 (4.5)              NA   \n",
       "16 21.0 (18.0-22.0)        21.0 (18.0-22.0)        0.237\n",
       "17 11.7 (4.2)              11.8 (4.2)              NA   \n",
       "18 13.0 (9.0-15.0)         13.0 (9.0-15.0)         0.722\n",
       "19 2,170 (14.6%)           535 (14.4%)             0.771\n",
       "20 1,407 (9.5%)            352 (9.5%)              1    \n",
       "21 1,820 (12.3%)           480 (12.9%)             0.279\n",
       "22 1,720 (11.6%)           408 (11.0%)             0.323\n",
       "23 1,820 (12.3%)           447 (12.0%)             0.738\n",
       "24 2,644 (17.8%)           692 (18.6%)             0.248\n",
       "25 3,296 (22.2%)           790 (21.3%)             0.235\n",
       "26 3,990 (26.9%)           982 (26.4%)             0.617\n",
       "27 3,540 (23.8%)           888 (23.9%)             0.94 \n",
       "28 2,644 (17.8%)           692 (18.6%)             0.248\n",
       "29 3,878 (26.1%)           1,001 (26.9%)           0.306\n",
       "30 1,587 (10.7%)           394 (10.6%)             0.917\n",
       "31 1,611 (10.8%)           375 (10.1%)             0.196\n",
       "32 7,228 (48.7%)           1,789 (48.2%)           0.602\n",
       "33 6,793 (45.7%)           1,723 (46.4%)           0.484\n",
       "34 6,407 (43.1%)           1,583 (42.6%)           0.585\n",
       "35 1,306 (8.8%)            304 (8.2%)              0.253\n",
       "36 1,194 (8.0%)            266 (7.2%)              0.082\n",
       "37 1,324 (8.9%)            329 (8.9%)              0.941\n",
       "38 1,133 (7.6%)            301 (8.1%)              0.348\n",
       "39 98.9 (137.6)            101.4 (139.6)           NA   \n",
       "40 46.0 (16.0-119.0)       47.0 (16.0-123.0)       0.333\n",
       "41 NA                      NA                      NA   \n",
       "42 NA                      NA                      0    "
      ]
     },
     "metadata": {},
     "output_type": "display_data"
    }
   ],
   "source": [
    "tab1"
   ]
  },
  {
   "cell_type": "code",
   "execution_count": 387,
   "metadata": {},
   "outputs": [
    {
     "data": {
      "text/html": [
       "<table>\n",
       "<caption>A tibble: 1 × 6</caption>\n",
       "<thead>\n",
       "\t<tr><th scope=col>V1</th><th scope=col>V2</th><th scope=col>Pop</th><th scope=col>1</th><th scope=col>2</th><th scope=col>pval</th></tr>\n",
       "\t<tr><th scope=col>&lt;chr&gt;</th><th scope=col>&lt;chr&gt;</th><th scope=col>&lt;chr&gt;</th><th scope=col>&lt;chr&gt;</th><th scope=col>&lt;chr&gt;</th><th scope=col>&lt;chr&gt;</th></tr>\n",
       "</thead>\n",
       "<tbody>\n",
       "\t<tr><td>traintest_ind_</td><td>Median (IQR)</td><td>1.0 (1.0-1.0)</td><td>NA</td><td>NA</td><td>0</td></tr>\n",
       "</tbody>\n",
       "</table>\n"
      ],
      "text/latex": [
       "A tibble: 1 × 6\n",
       "\\begin{tabular}{llllll}\n",
       " V1 & V2 & Pop & 1 & 2 & pval\\\\\n",
       " <chr> & <chr> & <chr> & <chr> & <chr> & <chr>\\\\\n",
       "\\hline\n",
       "\t traintest\\_ind\\_ & Median (IQR) & 1.0 (1.0-1.0) & NA & NA & 0\\\\\n",
       "\\end{tabular}\n"
      ],
      "text/markdown": [
       "\n",
       "A tibble: 1 × 6\n",
       "\n",
       "| V1 &lt;chr&gt; | V2 &lt;chr&gt; | Pop &lt;chr&gt; | 1 &lt;chr&gt; | 2 &lt;chr&gt; | pval &lt;chr&gt; |\n",
       "|---|---|---|---|---|---|\n",
       "| traintest_ind_ | Median (IQR) | 1.0 (1.0-1.0) | NA | NA | 0 |\n",
       "\n"
      ],
      "text/plain": [
       "  V1             V2           Pop           1  2  pval\n",
       "1 traintest_ind_ Median (IQR) 1.0 (1.0-1.0) NA NA 0   "
      ]
     },
     "metadata": {},
     "output_type": "display_data"
    }
   ],
   "source": [
    "tab1 %>% filter(pval < 0.05)"
   ]
  },
  {
   "cell_type": "markdown",
   "metadata": {},
   "source": [
    "### Train and Dev ###"
   ]
  },
  {
   "cell_type": "code",
   "execution_count": 388,
   "metadata": {},
   "outputs": [
    {
     "name": "stderr",
     "output_type": "stream",
     "text": [
      "Dataset partitioned into:\n",
      "\n",
      " + Train dataset: train\n",
      "\n",
      " + Test dataset: dev\n",
      "\n",
      "Warning message in Table1(data = df, y = \"traintest_ind_\", messages = FALSE):\n",
      "\"The following variables have unique values and will not be included in the analysis: \"\n"
     ]
    },
    {
     "name": "stdout",
     "output_type": "stream",
     "text": [
      "  |====================================================================  |  97%"
     ]
    },
    {
     "name": "stderr",
     "output_type": "stream",
     "text": [
      " \n",
      "\n",
      "You got a perfectly balanced training and test datasets\n",
      "\n",
      " \n",
      "\n"
     ]
    }
   ],
   "source": [
    "tab2 <- train_test(data = temp[,vn], train_name = \"train\", test_name = \"dev\",prop = 0.8, seed = 123, tableone=T)"
   ]
  },
  {
   "cell_type": "code",
   "execution_count": 389,
   "metadata": {},
   "outputs": [
    {
     "data": {
      "text/html": [
       "<style>\n",
       ".list-inline {list-style: none; margin:0; padding: 0}\n",
       ".list-inline>li {display: inline-block}\n",
       ".list-inline>li:not(:last-child)::after {content: \"\\00b7\"; padding: 0 .5ex}\n",
       "</style>\n",
       "<ol class=list-inline><li>11885</li><li>32</li></ol>\n"
      ],
      "text/latex": [
       "\\begin{enumerate*}\n",
       "\\item 11885\n",
       "\\item 32\n",
       "\\end{enumerate*}\n"
      ],
      "text/markdown": [
       "1. 11885\n",
       "2. 32\n",
       "\n",
       "\n"
      ],
      "text/plain": [
       "[1] 11885    32"
      ]
     },
     "metadata": {},
     "output_type": "display_data"
    },
    {
     "data": {
      "text/html": [
       "<style>\n",
       ".list-inline {list-style: none; margin:0; padding: 0}\n",
       ".list-inline>li {display: inline-block}\n",
       ".list-inline>li:not(:last-child)::after {content: \"\\00b7\"; padding: 0 .5ex}\n",
       "</style>\n",
       "<ol class=list-inline><li>2972</li><li>32</li></ol>\n"
      ],
      "text/latex": [
       "\\begin{enumerate*}\n",
       "\\item 2972\n",
       "\\item 32\n",
       "\\end{enumerate*}\n"
      ],
      "text/markdown": [
       "1. 2972\n",
       "2. 32\n",
       "\n",
       "\n"
      ],
      "text/plain": [
       "[1] 2972   32"
      ]
     },
     "metadata": {},
     "output_type": "display_data"
    }
   ],
   "source": [
    "dim(train)\n",
    "dim(dev)"
   ]
  },
  {
   "cell_type": "code",
   "execution_count": 390,
   "metadata": {},
   "outputs": [
    {
     "data": {
      "text/html": [
       "<table>\n",
       "<caption>A tibble: 42 × 6</caption>\n",
       "<thead>\n",
       "\t<tr><th scope=col>V1</th><th scope=col>V2</th><th scope=col>Pop</th><th scope=col>1</th><th scope=col>2</th><th scope=col>pval</th></tr>\n",
       "\t<tr><th scope=col>&lt;chr&gt;</th><th scope=col>&lt;chr&gt;</th><th scope=col>&lt;chr&gt;</th><th scope=col>&lt;chr&gt;</th><th scope=col>&lt;chr&gt;</th><th scope=col>&lt;chr&gt;</th></tr>\n",
       "</thead>\n",
       "<tbody>\n",
       "\t<tr><td>Individuals     </td><td>n           </td><td>14857                  </td><td>11885                  </td><td>2972                   </td><td>NA   </td></tr>\n",
       "\t<tr><td>sumtaransactions</td><td>Mean (SD)   </td><td>1,517.0 (706.9)        </td><td>1,516.6 (705.5)        </td><td>1,518.5 (712.7)        </td><td>NA   </td></tr>\n",
       "\t<tr><td>sumtaransactions</td><td>Median (IQR)</td><td>1,628.0 (965.0-2,141.0)</td><td>1,629.0 (966.0-2,139.0)</td><td>1,625.0 (963.8-2,150.0)</td><td>0.895</td></tr>\n",
       "\t<tr><td>locale_Ibarra   </td><td>1           </td><td>1,023 (6.9%)           </td><td>811 (6.8%)             </td><td>212 (7.1%)             </td><td>0.579</td></tr>\n",
       "\t<tr><td>locale_Loja     </td><td>1           </td><td>1,133 (7.6%)           </td><td>915 (7.7%)             </td><td>218 (7.3%)             </td><td>0.529</td></tr>\n",
       "\t<tr><td>locale_Manta    </td><td>1           </td><td>1,324 (8.9%)           </td><td>1,068 (9.0%)           </td><td>256 (8.6%)             </td><td>0.548</td></tr>\n",
       "\t<tr><td>locale_Quito    </td><td>1           </td><td>1,133 (7.6%)           </td><td>915 (7.7%)             </td><td>218 (7.3%)             </td><td>0.529</td></tr>\n",
       "\t<tr><td>National_Ecuador</td><td>Mean (SD)   </td><td>4.1 (3.2)              </td><td>4.1 (3.2)              </td><td>4.1 (3.2)              </td><td>NA   </td></tr>\n",
       "\t<tr><td>National_Ecuador</td><td>Median (IQR)</td><td>3.0 (1.0-6.0)          </td><td>3.0 (1.0-6.0)          </td><td>2.0 (1.0-6.0)          </td><td>0.886</td></tr>\n",
       "\t<tr><td>maxoil          </td><td>Mean (SD)   </td><td>11.6 (6.7)             </td><td>11.6 (6.7)             </td><td>11.8 (6.7)             </td><td>NA   </td></tr>\n",
       "\t<tr><td>maxoil          </td><td>Median (IQR)</td><td>10.0 (7.0-17.0)        </td><td>10.0 (7.0-17.0)        </td><td>11.0 (7.0-17.0)        </td><td>0.069</td></tr>\n",
       "\t<tr><td>EQ_Impact       </td><td>1           </td><td>635 (4.3%)             </td><td>507 (4.3%)             </td><td>128 (4.3%)             </td><td>0.962</td></tr>\n",
       "\t<tr><td>store_pct       </td><td>Mean (SD)   </td><td>32.5 (11.3)            </td><td>32.5 (11.3)            </td><td>32.7 (11.3)            </td><td>NA   </td></tr>\n",
       "\t<tr><td>store_pct       </td><td>Median (IQR)</td><td>35.0 (25.0-42.0)       </td><td>35.0 (25.0-42.0)       </td><td>35.0 (26.0-42.0)       </td><td>0.442</td></tr>\n",
       "\t<tr><td>city_pct        </td><td>Mean (SD)   </td><td>19.1 (4.6)             </td><td>19.1 (4.6)             </td><td>19.1 (4.6)             </td><td>NA   </td></tr>\n",
       "\t<tr><td>city_pct        </td><td>Median (IQR)</td><td>21.0 (18.0-22.0)       </td><td>21.0 (18.0-22.0)       </td><td>21.0 (18.0-22.0)       </td><td>0.775</td></tr>\n",
       "\t<tr><td>cluster_pct     </td><td>Mean (SD)   </td><td>11.7 (4.2)             </td><td>11.7 (4.2)             </td><td>11.7 (4.3)             </td><td>NA   </td></tr>\n",
       "\t<tr><td>cluster_pct     </td><td>Median (IQR)</td><td>13.0 (9.0-15.0)        </td><td>13.0 (9.0-15.0)        </td><td>12.0 (9.0-15.0)        </td><td>0.435</td></tr>\n",
       "\t<tr><td>item_nbr_589403 </td><td>1           </td><td>2,170 (14.6%)          </td><td>1,743 (14.7%)          </td><td>427 (14.4%)            </td><td>0.702</td></tr>\n",
       "\t<tr><td>item_nbr_699745 </td><td>1           </td><td>1,407 (9.5%)           </td><td>1,143 (9.6%)           </td><td>264 (8.9%)             </td><td>0.235</td></tr>\n",
       "\t<tr><td>item_nbr_741201 </td><td>1           </td><td>1,820 (12.3%)          </td><td>1,452 (12.2%)          </td><td>368 (12.4%)            </td><td>0.83 </td></tr>\n",
       "\t<tr><td>item_nbr_804098 </td><td>1           </td><td>1,720 (11.6%)          </td><td>1,376 (11.6%)          </td><td>344 (11.6%)            </td><td>1    </td></tr>\n",
       "\t<tr><td>item_nbr_1110679</td><td>1           </td><td>1,820 (12.3%)          </td><td>1,450 (12.2%)          </td><td>370 (12.4%)            </td><td>0.734</td></tr>\n",
       "\t<tr><td>item_nbr_1247036</td><td>1           </td><td>2,644 (17.8%)          </td><td>2,125 (17.9%)          </td><td>519 (17.5%)            </td><td>0.614</td></tr>\n",
       "\t<tr><td>class_2802      </td><td>1           </td><td>3,296 (22.2%)          </td><td>2,629 (22.1%)          </td><td>667 (22.4%)            </td><td>0.724</td></tr>\n",
       "\t<tr><td>class_2850      </td><td>1           </td><td>3,990 (26.9%)          </td><td>3,193 (26.9%)          </td><td>797 (26.8%)            </td><td>0.976</td></tr>\n",
       "\t<tr><td>class_2854      </td><td>1           </td><td>3,540 (23.8%)          </td><td>2,828 (23.8%)          </td><td>712 (24.0%)            </td><td>0.872</td></tr>\n",
       "\t<tr><td>class_2864      </td><td>1           </td><td>2,644 (17.8%)          </td><td>2,125 (17.9%)          </td><td>519 (17.5%)            </td><td>0.614</td></tr>\n",
       "\t<tr><td>store_type_A    </td><td>1           </td><td>3,878 (26.1%)          </td><td>3,065 (25.8%)          </td><td>813 (27.4%)            </td><td>0.086</td></tr>\n",
       "\t<tr><td>store_type_B    </td><td>1           </td><td>1,587 (10.7%)          </td><td>1,281 (10.8%)          </td><td>306 (10.3%)            </td><td>0.467</td></tr>\n",
       "\t<tr><td>store_type_C    </td><td>1           </td><td>1,611 (10.8%)          </td><td>1,299 (10.9%)          </td><td>312 (10.5%)            </td><td>0.52 </td></tr>\n",
       "\t<tr><td>store_type_D    </td><td>1           </td><td>7,228 (48.7%)          </td><td>5,798 (48.8%)          </td><td>1,430 (48.1%)          </td><td>0.528</td></tr>\n",
       "\t<tr><td>onpromotion_0   </td><td>1           </td><td>6,793 (45.7%)          </td><td>5,422 (45.6%)          </td><td>1,371 (46.1%)          </td><td>0.632</td></tr>\n",
       "\t<tr><td>onpromotion_1   </td><td>1           </td><td>6,407 (43.1%)          </td><td>5,130 (43.2%)          </td><td>1,277 (43.0%)          </td><td>0.863</td></tr>\n",
       "\t<tr><td>MM_1            </td><td>1           </td><td>1,306 (8.8%)           </td><td>1,059 (8.9%)           </td><td>247 (8.3%)             </td><td>0.319</td></tr>\n",
       "\t<tr><td>MM_2            </td><td>1           </td><td>1,194 (8.0%)           </td><td>960 (8.1%)             </td><td>234 (7.9%)             </td><td>0.743</td></tr>\n",
       "\t<tr><td>MM_3            </td><td>1           </td><td>1,324 (8.9%)           </td><td>1,068 (9.0%)           </td><td>256 (8.6%)             </td><td>0.548</td></tr>\n",
       "\t<tr><td>MM_12           </td><td>1           </td><td>1,133 (7.6%)           </td><td>915 (7.7%)             </td><td>218 (7.3%)             </td><td>0.529</td></tr>\n",
       "\t<tr><td>log_sales       </td><td>Mean (SD)   </td><td>98.9 (137.6)           </td><td>98.7 (137.1)           </td><td>99.7 (139.6)           </td><td>NA   </td></tr>\n",
       "\t<tr><td>log_sales       </td><td>Median (IQR)</td><td>46.0 (16.0-119.0)      </td><td>47.0 (16.0-119.0)      </td><td>46.0 (16.0-119.0)      </td><td>0.734</td></tr>\n",
       "\t<tr><td>traintest_ind_  </td><td>Mean (SD)   </td><td>1.2 (0.4)              </td><td>NA                     </td><td>NA                     </td><td>NA   </td></tr>\n",
       "\t<tr><td>traintest_ind_  </td><td>Median (IQR)</td><td>1.0 (1.0-1.0)          </td><td>NA                     </td><td>NA                     </td><td>0    </td></tr>\n",
       "</tbody>\n",
       "</table>\n"
      ],
      "text/latex": [
       "A tibble: 42 × 6\n",
       "\\begin{tabular}{llllll}\n",
       " V1 & V2 & Pop & 1 & 2 & pval\\\\\n",
       " <chr> & <chr> & <chr> & <chr> & <chr> & <chr>\\\\\n",
       "\\hline\n",
       "\t Individuals      & n            & 14857                   & 11885                   & 2972                    & NA   \\\\\n",
       "\t sumtaransactions & Mean (SD)    & 1,517.0 (706.9)         & 1,516.6 (705.5)         & 1,518.5 (712.7)         & NA   \\\\\n",
       "\t sumtaransactions & Median (IQR) & 1,628.0 (965.0-2,141.0) & 1,629.0 (966.0-2,139.0) & 1,625.0 (963.8-2,150.0) & 0.895\\\\\n",
       "\t locale\\_Ibarra    & 1            & 1,023 (6.9\\%)            & 811 (6.8\\%)              & 212 (7.1\\%)              & 0.579\\\\\n",
       "\t locale\\_Loja      & 1            & 1,133 (7.6\\%)            & 915 (7.7\\%)              & 218 (7.3\\%)              & 0.529\\\\\n",
       "\t locale\\_Manta     & 1            & 1,324 (8.9\\%)            & 1,068 (9.0\\%)            & 256 (8.6\\%)              & 0.548\\\\\n",
       "\t locale\\_Quito     & 1            & 1,133 (7.6\\%)            & 915 (7.7\\%)              & 218 (7.3\\%)              & 0.529\\\\\n",
       "\t National\\_Ecuador & Mean (SD)    & 4.1 (3.2)               & 4.1 (3.2)               & 4.1 (3.2)               & NA   \\\\\n",
       "\t National\\_Ecuador & Median (IQR) & 3.0 (1.0-6.0)           & 3.0 (1.0-6.0)           & 2.0 (1.0-6.0)           & 0.886\\\\\n",
       "\t maxoil           & Mean (SD)    & 11.6 (6.7)              & 11.6 (6.7)              & 11.8 (6.7)              & NA   \\\\\n",
       "\t maxoil           & Median (IQR) & 10.0 (7.0-17.0)         & 10.0 (7.0-17.0)         & 11.0 (7.0-17.0)         & 0.069\\\\\n",
       "\t EQ\\_Impact        & 1            & 635 (4.3\\%)              & 507 (4.3\\%)              & 128 (4.3\\%)              & 0.962\\\\\n",
       "\t store\\_pct        & Mean (SD)    & 32.5 (11.3)             & 32.5 (11.3)             & 32.7 (11.3)             & NA   \\\\\n",
       "\t store\\_pct        & Median (IQR) & 35.0 (25.0-42.0)        & 35.0 (25.0-42.0)        & 35.0 (26.0-42.0)        & 0.442\\\\\n",
       "\t city\\_pct         & Mean (SD)    & 19.1 (4.6)              & 19.1 (4.6)              & 19.1 (4.6)              & NA   \\\\\n",
       "\t city\\_pct         & Median (IQR) & 21.0 (18.0-22.0)        & 21.0 (18.0-22.0)        & 21.0 (18.0-22.0)        & 0.775\\\\\n",
       "\t cluster\\_pct      & Mean (SD)    & 11.7 (4.2)              & 11.7 (4.2)              & 11.7 (4.3)              & NA   \\\\\n",
       "\t cluster\\_pct      & Median (IQR) & 13.0 (9.0-15.0)         & 13.0 (9.0-15.0)         & 12.0 (9.0-15.0)         & 0.435\\\\\n",
       "\t item\\_nbr\\_589403  & 1            & 2,170 (14.6\\%)           & 1,743 (14.7\\%)           & 427 (14.4\\%)             & 0.702\\\\\n",
       "\t item\\_nbr\\_699745  & 1            & 1,407 (9.5\\%)            & 1,143 (9.6\\%)            & 264 (8.9\\%)              & 0.235\\\\\n",
       "\t item\\_nbr\\_741201  & 1            & 1,820 (12.3\\%)           & 1,452 (12.2\\%)           & 368 (12.4\\%)             & 0.83 \\\\\n",
       "\t item\\_nbr\\_804098  & 1            & 1,720 (11.6\\%)           & 1,376 (11.6\\%)           & 344 (11.6\\%)             & 1    \\\\\n",
       "\t item\\_nbr\\_1110679 & 1            & 1,820 (12.3\\%)           & 1,450 (12.2\\%)           & 370 (12.4\\%)             & 0.734\\\\\n",
       "\t item\\_nbr\\_1247036 & 1            & 2,644 (17.8\\%)           & 2,125 (17.9\\%)           & 519 (17.5\\%)             & 0.614\\\\\n",
       "\t class\\_2802       & 1            & 3,296 (22.2\\%)           & 2,629 (22.1\\%)           & 667 (22.4\\%)             & 0.724\\\\\n",
       "\t class\\_2850       & 1            & 3,990 (26.9\\%)           & 3,193 (26.9\\%)           & 797 (26.8\\%)             & 0.976\\\\\n",
       "\t class\\_2854       & 1            & 3,540 (23.8\\%)           & 2,828 (23.8\\%)           & 712 (24.0\\%)             & 0.872\\\\\n",
       "\t class\\_2864       & 1            & 2,644 (17.8\\%)           & 2,125 (17.9\\%)           & 519 (17.5\\%)             & 0.614\\\\\n",
       "\t store\\_type\\_A     & 1            & 3,878 (26.1\\%)           & 3,065 (25.8\\%)           & 813 (27.4\\%)             & 0.086\\\\\n",
       "\t store\\_type\\_B     & 1            & 1,587 (10.7\\%)           & 1,281 (10.8\\%)           & 306 (10.3\\%)             & 0.467\\\\\n",
       "\t store\\_type\\_C     & 1            & 1,611 (10.8\\%)           & 1,299 (10.9\\%)           & 312 (10.5\\%)             & 0.52 \\\\\n",
       "\t store\\_type\\_D     & 1            & 7,228 (48.7\\%)           & 5,798 (48.8\\%)           & 1,430 (48.1\\%)           & 0.528\\\\\n",
       "\t onpromotion\\_0    & 1            & 6,793 (45.7\\%)           & 5,422 (45.6\\%)           & 1,371 (46.1\\%)           & 0.632\\\\\n",
       "\t onpromotion\\_1    & 1            & 6,407 (43.1\\%)           & 5,130 (43.2\\%)           & 1,277 (43.0\\%)           & 0.863\\\\\n",
       "\t MM\\_1             & 1            & 1,306 (8.8\\%)            & 1,059 (8.9\\%)            & 247 (8.3\\%)              & 0.319\\\\\n",
       "\t MM\\_2             & 1            & 1,194 (8.0\\%)            & 960 (8.1\\%)              & 234 (7.9\\%)              & 0.743\\\\\n",
       "\t MM\\_3             & 1            & 1,324 (8.9\\%)            & 1,068 (9.0\\%)            & 256 (8.6\\%)              & 0.548\\\\\n",
       "\t MM\\_12            & 1            & 1,133 (7.6\\%)            & 915 (7.7\\%)              & 218 (7.3\\%)              & 0.529\\\\\n",
       "\t log\\_sales        & Mean (SD)    & 98.9 (137.6)            & 98.7 (137.1)            & 99.7 (139.6)            & NA   \\\\\n",
       "\t log\\_sales        & Median (IQR) & 46.0 (16.0-119.0)       & 47.0 (16.0-119.0)       & 46.0 (16.0-119.0)       & 0.734\\\\\n",
       "\t traintest\\_ind\\_   & Mean (SD)    & 1.2 (0.4)               & NA                      & NA                      & NA   \\\\\n",
       "\t traintest\\_ind\\_   & Median (IQR) & 1.0 (1.0-1.0)           & NA                      & NA                      & 0    \\\\\n",
       "\\end{tabular}\n"
      ],
      "text/markdown": [
       "\n",
       "A tibble: 42 × 6\n",
       "\n",
       "| V1 &lt;chr&gt; | V2 &lt;chr&gt; | Pop &lt;chr&gt; | 1 &lt;chr&gt; | 2 &lt;chr&gt; | pval &lt;chr&gt; |\n",
       "|---|---|---|---|---|---|\n",
       "| Individuals      | n            | 14857                   | 11885                   | 2972                    | NA    |\n",
       "| sumtaransactions | Mean (SD)    | 1,517.0 (706.9)         | 1,516.6 (705.5)         | 1,518.5 (712.7)         | NA    |\n",
       "| sumtaransactions | Median (IQR) | 1,628.0 (965.0-2,141.0) | 1,629.0 (966.0-2,139.0) | 1,625.0 (963.8-2,150.0) | 0.895 |\n",
       "| locale_Ibarra    | 1            | 1,023 (6.9%)            | 811 (6.8%)              | 212 (7.1%)              | 0.579 |\n",
       "| locale_Loja      | 1            | 1,133 (7.6%)            | 915 (7.7%)              | 218 (7.3%)              | 0.529 |\n",
       "| locale_Manta     | 1            | 1,324 (8.9%)            | 1,068 (9.0%)            | 256 (8.6%)              | 0.548 |\n",
       "| locale_Quito     | 1            | 1,133 (7.6%)            | 915 (7.7%)              | 218 (7.3%)              | 0.529 |\n",
       "| National_Ecuador | Mean (SD)    | 4.1 (3.2)               | 4.1 (3.2)               | 4.1 (3.2)               | NA    |\n",
       "| National_Ecuador | Median (IQR) | 3.0 (1.0-6.0)           | 3.0 (1.0-6.0)           | 2.0 (1.0-6.0)           | 0.886 |\n",
       "| maxoil           | Mean (SD)    | 11.6 (6.7)              | 11.6 (6.7)              | 11.8 (6.7)              | NA    |\n",
       "| maxoil           | Median (IQR) | 10.0 (7.0-17.0)         | 10.0 (7.0-17.0)         | 11.0 (7.0-17.0)         | 0.069 |\n",
       "| EQ_Impact        | 1            | 635 (4.3%)              | 507 (4.3%)              | 128 (4.3%)              | 0.962 |\n",
       "| store_pct        | Mean (SD)    | 32.5 (11.3)             | 32.5 (11.3)             | 32.7 (11.3)             | NA    |\n",
       "| store_pct        | Median (IQR) | 35.0 (25.0-42.0)        | 35.0 (25.0-42.0)        | 35.0 (26.0-42.0)        | 0.442 |\n",
       "| city_pct         | Mean (SD)    | 19.1 (4.6)              | 19.1 (4.6)              | 19.1 (4.6)              | NA    |\n",
       "| city_pct         | Median (IQR) | 21.0 (18.0-22.0)        | 21.0 (18.0-22.0)        | 21.0 (18.0-22.0)        | 0.775 |\n",
       "| cluster_pct      | Mean (SD)    | 11.7 (4.2)              | 11.7 (4.2)              | 11.7 (4.3)              | NA    |\n",
       "| cluster_pct      | Median (IQR) | 13.0 (9.0-15.0)         | 13.0 (9.0-15.0)         | 12.0 (9.0-15.0)         | 0.435 |\n",
       "| item_nbr_589403  | 1            | 2,170 (14.6%)           | 1,743 (14.7%)           | 427 (14.4%)             | 0.702 |\n",
       "| item_nbr_699745  | 1            | 1,407 (9.5%)            | 1,143 (9.6%)            | 264 (8.9%)              | 0.235 |\n",
       "| item_nbr_741201  | 1            | 1,820 (12.3%)           | 1,452 (12.2%)           | 368 (12.4%)             | 0.83  |\n",
       "| item_nbr_804098  | 1            | 1,720 (11.6%)           | 1,376 (11.6%)           | 344 (11.6%)             | 1     |\n",
       "| item_nbr_1110679 | 1            | 1,820 (12.3%)           | 1,450 (12.2%)           | 370 (12.4%)             | 0.734 |\n",
       "| item_nbr_1247036 | 1            | 2,644 (17.8%)           | 2,125 (17.9%)           | 519 (17.5%)             | 0.614 |\n",
       "| class_2802       | 1            | 3,296 (22.2%)           | 2,629 (22.1%)           | 667 (22.4%)             | 0.724 |\n",
       "| class_2850       | 1            | 3,990 (26.9%)           | 3,193 (26.9%)           | 797 (26.8%)             | 0.976 |\n",
       "| class_2854       | 1            | 3,540 (23.8%)           | 2,828 (23.8%)           | 712 (24.0%)             | 0.872 |\n",
       "| class_2864       | 1            | 2,644 (17.8%)           | 2,125 (17.9%)           | 519 (17.5%)             | 0.614 |\n",
       "| store_type_A     | 1            | 3,878 (26.1%)           | 3,065 (25.8%)           | 813 (27.4%)             | 0.086 |\n",
       "| store_type_B     | 1            | 1,587 (10.7%)           | 1,281 (10.8%)           | 306 (10.3%)             | 0.467 |\n",
       "| store_type_C     | 1            | 1,611 (10.8%)           | 1,299 (10.9%)           | 312 (10.5%)             | 0.52  |\n",
       "| store_type_D     | 1            | 7,228 (48.7%)           | 5,798 (48.8%)           | 1,430 (48.1%)           | 0.528 |\n",
       "| onpromotion_0    | 1            | 6,793 (45.7%)           | 5,422 (45.6%)           | 1,371 (46.1%)           | 0.632 |\n",
       "| onpromotion_1    | 1            | 6,407 (43.1%)           | 5,130 (43.2%)           | 1,277 (43.0%)           | 0.863 |\n",
       "| MM_1             | 1            | 1,306 (8.8%)            | 1,059 (8.9%)            | 247 (8.3%)              | 0.319 |\n",
       "| MM_2             | 1            | 1,194 (8.0%)            | 960 (8.1%)              | 234 (7.9%)              | 0.743 |\n",
       "| MM_3             | 1            | 1,324 (8.9%)            | 1,068 (9.0%)            | 256 (8.6%)              | 0.548 |\n",
       "| MM_12            | 1            | 1,133 (7.6%)            | 915 (7.7%)              | 218 (7.3%)              | 0.529 |\n",
       "| log_sales        | Mean (SD)    | 98.9 (137.6)            | 98.7 (137.1)            | 99.7 (139.6)            | NA    |\n",
       "| log_sales        | Median (IQR) | 46.0 (16.0-119.0)       | 47.0 (16.0-119.0)       | 46.0 (16.0-119.0)       | 0.734 |\n",
       "| traintest_ind_   | Mean (SD)    | 1.2 (0.4)               | NA                      | NA                      | NA    |\n",
       "| traintest_ind_   | Median (IQR) | 1.0 (1.0-1.0)           | NA                      | NA                      | 0     |\n",
       "\n"
      ],
      "text/plain": [
       "   V1               V2           Pop                    \n",
       "1  Individuals      n            14857                  \n",
       "2  sumtaransactions Mean (SD)    1,517.0 (706.9)        \n",
       "3  sumtaransactions Median (IQR) 1,628.0 (965.0-2,141.0)\n",
       "4  locale_Ibarra    1            1,023 (6.9%)           \n",
       "5  locale_Loja      1            1,133 (7.6%)           \n",
       "6  locale_Manta     1            1,324 (8.9%)           \n",
       "7  locale_Quito     1            1,133 (7.6%)           \n",
       "8  National_Ecuador Mean (SD)    4.1 (3.2)              \n",
       "9  National_Ecuador Median (IQR) 3.0 (1.0-6.0)          \n",
       "10 maxoil           Mean (SD)    11.6 (6.7)             \n",
       "11 maxoil           Median (IQR) 10.0 (7.0-17.0)        \n",
       "12 EQ_Impact        1            635 (4.3%)             \n",
       "13 store_pct        Mean (SD)    32.5 (11.3)            \n",
       "14 store_pct        Median (IQR) 35.0 (25.0-42.0)       \n",
       "15 city_pct         Mean (SD)    19.1 (4.6)             \n",
       "16 city_pct         Median (IQR) 21.0 (18.0-22.0)       \n",
       "17 cluster_pct      Mean (SD)    11.7 (4.2)             \n",
       "18 cluster_pct      Median (IQR) 13.0 (9.0-15.0)        \n",
       "19 item_nbr_589403  1            2,170 (14.6%)          \n",
       "20 item_nbr_699745  1            1,407 (9.5%)           \n",
       "21 item_nbr_741201  1            1,820 (12.3%)          \n",
       "22 item_nbr_804098  1            1,720 (11.6%)          \n",
       "23 item_nbr_1110679 1            1,820 (12.3%)          \n",
       "24 item_nbr_1247036 1            2,644 (17.8%)          \n",
       "25 class_2802       1            3,296 (22.2%)          \n",
       "26 class_2850       1            3,990 (26.9%)          \n",
       "27 class_2854       1            3,540 (23.8%)          \n",
       "28 class_2864       1            2,644 (17.8%)          \n",
       "29 store_type_A     1            3,878 (26.1%)          \n",
       "30 store_type_B     1            1,587 (10.7%)          \n",
       "31 store_type_C     1            1,611 (10.8%)          \n",
       "32 store_type_D     1            7,228 (48.7%)          \n",
       "33 onpromotion_0    1            6,793 (45.7%)          \n",
       "34 onpromotion_1    1            6,407 (43.1%)          \n",
       "35 MM_1             1            1,306 (8.8%)           \n",
       "36 MM_2             1            1,194 (8.0%)           \n",
       "37 MM_3             1            1,324 (8.9%)           \n",
       "38 MM_12            1            1,133 (7.6%)           \n",
       "39 log_sales        Mean (SD)    98.9 (137.6)           \n",
       "40 log_sales        Median (IQR) 46.0 (16.0-119.0)      \n",
       "41 traintest_ind_   Mean (SD)    1.2 (0.4)              \n",
       "42 traintest_ind_   Median (IQR) 1.0 (1.0-1.0)          \n",
       "   1                       2                       pval \n",
       "1  11885                   2972                    NA   \n",
       "2  1,516.6 (705.5)         1,518.5 (712.7)         NA   \n",
       "3  1,629.0 (966.0-2,139.0) 1,625.0 (963.8-2,150.0) 0.895\n",
       "4  811 (6.8%)              212 (7.1%)              0.579\n",
       "5  915 (7.7%)              218 (7.3%)              0.529\n",
       "6  1,068 (9.0%)            256 (8.6%)              0.548\n",
       "7  915 (7.7%)              218 (7.3%)              0.529\n",
       "8  4.1 (3.2)               4.1 (3.2)               NA   \n",
       "9  3.0 (1.0-6.0)           2.0 (1.0-6.0)           0.886\n",
       "10 11.6 (6.7)              11.8 (6.7)              NA   \n",
       "11 10.0 (7.0-17.0)         11.0 (7.0-17.0)         0.069\n",
       "12 507 (4.3%)              128 (4.3%)              0.962\n",
       "13 32.5 (11.3)             32.7 (11.3)             NA   \n",
       "14 35.0 (25.0-42.0)        35.0 (26.0-42.0)        0.442\n",
       "15 19.1 (4.6)              19.1 (4.6)              NA   \n",
       "16 21.0 (18.0-22.0)        21.0 (18.0-22.0)        0.775\n",
       "17 11.7 (4.2)              11.7 (4.3)              NA   \n",
       "18 13.0 (9.0-15.0)         12.0 (9.0-15.0)         0.435\n",
       "19 1,743 (14.7%)           427 (14.4%)             0.702\n",
       "20 1,143 (9.6%)            264 (8.9%)              0.235\n",
       "21 1,452 (12.2%)           368 (12.4%)             0.83 \n",
       "22 1,376 (11.6%)           344 (11.6%)             1    \n",
       "23 1,450 (12.2%)           370 (12.4%)             0.734\n",
       "24 2,125 (17.9%)           519 (17.5%)             0.614\n",
       "25 2,629 (22.1%)           667 (22.4%)             0.724\n",
       "26 3,193 (26.9%)           797 (26.8%)             0.976\n",
       "27 2,828 (23.8%)           712 (24.0%)             0.872\n",
       "28 2,125 (17.9%)           519 (17.5%)             0.614\n",
       "29 3,065 (25.8%)           813 (27.4%)             0.086\n",
       "30 1,281 (10.8%)           306 (10.3%)             0.467\n",
       "31 1,299 (10.9%)           312 (10.5%)             0.52 \n",
       "32 5,798 (48.8%)           1,430 (48.1%)           0.528\n",
       "33 5,422 (45.6%)           1,371 (46.1%)           0.632\n",
       "34 5,130 (43.2%)           1,277 (43.0%)           0.863\n",
       "35 1,059 (8.9%)            247 (8.3%)              0.319\n",
       "36 960 (8.1%)              234 (7.9%)              0.743\n",
       "37 1,068 (9.0%)            256 (8.6%)              0.548\n",
       "38 915 (7.7%)              218 (7.3%)              0.529\n",
       "39 98.7 (137.1)            99.7 (139.6)            NA   \n",
       "40 47.0 (16.0-119.0)       46.0 (16.0-119.0)       0.734\n",
       "41 NA                      NA                      NA   \n",
       "42 NA                      NA                      0    "
      ]
     },
     "metadata": {},
     "output_type": "display_data"
    }
   ],
   "source": [
    "tab2"
   ]
  },
  {
   "cell_type": "code",
   "execution_count": 391,
   "metadata": {},
   "outputs": [
    {
     "data": {
      "text/html": [
       "<table>\n",
       "<caption>A tibble: 1 × 6</caption>\n",
       "<thead>\n",
       "\t<tr><th scope=col>V1</th><th scope=col>V2</th><th scope=col>Pop</th><th scope=col>1</th><th scope=col>2</th><th scope=col>pval</th></tr>\n",
       "\t<tr><th scope=col>&lt;chr&gt;</th><th scope=col>&lt;chr&gt;</th><th scope=col>&lt;chr&gt;</th><th scope=col>&lt;chr&gt;</th><th scope=col>&lt;chr&gt;</th><th scope=col>&lt;chr&gt;</th></tr>\n",
       "</thead>\n",
       "<tbody>\n",
       "\t<tr><td>traintest_ind_</td><td>Median (IQR)</td><td>1.0 (1.0-1.0)</td><td>NA</td><td>NA</td><td>0</td></tr>\n",
       "</tbody>\n",
       "</table>\n"
      ],
      "text/latex": [
       "A tibble: 1 × 6\n",
       "\\begin{tabular}{llllll}\n",
       " V1 & V2 & Pop & 1 & 2 & pval\\\\\n",
       " <chr> & <chr> & <chr> & <chr> & <chr> & <chr>\\\\\n",
       "\\hline\n",
       "\t traintest\\_ind\\_ & Median (IQR) & 1.0 (1.0-1.0) & NA & NA & 0\\\\\n",
       "\\end{tabular}\n"
      ],
      "text/markdown": [
       "\n",
       "A tibble: 1 × 6\n",
       "\n",
       "| V1 &lt;chr&gt; | V2 &lt;chr&gt; | Pop &lt;chr&gt; | 1 &lt;chr&gt; | 2 &lt;chr&gt; | pval &lt;chr&gt; |\n",
       "|---|---|---|---|---|---|\n",
       "| traintest_ind_ | Median (IQR) | 1.0 (1.0-1.0) | NA | NA | 0 |\n",
       "\n"
      ],
      "text/plain": [
       "  V1             V2           Pop           1  2  pval\n",
       "1 traintest_ind_ Median (IQR) 1.0 (1.0-1.0) NA NA 0   "
      ]
     },
     "metadata": {},
     "output_type": "display_data"
    }
   ],
   "source": [
    "tab2 %>% filter(pval < 0.05)"
   ]
  },
  {
   "cell_type": "markdown",
   "metadata": {},
   "source": [
    "Checking the distribution of the outcome on the three subsets"
   ]
  },
  {
   "cell_type": "code",
   "execution_count": 392,
   "metadata": {},
   "outputs": [
    {
     "data": {
      "image/png": "[encoded data removed]",
      "text/plain": [
       "plot without title"
      ]
     },
     "metadata": {
      "image/png": {
       "height": 480,
       "width": 600
      }
     },
     "output_type": "display_data"
    }
   ],
   "source": [
    "require(ggplot2)\n",
    "\n",
    "options(repr.plot.width = 10, repr.plot.height = 8)\n",
    "\n",
    "ggplot() +\n",
    "    geom_density(aes(x=train$log_sales),color=\"red\",alpha=0.3) +\n",
    "    geom_density(aes(x=dev$log_sales),color=\"blue\",alpha=0.3) +\n",
    "    geom_density(aes(x=test$log_sales),color=\"green\",alpha=0.3)\n"
   ]
  },
  {
   "cell_type": "code",
   "execution_count": null,
   "metadata": {},
   "outputs": [],
   "source": []
  },
  {
   "cell_type": "markdown",
   "metadata": {},
   "source": [
    "## Regression Models  ##"
   ]
  },
  {
   "cell_type": "code",
   "execution_count": 393,
   "metadata": {},
   "outputs": [],
   "source": [
    "### The error we will use is the RMSE and RMSLE since we don't have outliers \n",
    "\n",
    "rmse_dev <- function(y,y_hat) {\n",
    "    err <- sqrt(sum((y_hat-y)^2,na.rm=T)/length(y))\n",
    "    return(err)\n",
    "}\n",
    "\n",
    "rmsle_dev <- function(y,y_hat) {\n",
    "    err <- sqrt(sum((log(y_hat+1)-log(y+1))^2,na.rm=T)/length(y))\n",
    "    return(err)\n",
    "}\n",
    "\n",
    "\n"
   ]
  },
  {
   "cell_type": "code",
   "execution_count": 394,
   "metadata": {},
   "outputs": [],
   "source": [
    "### Table of resulting errors\n",
    "### Name, Model, RMSE, RMSLE\n",
    "err_res <- NULL"
   ]
  },
  {
   "cell_type": "code",
   "execution_count": 395,
   "metadata": {},
   "outputs": [],
   "source": [
    "# Linear Models"
   ]
  },
  {
   "cell_type": "code",
   "execution_count": 396,
   "metadata": {},
   "outputs": [
    {
     "data": {
      "text/plain": [
       "\n",
       "Call:\n",
       "lm(formula = log_sales ~ ., data = train)\n",
       "\n",
       "Residuals:\n",
       "    Min      1Q  Median      3Q     Max \n",
       "-280.73  -61.64  -14.51   37.82  632.49 \n",
       "\n",
       "Coefficients: (6 not defined because of singularities)\n",
       "                    Estimate Std. Error t value Pr(>|t|)    \n",
       "(Intercept)        3.298e+01  9.280e+00   3.554 0.000381 ***\n",
       "sumtaransactions   6.465e-02  2.427e-03  26.635  < 2e-16 ***\n",
       "locale_Ibarra1     3.516e-01  3.871e+00   0.091 0.927632    \n",
       "locale_Loja1      -2.911e+01  3.935e+00  -7.398 1.47e-13 ***\n",
       "locale_Manta1      7.761e+00  3.450e+00   2.250 0.024479 *  \n",
       "locale_Quito1             NA         NA      NA       NA    \n",
       "National_Ecuador   2.974e-02  3.388e-01   0.088 0.930060    \n",
       "maxoil            -1.854e-02  1.780e-01  -0.104 0.917016    \n",
       "EQ_Impact1         2.455e+00  4.755e+00   0.516 0.605624    \n",
       "store_pct          2.617e+00  2.407e-01  10.874  < 2e-16 ***\n",
       "city_pct           1.131e+00  2.835e-01   3.988 6.72e-05 ***\n",
       "cluster_pct       -5.595e+00  2.718e-01 -20.582  < 2e-16 ***\n",
       "item_nbr_5894031  -1.789e+01  3.921e+00  -4.562 5.12e-06 ***\n",
       "item_nbr_6997451   5.411e+01  3.956e+00  13.680  < 2e-16 ***\n",
       "item_nbr_7412011   1.272e+02  4.000e+00  31.796  < 2e-16 ***\n",
       "item_nbr_8040981   4.029e+01  5.228e+00   7.707 1.39e-14 ***\n",
       "item_nbr_11106791  2.191e+01  4.004e+00   5.473 4.53e-08 ***\n",
       "item_nbr_12470361  1.046e+01  3.997e+00   2.617 0.008892 ** \n",
       "class_28021        5.233e+01  3.988e+00  13.120  < 2e-16 ***\n",
       "class_28501               NA         NA      NA       NA    \n",
       "class_28541               NA         NA      NA       NA    \n",
       "class_28641               NA         NA      NA       NA    \n",
       "store_type_A1     -3.792e+01  6.785e+00  -5.590 2.33e-08 ***\n",
       "store_type_B1     -3.875e+01  5.702e+00  -6.797 1.12e-11 ***\n",
       "store_type_C1     -6.586e-01  5.841e+00  -0.113 0.910226    \n",
       "store_type_D1     -4.923e+01  6.323e+00  -7.786 7.49e-15 ***\n",
       "onpromotion_01    -3.819e+01  3.842e+00  -9.939  < 2e-16 ***\n",
       "onpromotion_11    -1.290e+02  3.894e+00 -33.128  < 2e-16 ***\n",
       "MM_11              6.421e+00  3.388e+00   1.895 0.058101 .  \n",
       "MM_21             -2.826e-01  3.524e+00  -0.080 0.936085    \n",
       "MM_31                     NA         NA      NA       NA    \n",
       "MM_121                    NA         NA      NA       NA    \n",
       "---\n",
       "Signif. codes:  0 '***' 0.001 '**' 0.01 '*' 0.05 '.' 0.1 ' ' 1\n",
       "\n",
       "Residual standard error: 99.86 on 11859 degrees of freedom\n",
       "Multiple R-squared:  0.4704,\tAdjusted R-squared:  0.4693 \n",
       "F-statistic: 421.3 on 25 and 11859 DF,  p-value: < 2.2e-16\n"
      ]
     },
     "metadata": {},
     "output_type": "display_data"
    }
   ],
   "source": [
    "set.seed(123)\n",
    "mod1 <- lm(log_sales ~., data=train)\n",
    "summary(mod1)"
   ]
  },
  {
   "cell_type": "code",
   "execution_count": 397,
   "metadata": {},
   "outputs": [
    {
     "name": "stderr",
     "output_type": "stream",
     "text": [
      "Warning message in predict.lm(mod1, newdata = dev):\n",
      "\"prediction from a rank-deficient fit may be misleading\"\n"
     ]
    },
    {
     "data": {
      "text/html": [
       "101.730852945153"
      ],
      "text/latex": [
       "101.730852945153"
      ],
      "text/markdown": [
       "101.730852945153"
      ],
      "text/plain": [
       "[1] 101.7309"
      ]
     },
     "metadata": {},
     "output_type": "display_data"
    },
    {
     "name": "stderr",
     "output_type": "stream",
     "text": [
      "Warning message in log(y_hat + 1):\n",
      "\"NaNs produced\"\n"
     ]
    },
    {
     "data": {
      "text/html": [
       "1.04600855036116"
      ],
      "text/latex": [
       "1.04600855036116"
      ],
      "text/markdown": [
       "1.04600855036116"
      ],
      "text/plain": [
       "[1] 1.046009"
      ]
     },
     "metadata": {},
     "output_type": "display_data"
    },
    {
     "name": "stderr",
     "output_type": "stream",
     "text": [
      "Warning message in log(y_hat + 1):\n",
      "\"NaNs produced\"\n"
     ]
    }
   ],
   "source": [
    "pred1 <- predict(mod1,newdata=dev)\n",
    "rmse_dev(dev$log_sales,pred1)\n",
    "rmsle_dev(dev$log_sales,pred1)\n",
    "err_res <- rbind(err_res, data.frame(Name=\"Base Linear regression\", Model=\"mod1\", \n",
    "                                     RMSE_Dev=rmse_dev(dev$log_sales,pred1), \n",
    "                                     RMSLE_Dev=rmsle_dev(dev$log_sales,pred1)))"
   ]
  },
  {
   "cell_type": "code",
   "execution_count": 398,
   "metadata": {},
   "outputs": [
    {
     "data": {
      "image/png": "[encoded data removed]",
      "text/plain": [
       "plot without title"
      ]
     },
     "metadata": {
      "image/png": {
       "height": 480,
       "width": 600
      }
     },
     "output_type": "display_data"
    }
   ],
   "source": [
    "library(car)\n",
    "scatterplot(log_sales ~ pred1 ,data=dev,\n",
    "   xlab=\"log_sales\", ylab=\"log_sales_predict\")"
   ]
  },
  {
   "cell_type": "code",
   "execution_count": 399,
   "metadata": {},
   "outputs": [],
   "source": [
    "# Desicion trees"
   ]
  },
  {
   "cell_type": "code",
   "execution_count": 400,
   "metadata": {},
   "outputs": [],
   "source": [
    "library(tree)\n",
    "library(rpart)"
   ]
  },
  {
   "cell_type": "code",
   "execution_count": 401,
   "metadata": {},
   "outputs": [
    {
     "name": "stderr",
     "output_type": "stream",
     "text": [
      "ERROR while rich displaying an object: Error in cat(x, ..., sep = sep): argument 1 (type 'list') cannot be handled by 'cat'\n",
      "\n",
      "Traceback:\n",
      "1. FUN(X[[i]], ...)\n",
      "2. tryCatch(withCallingHandlers({\n",
      " .     if (!mime %in% names(repr::mime2repr)) \n",
      " .         stop(\"No repr_* for mimetype \", mime, \" in repr::mime2repr\")\n",
      " .     rpr <- repr::mime2repr[[mime]](obj)\n",
      " .     if (is.null(rpr)) \n",
      " .         return(NULL)\n",
      " .     prepare_content(is.raw(rpr), rpr)\n",
      " . }, error = error_handler), error = outer_handler)\n",
      "3. tryCatchList(expr, classes, parentenv, handlers)\n",
      "4. tryCatchOne(expr, names, parentenv, handlers[[1L]])\n",
      "5. doTryCatch(return(expr), name, parentenv, handler)\n",
      "6. withCallingHandlers({\n",
      " .     if (!mime %in% names(repr::mime2repr)) \n",
      " .         stop(\"No repr_* for mimetype \", mime, \" in repr::mime2repr\")\n",
      " .     rpr <- repr::mime2repr[[mime]](obj)\n",
      " .     if (is.null(rpr)) \n",
      " .         return(NULL)\n",
      " .     prepare_content(is.raw(rpr), rpr)\n",
      " . }, error = error_handler)\n",
      "7. repr::mime2repr[[mime]](obj)\n",
      "8. repr_text.default(obj)\n",
      "9. paste(capture.output(print(obj)), collapse = \"\\n\")\n",
      "10. capture.output(print(obj))\n",
      "11. evalVis(expr)\n",
      "12. withVisible(eval(expr, pf))\n",
      "13. eval(expr, pf)\n",
      "14. eval(expr, pf)\n",
      "15. print(obj)\n",
      "16. print.tree(obj)\n",
      "17. cat(x, ..., sep = sep)\n"
     ]
    }
   ],
   "source": [
    "set.seed(123)\n",
    "mod2 <- tree(log_sales ~., data=train)\n",
    "mod2"
   ]
  },
  {
   "cell_type": "code",
   "execution_count": 402,
   "metadata": {},
   "outputs": [
    {
     "data": {
      "text/html": [
       "86.9219990672927"
      ],
      "text/latex": [
       "86.9219990672927"
      ],
      "text/markdown": [
       "86.9219990672927"
      ],
      "text/plain": [
       "[1] 86.922"
      ]
     },
     "metadata": {},
     "output_type": "display_data"
    },
    {
     "data": {
      "text/html": [
       "1.03093483460345"
      ],
      "text/latex": [
       "1.03093483460345"
      ],
      "text/markdown": [
       "1.03093483460345"
      ],
      "text/plain": [
       "[1] 1.030935"
      ]
     },
     "metadata": {},
     "output_type": "display_data"
    }
   ],
   "source": [
    "pred2 <- predict(mod2,newdata=dev)\n",
    "\n",
    "rmse_dev(dev$log_sales,pred2)\n",
    "rmsle_dev(dev$log_sales,pred2)\n",
    "err_res <- rbind(err_res, data.frame(Name=\"Decision Trees-tree\", Model=\"mod2\", \n",
    "                                     RMSE_Dev=rmse_dev(dev$log_sales,pred2), \n",
    "                                     RMSLE_Dev=rmsle_dev(dev$log_sales,pred2)))"
   ]
  },
  {
   "cell_type": "code",
   "execution_count": 403,
   "metadata": {},
   "outputs": [
    {
     "data": {
      "text/plain": [
       "n= 11885 \n",
       "\n",
       "node), split, n, deviance, yval\n",
       "      * denotes terminal node\n",
       "\n",
       "  1) root 11885 223271100.0  98.72789  \n",
       "    2) store_pct< 37.5 6819  30940930.0  51.36120  \n",
       "      4) onpromotion_1=1 2927   2234739.0  22.18039 *\n",
       "      5) onpromotion_1=0 3892  24339370.0  73.30678  \n",
       "       10) sumtaransactions< 1048.5 1811   3715123.0  46.62341 *\n",
       "       11) sumtaransactions>=1048.5 2081  18212680.0  96.52811  \n",
       "         22) item_nbr_741201=0 1870  13498420.0  84.94492 *\n",
       "         23) item_nbr_741201=1 211   2239758.0 199.18480 *\n",
       "    3) store_pct>=37.5 5066 156437900.0 162.48500  \n",
       "      6) onpromotion_1=1 2203  12312920.0  68.56695 *\n",
       "      7) onpromotion_1=0 2863 109740900.0 234.75240  \n",
       "       14) cluster_pct>=15.5 1310  27198550.0 157.92520  \n",
       "         28) item_nbr_741201=0 1117  11343730.0 127.39120  \n",
       "           56) class_2802=0 738   2612296.0  84.65854 *\n",
       "           57) class_2802=1 379   4759607.0 210.60160 *\n",
       "         29) item_nbr_741201=1 193   8786214.0 334.64250  \n",
       "           58) sumtaransactions< 2298 127   1491933.0 224.81100 *\n",
       "           59) sumtaransactions>=2298 66   2814357.0 545.98480 *\n",
       "       15) cluster_pct< 15.5 1553  68287920.0 299.55830  \n",
       "         30) item_nbr_699745=0 1313  47549780.0 263.82480  \n",
       "           60) item_nbr_741201=0 1082  27357710.0 221.58690  \n",
       "            120) class_2802=0 855  16152140.0 193.06670 *\n",
       "            121) class_2802=1 227   7890652.0 329.00880  \n",
       "              242) store_pct< 45 196   5169569.0 287.63780 *\n",
       "              243) store_pct>=45 31    264601.5 590.58060 *\n",
       "           61) item_nbr_741201=1 231   9220073.0 461.66670  \n",
       "            122) store_pct< 42 127   2585585.0 355.18900 *\n",
       "            123) store_pct>=42 104   3436332.0 591.69230 *\n",
       "         31) item_nbr_699745=1 240   9889513.0 495.05000  \n",
       "           62) store_pct< 40 93   3563785.0 344.01080 *\n",
       "           63) store_pct>=40 147   2861899.0 590.60540 *"
      ]
     },
     "metadata": {},
     "output_type": "display_data"
    }
   ],
   "source": [
    "set.seed(123)\n",
    "mod3 <- rpart(log_sales ~., data=train)\n",
    "mod3"
   ]
  },
  {
   "cell_type": "code",
   "execution_count": 404,
   "metadata": {},
   "outputs": [
    {
     "data": {
      "text/html": [
       "86.9219990672927"
      ],
      "text/latex": [
       "86.9219990672927"
      ],
      "text/markdown": [
       "86.9219990672927"
      ],
      "text/plain": [
       "[1] 86.922"
      ]
     },
     "metadata": {},
     "output_type": "display_data"
    },
    {
     "data": {
      "text/html": [
       "1.03093483460345"
      ],
      "text/latex": [
       "1.03093483460345"
      ],
      "text/markdown": [
       "1.03093483460345"
      ],
      "text/plain": [
       "[1] 1.030935"
      ]
     },
     "metadata": {},
     "output_type": "display_data"
    }
   ],
   "source": [
    "pred3 <- predict(mod3,newdata=dev)\n",
    "rmse_dev(dev$log_sales,pred3)\n",
    "rmsle_dev(dev$log_sales,pred3)\n",
    "err_res <- rbind(err_res, data.frame(Name=\"Decision Trees-rpart\", Model=\"mod3\", \n",
    "                                     RMSE_Dev=rmse_dev(dev$log_sales,pred3), \n",
    "                                     RMSLE_Dev=rmsle_dev(dev$log_sales,pred3)))"
   ]
  },
  {
   "cell_type": "code",
   "execution_count": 405,
   "metadata": {},
   "outputs": [
    {
     "data": {
      "image/png": "[encoded data removed]",
      "text/plain": [
       "plot without title"
      ]
     },
     "metadata": {
      "image/png": {
       "height": 480,
       "width": 600
      }
     },
     "output_type": "display_data"
    }
   ],
   "source": [
    "#Visualize the learned decision tree model\n",
    "library(rpart.plot)\n",
    "rpart.plot(mod3, box.palette=\"RdBu\", shadow.col=\"gray\", nn=TRUE,roundint=FALSE)"
   ]
  },
  {
   "cell_type": "code",
   "execution_count": 221,
   "metadata": {},
   "outputs": [],
   "source": [
    "# Random Forest"
   ]
  },
  {
   "cell_type": "code",
   "execution_count": 406,
   "metadata": {},
   "outputs": [],
   "source": [
    "library(randomForest)\n",
    "library(ranger)"
   ]
  },
  {
   "cell_type": "code",
   "execution_count": 407,
   "metadata": {},
   "outputs": [
    {
     "data": {
      "text/plain": [
       "\n",
       "Call:\n",
       " randomForest(formula = log_sales ~ ., data = train) \n",
       "               Type of random forest: regression\n",
       "                     Number of trees: 500\n",
       "No. of variables tried at each split: 10\n",
       "\n",
       "          Mean of squared residuals: 2684.595\n",
       "                    % Var explained: 85.71"
      ]
     },
     "metadata": {},
     "output_type": "display_data"
    }
   ],
   "source": [
    "set.seed(123)\n",
    "mod4 <- randomForest(log_sales ~., data=train)\n",
    "mod4"
   ]
  },
  {
   "cell_type": "code",
   "execution_count": 408,
   "metadata": {},
   "outputs": [
    {
     "data": {
      "text/html": [
       "52.7342939730657"
      ],
      "text/latex": [
       "52.7342939730657"
      ],
      "text/markdown": [
       "52.7342939730657"
      ],
      "text/plain": [
       "[1] 52.73429"
      ]
     },
     "metadata": {},
     "output_type": "display_data"
    },
    {
     "data": {
      "text/html": [
       "0.654287983364014"
      ],
      "text/latex": [
       "0.654287983364014"
      ],
      "text/markdown": [
       "0.654287983364014"
      ],
      "text/plain": [
       "[1] 0.654288"
      ]
     },
     "metadata": {},
     "output_type": "display_data"
    }
   ],
   "source": [
    "pred4 <- predict(mod4,newdata=dev)\n",
    "rmse_dev(dev$log_sales,pred4)\n",
    "rmsle_dev(dev$log_sales,pred4)\n",
    "err_res <- rbind(err_res, data.frame(Name=\"RandomForest (RF)\", Model=\"mod4\", \n",
    "                                     RMSE_Dev=rmse_dev(dev$log_sales,pred4), \n",
    "                                     RMSLE_Dev=rmsle_dev(dev$log_sales,pred4)))"
   ]
  },
  {
   "cell_type": "code",
   "execution_count": 409,
   "metadata": {},
   "outputs": [
    {
     "data": {
      "text/html": [
       "'Percent of Variance Explained, R^2: 81.5%'"
      ],
      "text/latex": [
       "'Percent of Variance Explained, R\\textasciicircum{}2: 81.5\\%'"
      ],
      "text/markdown": [
       "'Percent of Variance Explained, R^2: 81.5%'"
      ],
      "text/plain": [
       "[1] \"Percent of Variance Explained, R^2: 81.5%\""
      ]
     },
     "metadata": {},
     "output_type": "display_data"
    }
   ],
   "source": [
    "R_squre <- tibble(pred4, obs = dev$log_sales) %>% \n",
    "  mutate(resid = pred4 - obs,\n",
    "         resid_sq = resid^2)\n",
    "sstot <- sum((R_squre$pred4 - mean(R_squre$obs))^2)\n",
    "ssresid <- sum(R_squre$resid_sq)\n",
    "sprintf(\"Percent of Variance Explained, R^2: %1.1f%%\", 100 * (1 - ssresid / sstot))"
   ]
  },
  {
   "cell_type": "code",
   "execution_count": 410,
   "metadata": {},
   "outputs": [],
   "source": [
    "#mod41 <- randomForest(log_sales ~., data=train,importance=TRUE,ntree=400)\n",
    "#mod41"
   ]
  },
  {
   "cell_type": "code",
   "execution_count": 411,
   "metadata": {},
   "outputs": [
    {
     "data": {
      "text/plain": [
       "Ranger result\n",
       "\n",
       "Call:\n",
       " ranger(log_sales ~ ., data = train) \n",
       "\n",
       "Type:                             Regression \n",
       "Number of trees:                  500 \n",
       "Sample size:                      11885 \n",
       "Number of independent variables:  31 \n",
       "Mtry:                             5 \n",
       "Target node size:                 5 \n",
       "Variable importance mode:         none \n",
       "Splitrule:                        variance \n",
       "OOB prediction error (MSE):       3248.338 \n",
       "R squared (OOB):                  0.8271014 "
      ]
     },
     "metadata": {},
     "output_type": "display_data"
    }
   ],
   "source": [
    "mod5 <- ranger(log_sales ~., data=train)\n",
    "mod5"
   ]
  },
  {
   "cell_type": "code",
   "execution_count": 412,
   "metadata": {},
   "outputs": [
    {
     "data": {
      "text/html": [
       "58.9084230779562"
      ],
      "text/latex": [
       "58.9084230779562"
      ],
      "text/markdown": [
       "58.9084230779562"
      ],
      "text/plain": [
       "[1] 58.90842"
      ]
     },
     "metadata": {},
     "output_type": "display_data"
    },
    {
     "data": {
      "text/html": [
       "0.732350708518797"
      ],
      "text/latex": [
       "0.732350708518797"
      ],
      "text/markdown": [
       "0.732350708518797"
      ],
      "text/plain": [
       "[1] 0.7323507"
      ]
     },
     "metadata": {},
     "output_type": "display_data"
    }
   ],
   "source": [
    "pred5 <- predict(mod5,data=dev)\n",
    "\n",
    "rmse_dev(dev$log_sales,pred5$predictions)\n",
    "rmsle_dev(dev$log_sales,pred5$predictions)\n",
    "err_res <- rbind(err_res, data.frame(Name=\"RandomForest (ranger)\", Model=\"mod5\", \n",
    "                                     RMSE_Dev=rmse_dev(dev$log_sales,pred5$predictions), \n",
    "                                     RMSLE_Dev=rmsle_dev(dev$log_sales,pred5$predictions)))"
   ]
  },
  {
   "cell_type": "code",
   "execution_count": 231,
   "metadata": {},
   "outputs": [],
   "source": [
    "#mod51 <- ranger(log_sales ~., data=train,num.trees= 800,min.node.size=1,sample.fraction=0.8,seed= 123)\n",
    "#mod51"
   ]
  },
  {
   "cell_type": "code",
   "execution_count": 232,
   "metadata": {},
   "outputs": [],
   "source": [
    "#  KNN"
   ]
  },
  {
   "cell_type": "code",
   "execution_count": 517,
   "metadata": {},
   "outputs": [],
   "source": [
    "### adaboost needs that values to be normalized\n",
    "min_max <- function(x) { (x -min(x))/(max(x)-min(x))   }"
   ]
  },
  {
   "cell_type": "code",
   "execution_count": 518,
   "metadata": {},
   "outputs": [],
   "source": [
    "train1 <- Matrix::sparse.model.matrix(log_sales ~ .-1, data = train_num)"
   ]
  },
  {
   "cell_type": "code",
   "execution_count": 519,
   "metadata": {},
   "outputs": [],
   "source": [
    "dev1 <- Matrix::sparse.model.matrix(log_sales ~ .-1, data = dev_num)"
   ]
  },
  {
   "cell_type": "code",
   "execution_count": 520,
   "metadata": {},
   "outputs": [],
   "source": [
    "X_train <- sapply(data.frame(as.matrix(train1)),min_max)"
   ]
  },
  {
   "cell_type": "code",
   "execution_count": 521,
   "metadata": {},
   "outputs": [],
   "source": [
    "X_dev <- sapply(data.frame(as.matrix(dev1)),min_max)"
   ]
  },
  {
   "cell_type": "code",
   "execution_count": 522,
   "metadata": {},
   "outputs": [],
   "source": [
    "library(class)\n",
    "mod6 <- knn(X_train,X_dev,cl=train$log_sales)"
   ]
  },
  {
   "cell_type": "code",
   "execution_count": 523,
   "metadata": {},
   "outputs": [
    {
     "name": "stdout",
     "output_type": "stream",
     "text": [
      " Factor w/ 757 levels \"1\",\"2\",\"3\",\"4\",..: 60 5 3 41 84 38 213 218 327 5 ...\n"
     ]
    }
   ],
   "source": [
    "str(mod6)"
   ]
  },
  {
   "cell_type": "code",
   "execution_count": 524,
   "metadata": {},
   "outputs": [
    {
     "data": {
      "text/html": [
       "100.843608514355"
      ],
      "text/latex": [
       "100.843608514355"
      ],
      "text/markdown": [
       "100.843608514355"
      ],
      "text/plain": [
       "[1] 100.8436"
      ]
     },
     "metadata": {},
     "output_type": "display_data"
    },
    {
     "data": {
      "text/html": [
       "0.914270926866777"
      ],
      "text/latex": [
       "0.914270926866777"
      ],
      "text/markdown": [
       "0.914270926866777"
      ],
      "text/plain": [
       "[1] 0.9142709"
      ]
     },
     "metadata": {},
     "output_type": "display_data"
    }
   ],
   "source": [
    "pred6 <- as.numeric(as.character(mod6))\n",
    "\n",
    "rmse_dev(dev$log_sales,pred6)\n",
    "rmsle_dev(dev$log_sales,pred6)\n",
    "err_res <- rbind(err_res, data.frame(Name=\"kNN\", Model=\"mod6\", \n",
    "                                     RMSE_Dev=rmse_dev(dev$log_sales,pred6), \n",
    "                                     RMSLE_Dev=rmsle_dev(dev$log_sales,pred6)))"
   ]
  },
  {
   "cell_type": "code",
   "execution_count": 241,
   "metadata": {},
   "outputs": [],
   "source": [
    "# SVM"
   ]
  },
  {
   "cell_type": "code",
   "execution_count": 421,
   "metadata": {},
   "outputs": [],
   "source": [
    "#install.packages(\"liquidSVM\")\n",
    "library(liquidSVM)\n",
    "mod7 <- svm(log_sales ~., train)"
   ]
  },
  {
   "cell_type": "code",
   "execution_count": 422,
   "metadata": {},
   "outputs": [
    {
     "data": {
      "text/html": [
       "66.7455993378473"
      ],
      "text/latex": [
       "66.7455993378473"
      ],
      "text/markdown": [
       "66.7455993378473"
      ],
      "text/plain": [
       "[1] 66.7456"
      ]
     },
     "metadata": {},
     "output_type": "display_data"
    },
    {
     "name": "stderr",
     "output_type": "stream",
     "text": [
      "Warning message in log(y_hat + 1):\n",
      "\"NaNs produced\"\n"
     ]
    },
    {
     "data": {
      "text/html": [
       "0.797919737204416"
      ],
      "text/latex": [
       "0.797919737204416"
      ],
      "text/markdown": [
       "0.797919737204416"
      ],
      "text/plain": [
       "[1] 0.7979197"
      ]
     },
     "metadata": {},
     "output_type": "display_data"
    },
    {
     "name": "stderr",
     "output_type": "stream",
     "text": [
      "Warning message in log(y_hat + 1):\n",
      "\"NaNs produced\"\n"
     ]
    }
   ],
   "source": [
    "pred7 <- predict(mod7, newdata=dev)\n",
    "\n",
    "rmse_dev(dev$log_sales,pred7)\n",
    "rmsle_dev(dev$log_sales,pred7)\n",
    "err_res <- rbind(err_res, data.frame(Name=\"SVM\", Model=\"mod7\", \n",
    "                                     RMSE_Dev=rmse_dev(dev$log_sales,pred7), \n",
    "                                     RMSLE_Dev=rmsle_dev(dev$log_sales,pred7)))"
   ]
  },
  {
   "cell_type": "code",
   "execution_count": null,
   "metadata": {},
   "outputs": [],
   "source": []
  },
  {
   "cell_type": "code",
   "execution_count": null,
   "metadata": {},
   "outputs": [],
   "source": [
    "# XGBoost"
   ]
  },
  {
   "cell_type": "code",
   "execution_count": 541,
   "metadata": {},
   "outputs": [],
   "source": [
    "library(xgboost)"
   ]
  },
  {
   "cell_type": "code",
   "execution_count": 542,
   "metadata": {},
   "outputs": [
    {
     "data": {
      "text/html": [
       "<table>\n",
       "<caption>A data.frame: 6 × 32</caption>\n",
       "<thead>\n",
       "\t<tr><th></th><th scope=col>sumtaransactions</th><th scope=col>locale_Ibarra</th><th scope=col>locale_Loja</th><th scope=col>locale_Manta</th><th scope=col>locale_Quito</th><th scope=col>National_Ecuador</th><th scope=col>maxoil</th><th scope=col>EQ_Impact</th><th scope=col>store_pct</th><th scope=col>city_pct</th><th scope=col>...</th><th scope=col>store_type_B</th><th scope=col>store_type_C</th><th scope=col>store_type_D</th><th scope=col>onpromotion_0</th><th scope=col>onpromotion_1</th><th scope=col>MM_1</th><th scope=col>MM_2</th><th scope=col>MM_3</th><th scope=col>MM_12</th><th scope=col>log_sales</th></tr>\n",
       "\t<tr><th></th><th scope=col>&lt;dbl&gt;</th><th scope=col>&lt;dbl&gt;</th><th scope=col>&lt;dbl&gt;</th><th scope=col>&lt;dbl&gt;</th><th scope=col>&lt;dbl&gt;</th><th scope=col>&lt;dbl&gt;</th><th scope=col>&lt;dbl&gt;</th><th scope=col>&lt;dbl&gt;</th><th scope=col>&lt;dbl&gt;</th><th scope=col>&lt;dbl&gt;</th><th scope=col>...</th><th scope=col>&lt;dbl&gt;</th><th scope=col>&lt;dbl&gt;</th><th scope=col>&lt;dbl&gt;</th><th scope=col>&lt;dbl&gt;</th><th scope=col>&lt;dbl&gt;</th><th scope=col>&lt;dbl&gt;</th><th scope=col>&lt;dbl&gt;</th><th scope=col>&lt;dbl&gt;</th><th scope=col>&lt;dbl&gt;</th><th scope=col>&lt;dbl&gt;</th></tr>\n",
       "</thead>\n",
       "<tbody>\n",
       "\t<tr><th scope=row>8711</th><td> 430</td><td>1</td><td>1</td><td>1</td><td>1</td><td>2</td><td> 7</td><td>1</td><td>29</td><td>13</td><td>...</td><td>1</td><td>1</td><td>2</td><td>2</td><td>1</td><td>1</td><td>1</td><td>1</td><td>1</td><td> 48</td></tr>\n",
       "\t<tr><th scope=row>4375</th><td>1751</td><td>1</td><td>1</td><td>1</td><td>1</td><td>7</td><td>18</td><td>1</td><td>45</td><td>22</td><td>...</td><td>1</td><td>1</td><td>2</td><td>1</td><td>2</td><td>1</td><td>1</td><td>1</td><td>1</td><td> 63</td></tr>\n",
       "\t<tr><th scope=row>12841</th><td>1750</td><td>1</td><td>1</td><td>1</td><td>1</td><td>1</td><td> 7</td><td>1</td><td>45</td><td>22</td><td>...</td><td>1</td><td>1</td><td>2</td><td>1</td><td>2</td><td>1</td><td>1</td><td>1</td><td>1</td><td>106</td></tr>\n",
       "\t<tr><th scope=row>25</th><td>2161</td><td>1</td><td>1</td><td>1</td><td>1</td><td>7</td><td>22</td><td>1</td><td>39</td><td>22</td><td>...</td><td>1</td><td>1</td><td>2</td><td>1</td><td>1</td><td>2</td><td>1</td><td>1</td><td>1</td><td>462</td></tr>\n",
       "\t<tr><th scope=row>3822</th><td>2444</td><td>1</td><td>1</td><td>1</td><td>1</td><td>5</td><td>19</td><td>1</td><td>45</td><td>22</td><td>...</td><td>1</td><td>1</td><td>1</td><td>1</td><td>2</td><td>1</td><td>1</td><td>1</td><td>1</td><td> 52</td></tr>\n",
       "\t<tr><th scope=row>15864</th><td>2277</td><td>1</td><td>1</td><td>2</td><td>1</td><td>1</td><td>11</td><td>1</td><td>41</td><td>22</td><td>...</td><td>1</td><td>1</td><td>1</td><td>2</td><td>1</td><td>1</td><td>1</td><td>2</td><td>1</td><td>399</td></tr>\n",
       "</tbody>\n",
       "</table>\n"
      ],
      "text/latex": [
       "A data.frame: 6 × 32\n",
       "\\begin{tabular}{r|lllllllllllllllllllll}\n",
       "  & sumtaransactions & locale\\_Ibarra & locale\\_Loja & locale\\_Manta & locale\\_Quito & National\\_Ecuador & maxoil & EQ\\_Impact & store\\_pct & city\\_pct & ... & store\\_type\\_B & store\\_type\\_C & store\\_type\\_D & onpromotion\\_0 & onpromotion\\_1 & MM\\_1 & MM\\_2 & MM\\_3 & MM\\_12 & log\\_sales\\\\\n",
       "  & <dbl> & <dbl> & <dbl> & <dbl> & <dbl> & <dbl> & <dbl> & <dbl> & <dbl> & <dbl> & ... & <dbl> & <dbl> & <dbl> & <dbl> & <dbl> & <dbl> & <dbl> & <dbl> & <dbl> & <dbl>\\\\\n",
       "\\hline\n",
       "\t8711 &  430 & 1 & 1 & 1 & 1 & 2 &  7 & 1 & 29 & 13 & ... & 1 & 1 & 2 & 2 & 1 & 1 & 1 & 1 & 1 &  48\\\\\n",
       "\t4375 & 1751 & 1 & 1 & 1 & 1 & 7 & 18 & 1 & 45 & 22 & ... & 1 & 1 & 2 & 1 & 2 & 1 & 1 & 1 & 1 &  63\\\\\n",
       "\t12841 & 1750 & 1 & 1 & 1 & 1 & 1 &  7 & 1 & 45 & 22 & ... & 1 & 1 & 2 & 1 & 2 & 1 & 1 & 1 & 1 & 106\\\\\n",
       "\t25 & 2161 & 1 & 1 & 1 & 1 & 7 & 22 & 1 & 39 & 22 & ... & 1 & 1 & 2 & 1 & 1 & 2 & 1 & 1 & 1 & 462\\\\\n",
       "\t3822 & 2444 & 1 & 1 & 1 & 1 & 5 & 19 & 1 & 45 & 22 & ... & 1 & 1 & 1 & 1 & 2 & 1 & 1 & 1 & 1 &  52\\\\\n",
       "\t15864 & 2277 & 1 & 1 & 2 & 1 & 1 & 11 & 1 & 41 & 22 & ... & 1 & 1 & 1 & 2 & 1 & 1 & 1 & 2 & 1 & 399\\\\\n",
       "\\end{tabular}\n"
      ],
      "text/markdown": [
       "\n",
       "A data.frame: 6 × 32\n",
       "\n",
       "| <!--/--> | sumtaransactions &lt;dbl&gt; | locale_Ibarra &lt;dbl&gt; | locale_Loja &lt;dbl&gt; | locale_Manta &lt;dbl&gt; | locale_Quito &lt;dbl&gt; | National_Ecuador &lt;dbl&gt; | maxoil &lt;dbl&gt; | EQ_Impact &lt;dbl&gt; | store_pct &lt;dbl&gt; | city_pct &lt;dbl&gt; | ... ... | store_type_B &lt;dbl&gt; | store_type_C &lt;dbl&gt; | store_type_D &lt;dbl&gt; | onpromotion_0 &lt;dbl&gt; | onpromotion_1 &lt;dbl&gt; | MM_1 &lt;dbl&gt; | MM_2 &lt;dbl&gt; | MM_3 &lt;dbl&gt; | MM_12 &lt;dbl&gt; | log_sales &lt;dbl&gt; |\n",
       "|---|---|---|---|---|---|---|---|---|---|---|---|---|---|---|---|---|---|---|---|---|---|\n",
       "| 8711 |  430 | 1 | 1 | 1 | 1 | 2 |  7 | 1 | 29 | 13 | ... | 1 | 1 | 2 | 2 | 1 | 1 | 1 | 1 | 1 |  48 |\n",
       "| 4375 | 1751 | 1 | 1 | 1 | 1 | 7 | 18 | 1 | 45 | 22 | ... | 1 | 1 | 2 | 1 | 2 | 1 | 1 | 1 | 1 |  63 |\n",
       "| 12841 | 1750 | 1 | 1 | 1 | 1 | 1 |  7 | 1 | 45 | 22 | ... | 1 | 1 | 2 | 1 | 2 | 1 | 1 | 1 | 1 | 106 |\n",
       "| 25 | 2161 | 1 | 1 | 1 | 1 | 7 | 22 | 1 | 39 | 22 | ... | 1 | 1 | 2 | 1 | 1 | 2 | 1 | 1 | 1 | 462 |\n",
       "| 3822 | 2444 | 1 | 1 | 1 | 1 | 5 | 19 | 1 | 45 | 22 | ... | 1 | 1 | 1 | 1 | 2 | 1 | 1 | 1 | 1 |  52 |\n",
       "| 15864 | 2277 | 1 | 1 | 2 | 1 | 1 | 11 | 1 | 41 | 22 | ... | 1 | 1 | 1 | 2 | 1 | 1 | 1 | 2 | 1 | 399 |\n",
       "\n"
      ],
      "text/plain": [
       "      sumtaransactions locale_Ibarra locale_Loja locale_Manta locale_Quito\n",
       "8711   430             1             1           1            1           \n",
       "4375  1751             1             1           1            1           \n",
       "12841 1750             1             1           1            1           \n",
       "25    2161             1             1           1            1           \n",
       "3822  2444             1             1           1            1           \n",
       "15864 2277             1             1           2            1           \n",
       "      National_Ecuador maxoil EQ_Impact store_pct city_pct ... store_type_B\n",
       "8711  2                 7     1         29        13       ... 1           \n",
       "4375  7                18     1         45        22       ... 1           \n",
       "12841 1                 7     1         45        22       ... 1           \n",
       "25    7                22     1         39        22       ... 1           \n",
       "3822  5                19     1         45        22       ... 1           \n",
       "15864 1                11     1         41        22       ... 1           \n",
       "      store_type_C store_type_D onpromotion_0 onpromotion_1 MM_1 MM_2 MM_3\n",
       "8711  1            2            2             1             1    1    1   \n",
       "4375  1            2            1             2             1    1    1   \n",
       "12841 1            2            1             2             1    1    1   \n",
       "25    1            2            1             1             2    1    1   \n",
       "3822  1            1            1             2             1    1    1   \n",
       "15864 1            1            2             1             1    1    2   \n",
       "      MM_12 log_sales\n",
       "8711  1      48      \n",
       "4375  1      63      \n",
       "12841 1     106      \n",
       "25    1     462      \n",
       "3822  1      52      \n",
       "15864 1     399      "
      ]
     },
     "metadata": {},
     "output_type": "display_data"
    }
   ],
   "source": [
    "train_num <- train\n",
    "train_num[] <- sapply(train_num[], as.numeric) \n",
    "head(train_num)"
   ]
  },
  {
   "cell_type": "code",
   "execution_count": 543,
   "metadata": {},
   "outputs": [
    {
     "data": {
      "text/plain": [
       " sumtaransactions locale_Ibarra    locale_Loja     locale_Manta \n",
       " Min.   :   1     Min.   :1.000   Min.   :1.000   Min.   :1.00  \n",
       " 1st Qu.: 966     1st Qu.:1.000   1st Qu.:1.000   1st Qu.:1.00  \n",
       " Median :1629     Median :1.000   Median :1.000   Median :1.00  \n",
       " Mean   :1517     Mean   :1.068   Mean   :1.077   Mean   :1.09  \n",
       " 3rd Qu.:2139     3rd Qu.:1.000   3rd Qu.:1.000   3rd Qu.:1.00  \n",
       " Max.   :2538     Max.   :2.000   Max.   :2.000   Max.   :2.00  \n",
       "  locale_Quito   National_Ecuador     maxoil        EQ_Impact    \n",
       " Min.   :1.000   Min.   : 1.000   Min.   : 1.00   Min.   :1.000  \n",
       " 1st Qu.:1.000   1st Qu.: 1.000   1st Qu.: 7.00   1st Qu.:1.000  \n",
       " Median :1.000   Median : 3.000   Median :10.00   Median :1.000  \n",
       " Mean   :1.077   Mean   : 4.142   Mean   :11.57   Mean   :1.043  \n",
       " 3rd Qu.:1.000   3rd Qu.: 6.000   3rd Qu.:17.00   3rd Qu.:1.000  \n",
       " Max.   :2.000   Max.   :11.000   Max.   :24.00   Max.   :2.000  \n",
       "   store_pct        city_pct      cluster_pct    item_nbr_589403\n",
       " Min.   : 1.00   Min.   : 1.00   Min.   : 1.00   Min.   :1.000  \n",
       " 1st Qu.:25.00   1st Qu.:18.00   1st Qu.: 9.00   1st Qu.:1.000  \n",
       " Median :35.00   Median :21.00   Median :13.00   Median :1.000  \n",
       " Mean   :32.49   Mean   :19.12   Mean   :11.75   Mean   :1.147  \n",
       " 3rd Qu.:42.00   3rd Qu.:22.00   3rd Qu.:15.00   3rd Qu.:1.000  \n",
       " Max.   :46.00   Max.   :22.00   Max.   :17.00   Max.   :2.000  \n",
       " item_nbr_699745 item_nbr_741201 item_nbr_804098 item_nbr_1110679\n",
       " Min.   :1.000   Min.   :1.000   Min.   :1.000   Min.   :1.000   \n",
       " 1st Qu.:1.000   1st Qu.:1.000   1st Qu.:1.000   1st Qu.:1.000   \n",
       " Median :1.000   Median :1.000   Median :1.000   Median :1.000   \n",
       " Mean   :1.096   Mean   :1.122   Mean   :1.116   Mean   :1.122   \n",
       " 3rd Qu.:1.000   3rd Qu.:1.000   3rd Qu.:1.000   3rd Qu.:1.000   \n",
       " Max.   :2.000   Max.   :2.000   Max.   :2.000   Max.   :2.000   \n",
       " item_nbr_1247036   class_2802      class_2850      class_2854   \n",
       " Min.   :1.000    Min.   :1.000   Min.   :1.000   Min.   :1.000  \n",
       " 1st Qu.:1.000    1st Qu.:1.000   1st Qu.:1.000   1st Qu.:1.000  \n",
       " Median :1.000    Median :1.000   Median :1.000   Median :1.000  \n",
       " Mean   :1.179    Mean   :1.221   Mean   :1.269   Mean   :1.238  \n",
       " 3rd Qu.:1.000    3rd Qu.:1.000   3rd Qu.:2.000   3rd Qu.:1.000  \n",
       " Max.   :2.000    Max.   :2.000   Max.   :2.000   Max.   :2.000  \n",
       "   class_2864     store_type_A    store_type_B    store_type_C  \n",
       " Min.   :1.000   Min.   :1.000   Min.   :1.000   Min.   :1.000  \n",
       " 1st Qu.:1.000   1st Qu.:1.000   1st Qu.:1.000   1st Qu.:1.000  \n",
       " Median :1.000   Median :1.000   Median :1.000   Median :1.000  \n",
       " Mean   :1.179   Mean   :1.258   Mean   :1.108   Mean   :1.109  \n",
       " 3rd Qu.:1.000   3rd Qu.:2.000   3rd Qu.:1.000   3rd Qu.:1.000  \n",
       " Max.   :2.000   Max.   :2.000   Max.   :2.000   Max.   :2.000  \n",
       "  store_type_D   onpromotion_0   onpromotion_1        MM_1      \n",
       " Min.   :1.000   Min.   :1.000   Min.   :1.000   Min.   :1.000  \n",
       " 1st Qu.:1.000   1st Qu.:1.000   1st Qu.:1.000   1st Qu.:1.000  \n",
       " Median :1.000   Median :1.000   Median :1.000   Median :1.000  \n",
       " Mean   :1.488   Mean   :1.456   Mean   :1.432   Mean   :1.089  \n",
       " 3rd Qu.:2.000   3rd Qu.:2.000   3rd Qu.:2.000   3rd Qu.:1.000  \n",
       " Max.   :2.000   Max.   :2.000   Max.   :2.000   Max.   :2.000  \n",
       "      MM_2            MM_3          MM_12         log_sales     \n",
       " Min.   :1.000   Min.   :1.00   Min.   :1.000   Min.   :  1.00  \n",
       " 1st Qu.:1.000   1st Qu.:1.00   1st Qu.:1.000   1st Qu.: 16.00  \n",
       " Median :1.000   Median :1.00   Median :1.000   Median : 47.00  \n",
       " Mean   :1.081   Mean   :1.09   Mean   :1.077   Mean   : 98.73  \n",
       " 3rd Qu.:1.000   3rd Qu.:1.00   3rd Qu.:1.000   3rd Qu.:119.00  \n",
       " Max.   :2.000   Max.   :2.00   Max.   :2.000   Max.   :839.00  "
      ]
     },
     "metadata": {},
     "output_type": "display_data"
    }
   ],
   "source": [
    "summary(train_num)"
   ]
  },
  {
   "cell_type": "code",
   "execution_count": 544,
   "metadata": {},
   "outputs": [
    {
     "data": {
      "text/html": [
       "<table>\n",
       "<caption>A data.frame: 6 × 32</caption>\n",
       "<thead>\n",
       "\t<tr><th></th><th scope=col>sumtaransactions</th><th scope=col>locale_Ibarra</th><th scope=col>locale_Loja</th><th scope=col>locale_Manta</th><th scope=col>locale_Quito</th><th scope=col>National_Ecuador</th><th scope=col>maxoil</th><th scope=col>EQ_Impact</th><th scope=col>store_pct</th><th scope=col>city_pct</th><th scope=col>...</th><th scope=col>store_type_B</th><th scope=col>store_type_C</th><th scope=col>store_type_D</th><th scope=col>onpromotion_0</th><th scope=col>onpromotion_1</th><th scope=col>MM_1</th><th scope=col>MM_2</th><th scope=col>MM_3</th><th scope=col>MM_12</th><th scope=col>log_sales</th></tr>\n",
       "\t<tr><th></th><th scope=col>&lt;dbl&gt;</th><th scope=col>&lt;dbl&gt;</th><th scope=col>&lt;dbl&gt;</th><th scope=col>&lt;dbl&gt;</th><th scope=col>&lt;dbl&gt;</th><th scope=col>&lt;dbl&gt;</th><th scope=col>&lt;dbl&gt;</th><th scope=col>&lt;dbl&gt;</th><th scope=col>&lt;dbl&gt;</th><th scope=col>&lt;dbl&gt;</th><th scope=col>...</th><th scope=col>&lt;dbl&gt;</th><th scope=col>&lt;dbl&gt;</th><th scope=col>&lt;dbl&gt;</th><th scope=col>&lt;dbl&gt;</th><th scope=col>&lt;dbl&gt;</th><th scope=col>&lt;dbl&gt;</th><th scope=col>&lt;dbl&gt;</th><th scope=col>&lt;dbl&gt;</th><th scope=col>&lt;dbl&gt;</th><th scope=col>&lt;dbl&gt;</th></tr>\n",
       "</thead>\n",
       "<tbody>\n",
       "\t<tr><th scope=row>3878</th><td>2129</td><td>1</td><td>1</td><td>1</td><td>1</td><td>5</td><td>19</td><td>1</td><td>41</td><td>22</td><td>...</td><td>1</td><td>1</td><td>1</td><td>1</td><td>2</td><td>1</td><td>1</td><td>1</td><td>1</td><td>63</td></tr>\n",
       "\t<tr><th scope=row>6413</th><td>1273</td><td>1</td><td>1</td><td>1</td><td>1</td><td>2</td><td>14</td><td>1</td><td>15</td><td>16</td><td>...</td><td>1</td><td>2</td><td>1</td><td>1</td><td>2</td><td>1</td><td>1</td><td>1</td><td>1</td><td> 4</td></tr>\n",
       "\t<tr><th scope=row>2194</th><td>1446</td><td>1</td><td>1</td><td>1</td><td>1</td><td>2</td><td>24</td><td>1</td><td>26</td><td>20</td><td>...</td><td>2</td><td>1</td><td>1</td><td>2</td><td>1</td><td>1</td><td>1</td><td>1</td><td>1</td><td> 9</td></tr>\n",
       "\t<tr><th scope=row>8704</th><td> 527</td><td>1</td><td>1</td><td>1</td><td>1</td><td>2</td><td> 7</td><td>1</td><td>11</td><td>21</td><td>...</td><td>1</td><td>1</td><td>1</td><td>1</td><td>2</td><td>1</td><td>1</td><td>1</td><td>1</td><td>34</td></tr>\n",
       "\t<tr><th scope=row>8125</th><td>1741</td><td>1</td><td>1</td><td>1</td><td>1</td><td>2</td><td> 7</td><td>1</td><td>31</td><td>15</td><td>...</td><td>1</td><td>1</td><td>2</td><td>1</td><td>2</td><td>1</td><td>1</td><td>1</td><td>1</td><td>63</td></tr>\n",
       "\t<tr><th scope=row>11387</th><td>2062</td><td>1</td><td>1</td><td>1</td><td>1</td><td>4</td><td> 4</td><td>2</td><td>34</td><td>19</td><td>...</td><td>1</td><td>1</td><td>1</td><td>1</td><td>2</td><td>1</td><td>1</td><td>1</td><td>1</td><td>13</td></tr>\n",
       "</tbody>\n",
       "</table>\n"
      ],
      "text/latex": [
       "A data.frame: 6 × 32\n",
       "\\begin{tabular}{r|lllllllllllllllllllll}\n",
       "  & sumtaransactions & locale\\_Ibarra & locale\\_Loja & locale\\_Manta & locale\\_Quito & National\\_Ecuador & maxoil & EQ\\_Impact & store\\_pct & city\\_pct & ... & store\\_type\\_B & store\\_type\\_C & store\\_type\\_D & onpromotion\\_0 & onpromotion\\_1 & MM\\_1 & MM\\_2 & MM\\_3 & MM\\_12 & log\\_sales\\\\\n",
       "  & <dbl> & <dbl> & <dbl> & <dbl> & <dbl> & <dbl> & <dbl> & <dbl> & <dbl> & <dbl> & ... & <dbl> & <dbl> & <dbl> & <dbl> & <dbl> & <dbl> & <dbl> & <dbl> & <dbl> & <dbl>\\\\\n",
       "\\hline\n",
       "\t3878 & 2129 & 1 & 1 & 1 & 1 & 5 & 19 & 1 & 41 & 22 & ... & 1 & 1 & 1 & 1 & 2 & 1 & 1 & 1 & 1 & 63\\\\\n",
       "\t6413 & 1273 & 1 & 1 & 1 & 1 & 2 & 14 & 1 & 15 & 16 & ... & 1 & 2 & 1 & 1 & 2 & 1 & 1 & 1 & 1 &  4\\\\\n",
       "\t2194 & 1446 & 1 & 1 & 1 & 1 & 2 & 24 & 1 & 26 & 20 & ... & 2 & 1 & 1 & 2 & 1 & 1 & 1 & 1 & 1 &  9\\\\\n",
       "\t8704 &  527 & 1 & 1 & 1 & 1 & 2 &  7 & 1 & 11 & 21 & ... & 1 & 1 & 1 & 1 & 2 & 1 & 1 & 1 & 1 & 34\\\\\n",
       "\t8125 & 1741 & 1 & 1 & 1 & 1 & 2 &  7 & 1 & 31 & 15 & ... & 1 & 1 & 2 & 1 & 2 & 1 & 1 & 1 & 1 & 63\\\\\n",
       "\t11387 & 2062 & 1 & 1 & 1 & 1 & 4 &  4 & 2 & 34 & 19 & ... & 1 & 1 & 1 & 1 & 2 & 1 & 1 & 1 & 1 & 13\\\\\n",
       "\\end{tabular}\n"
      ],
      "text/markdown": [
       "\n",
       "A data.frame: 6 × 32\n",
       "\n",
       "| <!--/--> | sumtaransactions &lt;dbl&gt; | locale_Ibarra &lt;dbl&gt; | locale_Loja &lt;dbl&gt; | locale_Manta &lt;dbl&gt; | locale_Quito &lt;dbl&gt; | National_Ecuador &lt;dbl&gt; | maxoil &lt;dbl&gt; | EQ_Impact &lt;dbl&gt; | store_pct &lt;dbl&gt; | city_pct &lt;dbl&gt; | ... ... | store_type_B &lt;dbl&gt; | store_type_C &lt;dbl&gt; | store_type_D &lt;dbl&gt; | onpromotion_0 &lt;dbl&gt; | onpromotion_1 &lt;dbl&gt; | MM_1 &lt;dbl&gt; | MM_2 &lt;dbl&gt; | MM_3 &lt;dbl&gt; | MM_12 &lt;dbl&gt; | log_sales &lt;dbl&gt; |\n",
       "|---|---|---|---|---|---|---|---|---|---|---|---|---|---|---|---|---|---|---|---|---|---|\n",
       "| 3878 | 2129 | 1 | 1 | 1 | 1 | 5 | 19 | 1 | 41 | 22 | ... | 1 | 1 | 1 | 1 | 2 | 1 | 1 | 1 | 1 | 63 |\n",
       "| 6413 | 1273 | 1 | 1 | 1 | 1 | 2 | 14 | 1 | 15 | 16 | ... | 1 | 2 | 1 | 1 | 2 | 1 | 1 | 1 | 1 |  4 |\n",
       "| 2194 | 1446 | 1 | 1 | 1 | 1 | 2 | 24 | 1 | 26 | 20 | ... | 2 | 1 | 1 | 2 | 1 | 1 | 1 | 1 | 1 |  9 |\n",
       "| 8704 |  527 | 1 | 1 | 1 | 1 | 2 |  7 | 1 | 11 | 21 | ... | 1 | 1 | 1 | 1 | 2 | 1 | 1 | 1 | 1 | 34 |\n",
       "| 8125 | 1741 | 1 | 1 | 1 | 1 | 2 |  7 | 1 | 31 | 15 | ... | 1 | 1 | 2 | 1 | 2 | 1 | 1 | 1 | 1 | 63 |\n",
       "| 11387 | 2062 | 1 | 1 | 1 | 1 | 4 |  4 | 2 | 34 | 19 | ... | 1 | 1 | 1 | 1 | 2 | 1 | 1 | 1 | 1 | 13 |\n",
       "\n"
      ],
      "text/plain": [
       "      sumtaransactions locale_Ibarra locale_Loja locale_Manta locale_Quito\n",
       "3878  2129             1             1           1            1           \n",
       "6413  1273             1             1           1            1           \n",
       "2194  1446             1             1           1            1           \n",
       "8704   527             1             1           1            1           \n",
       "8125  1741             1             1           1            1           \n",
       "11387 2062             1             1           1            1           \n",
       "      National_Ecuador maxoil EQ_Impact store_pct city_pct ... store_type_B\n",
       "3878  5                19     1         41        22       ... 1           \n",
       "6413  2                14     1         15        16       ... 1           \n",
       "2194  2                24     1         26        20       ... 2           \n",
       "8704  2                 7     1         11        21       ... 1           \n",
       "8125  2                 7     1         31        15       ... 1           \n",
       "11387 4                 4     2         34        19       ... 1           \n",
       "      store_type_C store_type_D onpromotion_0 onpromotion_1 MM_1 MM_2 MM_3\n",
       "3878  1            1            1             2             1    1    1   \n",
       "6413  2            1            1             2             1    1    1   \n",
       "2194  1            1            2             1             1    1    1   \n",
       "8704  1            1            1             2             1    1    1   \n",
       "8125  1            2            1             2             1    1    1   \n",
       "11387 1            1            1             2             1    1    1   \n",
       "      MM_12 log_sales\n",
       "3878  1     63       \n",
       "6413  1      4       \n",
       "2194  1      9       \n",
       "8704  1     34       \n",
       "8125  1     63       \n",
       "11387 1     13       "
      ]
     },
     "metadata": {},
     "output_type": "display_data"
    }
   ],
   "source": [
    "dev_num <- dev\n",
    "dev_num[] <- sapply(dev_num[], as.numeric) \n",
    "head(dev_num)"
   ]
  },
  {
   "cell_type": "code",
   "execution_count": 545,
   "metadata": {},
   "outputs": [
    {
     "data": {
      "text/plain": [
       " sumtaransactions locale_Ibarra    locale_Loja     locale_Manta  \n",
       " Min.   :   5.0   Min.   :1.000   Min.   :1.000   Min.   :1.000  \n",
       " 1st Qu.: 963.8   1st Qu.:1.000   1st Qu.:1.000   1st Qu.:1.000  \n",
       " Median :1625.0   Median :1.000   Median :1.000   Median :1.000  \n",
       " Mean   :1518.5   Mean   :1.071   Mean   :1.073   Mean   :1.086  \n",
       " 3rd Qu.:2150.0   3rd Qu.:1.000   3rd Qu.:1.000   3rd Qu.:1.000  \n",
       " Max.   :2538.0   Max.   :2.000   Max.   :2.000   Max.   :2.000  \n",
       "  locale_Quito   National_Ecuador     maxoil        EQ_Impact    \n",
       " Min.   :1.000   Min.   : 1.000   Min.   : 1.00   Min.   :1.000  \n",
       " 1st Qu.:1.000   1st Qu.: 1.000   1st Qu.: 7.00   1st Qu.:1.000  \n",
       " Median :1.000   Median : 2.000   Median :11.00   Median :1.000  \n",
       " Mean   :1.073   Mean   : 4.132   Mean   :11.82   Mean   :1.043  \n",
       " 3rd Qu.:1.000   3rd Qu.: 6.000   3rd Qu.:17.00   3rd Qu.:1.000  \n",
       " Max.   :2.000   Max.   :11.000   Max.   :24.00   Max.   :2.000  \n",
       "   store_pct        city_pct      cluster_pct    item_nbr_589403\n",
       " Min.   : 1.00   Min.   : 1.00   Min.   : 1.00   Min.   :1.000  \n",
       " 1st Qu.:26.00   1st Qu.:18.00   1st Qu.: 9.00   1st Qu.:1.000  \n",
       " Median :35.00   Median :21.00   Median :12.00   Median :1.000  \n",
       " Mean   :32.67   Mean   :19.15   Mean   :11.68   Mean   :1.144  \n",
       " 3rd Qu.:42.00   3rd Qu.:22.00   3rd Qu.:15.00   3rd Qu.:1.000  \n",
       " Max.   :46.00   Max.   :22.00   Max.   :17.00   Max.   :2.000  \n",
       " item_nbr_699745 item_nbr_741201 item_nbr_804098 item_nbr_1110679\n",
       " Min.   :1.000   Min.   :1.000   Min.   :1.000   Min.   :1.000   \n",
       " 1st Qu.:1.000   1st Qu.:1.000   1st Qu.:1.000   1st Qu.:1.000   \n",
       " Median :1.000   Median :1.000   Median :1.000   Median :1.000   \n",
       " Mean   :1.089   Mean   :1.124   Mean   :1.116   Mean   :1.124   \n",
       " 3rd Qu.:1.000   3rd Qu.:1.000   3rd Qu.:1.000   3rd Qu.:1.000   \n",
       " Max.   :2.000   Max.   :2.000   Max.   :2.000   Max.   :2.000   \n",
       " item_nbr_1247036   class_2802      class_2850      class_2854  \n",
       " Min.   :1.000    Min.   :1.000   Min.   :1.000   Min.   :1.00  \n",
       " 1st Qu.:1.000    1st Qu.:1.000   1st Qu.:1.000   1st Qu.:1.00  \n",
       " Median :1.000    Median :1.000   Median :1.000   Median :1.00  \n",
       " Mean   :1.175    Mean   :1.224   Mean   :1.268   Mean   :1.24  \n",
       " 3rd Qu.:1.000    3rd Qu.:1.000   3rd Qu.:2.000   3rd Qu.:1.00  \n",
       " Max.   :2.000    Max.   :2.000   Max.   :2.000   Max.   :2.00  \n",
       "   class_2864     store_type_A    store_type_B    store_type_C  \n",
       " Min.   :1.000   Min.   :1.000   Min.   :1.000   Min.   :1.000  \n",
       " 1st Qu.:1.000   1st Qu.:1.000   1st Qu.:1.000   1st Qu.:1.000  \n",
       " Median :1.000   Median :1.000   Median :1.000   Median :1.000  \n",
       " Mean   :1.175   Mean   :1.274   Mean   :1.103   Mean   :1.105  \n",
       " 3rd Qu.:1.000   3rd Qu.:2.000   3rd Qu.:1.000   3rd Qu.:1.000  \n",
       " Max.   :2.000   Max.   :2.000   Max.   :2.000   Max.   :2.000  \n",
       "  store_type_D   onpromotion_0   onpromotion_1       MM_1            MM_2      \n",
       " Min.   :1.000   Min.   :1.000   Min.   :1.00   Min.   :1.000   Min.   :1.000  \n",
       " 1st Qu.:1.000   1st Qu.:1.000   1st Qu.:1.00   1st Qu.:1.000   1st Qu.:1.000  \n",
       " Median :1.000   Median :1.000   Median :1.00   Median :1.000   Median :1.000  \n",
       " Mean   :1.481   Mean   :1.461   Mean   :1.43   Mean   :1.083   Mean   :1.079  \n",
       " 3rd Qu.:2.000   3rd Qu.:2.000   3rd Qu.:2.00   3rd Qu.:1.000   3rd Qu.:1.000  \n",
       " Max.   :2.000   Max.   :2.000   Max.   :2.00   Max.   :2.000   Max.   :2.000  \n",
       "      MM_3           MM_12         log_sales     \n",
       " Min.   :1.000   Min.   :1.000   Min.   :  1.00  \n",
       " 1st Qu.:1.000   1st Qu.:1.000   1st Qu.: 16.00  \n",
       " Median :1.000   Median :1.000   Median : 46.00  \n",
       " Mean   :1.086   Mean   :1.073   Mean   : 99.69  \n",
       " 3rd Qu.:1.000   3rd Qu.:1.000   3rd Qu.:119.00  \n",
       " Max.   :2.000   Max.   :2.000   Max.   :840.00  "
      ]
     },
     "metadata": {},
     "output_type": "display_data"
    }
   ],
   "source": [
    "summary(dev_num)"
   ]
  },
  {
   "cell_type": "code",
   "execution_count": 546,
   "metadata": {},
   "outputs": [],
   "source": [
    "train1 <- Matrix::sparse.model.matrix(log_sales ~ .-1, data = train_num)"
   ]
  },
  {
   "cell_type": "code",
   "execution_count": 547,
   "metadata": {},
   "outputs": [],
   "source": [
    "dev1 <- Matrix::sparse.model.matrix(log_sales ~ .-1, data = dev_num)"
   ]
  },
  {
   "cell_type": "code",
   "execution_count": 548,
   "metadata": {},
   "outputs": [
    {
     "name": "stdout",
     "output_type": "stream",
     "text": [
      "[1]\ttrain-rmse:130.098541 \n",
      "[11]\ttrain-rmse:55.606297 \n",
      "[21]\ttrain-rmse:47.351406 \n",
      "[31]\ttrain-rmse:43.580570 \n",
      "[41]\ttrain-rmse:40.163311 \n",
      "[51]\ttrain-rmse:38.330109 \n",
      "[61]\ttrain-rmse:36.598911 \n",
      "[71]\ttrain-rmse:35.175816 \n",
      "[81]\ttrain-rmse:33.689777 \n",
      "[91]\ttrain-rmse:32.708229 \n",
      "[101]\ttrain-rmse:31.582260 \n",
      "[111]\ttrain-rmse:30.858942 \n",
      "[121]\ttrain-rmse:29.299759 \n",
      "[131]\ttrain-rmse:27.954004 \n",
      "[141]\ttrain-rmse:27.217623 \n",
      "[150]\ttrain-rmse:26.731516 \n"
     ]
    }
   ],
   "source": [
    "#X_train <- xgb.DMatrix(train1)\n",
    "X_train <- train1\n",
    "y_train <- train$log_sales\n",
    "set.seed(123)\n",
    "mod8 <- xgboost(data=X_train,label=y_train, nrounds=150,print_every_n = 10)"
   ]
  },
  {
   "cell_type": "code",
   "execution_count": 549,
   "metadata": {},
   "outputs": [
    {
     "data": {
      "text/html": [
       "49.9722532696588"
      ],
      "text/latex": [
       "49.9722532696588"
      ],
      "text/markdown": [
       "49.9722532696588"
      ],
      "text/plain": [
       "[1] 49.97225"
      ]
     },
     "metadata": {},
     "output_type": "display_data"
    },
    {
     "name": "stderr",
     "output_type": "stream",
     "text": [
      "Warning message in log(y_hat + 1):\n",
      "\"NaNs produced\"\n"
     ]
    },
    {
     "data": {
      "text/html": [
       "0.692164185831755"
      ],
      "text/latex": [
       "0.692164185831755"
      ],
      "text/markdown": [
       "0.692164185831755"
      ],
      "text/plain": [
       "[1] 0.6921642"
      ]
     },
     "metadata": {},
     "output_type": "display_data"
    },
    {
     "name": "stderr",
     "output_type": "stream",
     "text": [
      "Warning message in log(y_hat + 1):\n",
      "\"NaNs produced\"\n"
     ]
    }
   ],
   "source": [
    "#X_test <- xgb.DMatrix(test1)\n",
    "X_dev <- dev1\n",
    "y_dev <- dev$log_sales\n",
    "\n",
    "pred8 <- predict(mod8,newdata=X_dev)\n",
    "rmse_dev(y_dev,pred8)\n",
    "rmsle_dev(y_dev,pred8)\n",
    "err_res <- rbind(err_res, data.frame(Name=\"XGBoost\", Model=\"mod8\", \n",
    "                                     RMSE_Dev=rmse_dev(y_dev,pred8), \n",
    "                                     RMSLE_Dev=rmsle_dev(y_dev,pred8)))"
   ]
  },
  {
   "cell_type": "code",
   "execution_count": 432,
   "metadata": {},
   "outputs": [],
   "source": [
    "library(gbm)\n",
    "# for reproducibility\n",
    "set.seed(123)\n",
    "\n",
    "# train GBM model\n",
    "mod9 <- gbm(formula = log_sales ~ ., distribution = \"gaussian\",  data = train,  n.trees = 20000, interaction.depth = 1,\n",
    "  shrinkage = 0.001,\n",
    "  cv.folds = 5,\n",
    "  n.cores = NULL, # will use all cores by default\n",
    "  verbose = FALSE\n",
    "  )  \n"
   ]
  },
  {
   "cell_type": "code",
   "execution_count": 433,
   "metadata": {},
   "outputs": [
    {
     "name": "stdout",
     "output_type": "stream",
     "text": [
      "gbm(formula = log_sales ~ ., distribution = \"gaussian\", data = train, \n",
      "    n.trees = 20000, interaction.depth = 1, shrinkage = 0.001, \n",
      "    cv.folds = 5, verbose = FALSE, n.cores = NULL)\n",
      "A gradient boosted model with gaussian loss function.\n",
      "20000 iterations were performed.\n",
      "The best cross-validation iteration was 19999.\n",
      "There were 31 predictors of which 19 had non-zero influence.\n"
     ]
    }
   ],
   "source": [
    "print(mod9)"
   ]
  },
  {
   "cell_type": "code",
   "execution_count": 434,
   "metadata": {},
   "outputs": [
    {
     "name": "stderr",
     "output_type": "stream",
     "text": [
      "Using 19999 trees...\n",
      "\n",
      "\n"
     ]
    },
    {
     "data": {
      "text/html": [
       "96.5254985408066"
      ],
      "text/latex": [
       "96.5254985408066"
      ],
      "text/markdown": [
       "96.5254985408066"
      ],
      "text/plain": [
       "[1] 96.5255"
      ]
     },
     "metadata": {},
     "output_type": "display_data"
    },
    {
     "name": "stderr",
     "output_type": "stream",
     "text": [
      "Warning message in log(y_hat + 1):\n",
      "\"NaNs produced\"\n"
     ]
    },
    {
     "data": {
      "text/html": [
       "1.01635390714478"
      ],
      "text/latex": [
       "1.01635390714478"
      ],
      "text/markdown": [
       "1.01635390714478"
      ],
      "text/plain": [
       "[1] 1.016354"
      ]
     },
     "metadata": {},
     "output_type": "display_data"
    },
    {
     "name": "stderr",
     "output_type": "stream",
     "text": [
      "Warning message in log(y_hat + 1):\n",
      "\"NaNs produced\"\n"
     ]
    }
   ],
   "source": [
    "pred9 <- predict(mod9,newdata=dev)\n",
    "\n",
    "rmse_dev(dev$log_sales,pred9)\n",
    "rmsle_dev(dev$log_sales,pred9)\n",
    "err_res <- rbind(err_res, data.frame(Name=\"GBM\", Model=\"mod9\", \n",
    "                                     RMSE_Dev=rmse_dev(dev$log_sales,pred9), \n",
    "                                     RMSLE_Dev=rmsle_dev(dev$log_sales,pred9)))"
   ]
  },
  {
   "cell_type": "code",
   "execution_count": 435,
   "metadata": {},
   "outputs": [
    {
     "data": {
      "text/html": [
       "19999"
      ],
      "text/latex": [
       "19999"
      ],
      "text/markdown": [
       "19999"
      ],
      "text/plain": [
       "[1] 19999"
      ]
     },
     "metadata": {},
     "output_type": "display_data"
    },
    {
     "data": {
      "image/png": "[encoded data removed]",
      "text/plain": [
       "plot without title"
      ]
     },
     "metadata": {
      "image/png": {
       "height": 480,
       "width": 600
      }
     },
     "output_type": "display_data"
    }
   ],
   "source": [
    "gbm.perf(mod9, method = \"cv\")"
   ]
  },
  {
   "cell_type": "code",
   "execution_count": 436,
   "metadata": {},
   "outputs": [],
   "source": [
    "mod10 <- gbm(formula = log_sales ~ .,distribution = \"gaussian\", data = train, n.trees = 5000, interaction.depth = 3,\n",
    "  shrinkage = 0.1,\n",
    "  cv.folds = 5,\n",
    "  n.cores = NULL, # will use all cores by default\n",
    "  verbose = FALSE\n",
    "  )  "
   ]
  },
  {
   "cell_type": "code",
   "execution_count": 437,
   "metadata": {},
   "outputs": [
    {
     "name": "stdout",
     "output_type": "stream",
     "text": [
      "gbm(formula = log_sales ~ ., distribution = \"gaussian\", data = train, \n",
      "    n.trees = 5000, interaction.depth = 3, shrinkage = 0.1, cv.folds = 5, \n",
      "    verbose = FALSE, n.cores = NULL)\n",
      "A gradient boosted model with gaussian loss function.\n",
      "5000 iterations were performed.\n",
      "The best cross-validation iteration was 4947.\n",
      "There were 31 predictors of which 27 had non-zero influence.\n"
     ]
    }
   ],
   "source": [
    "print(mod10)"
   ]
  },
  {
   "cell_type": "code",
   "execution_count": 438,
   "metadata": {},
   "outputs": [
    {
     "name": "stderr",
     "output_type": "stream",
     "text": [
      "Using 4947 trees...\n",
      "\n",
      "\n"
     ]
    },
    {
     "data": {
      "text/html": [
       "58.6334590474544"
      ],
      "text/latex": [
       "58.6334590474544"
      ],
      "text/markdown": [
       "58.6334590474544"
      ],
      "text/plain": [
       "[1] 58.63346"
      ]
     },
     "metadata": {},
     "output_type": "display_data"
    },
    {
     "name": "stderr",
     "output_type": "stream",
     "text": [
      "Warning message in log(y_hat + 1):\n",
      "\"NaNs produced\"\n"
     ]
    },
    {
     "data": {
      "text/html": [
       "0.799539376791789"
      ],
      "text/latex": [
       "0.799539376791789"
      ],
      "text/markdown": [
       "0.799539376791789"
      ],
      "text/plain": [
       "[1] 0.7995394"
      ]
     },
     "metadata": {},
     "output_type": "display_data"
    },
    {
     "name": "stderr",
     "output_type": "stream",
     "text": [
      "Warning message in log(y_hat + 1):\n",
      "\"NaNs produced\"\n"
     ]
    }
   ],
   "source": [
    "pred10 <- predict(mod10,newdata=dev)\n",
    "\n",
    "rmse_dev(dev$log_sales,pred10)\n",
    "rmsle_dev(dev$log_sales,pred10)\n",
    "err_res <- rbind(err_res, data.frame(Name=\"GBM\", Model=\"mod10\", \n",
    "                                     RMSE_Dev=rmse_dev(dev$log_sales,pred10), \n",
    "                                     RMSLE_Dev=rmsle_dev(dev$log_sales,pred10)))"
   ]
  },
  {
   "cell_type": "code",
   "execution_count": null,
   "metadata": {},
   "outputs": [],
   "source": [
    "gbm.perf(mod10, method = \"cv\")"
   ]
  },
  {
   "cell_type": "markdown",
   "metadata": {},
   "source": [
    "check Light XGB"
   ]
  },
  {
   "cell_type": "markdown",
   "metadata": {},
   "source": [
    "\n",
    "lgb.grid = list(objective = \"binary\",\n",
    "                metric = \"auc\",\n",
    "                min_sum_hessian_in_leaf = 1,\n",
    "                feature_fraction = 0.7,\n",
    "                bagging_fraction = 0.7,\n",
    "                bagging_freq = 5,\n",
    "                min_data = 100,\n",
    "                max_bin = 50,\n",
    "                lambda_l1 = 8,\n",
    "                lambda_l2 = 1.3,\n",
    "                min_data_in_bin=100,\n",
    "                min_gain_to_split = 10,\n",
    "                min_data_in_leaf = 30,\n",
    "                is_unbalance = TRUE)"
   ]
  },
  {
   "cell_type": "markdown",
   "metadata": {},
   "source": [
    "#### Gini for Lgb\n",
    "lgb.normalizedgini = function(preds, dtrain){\n",
    "  actual = getinfo(dtrain, \"label\")\n",
    "  score  = NormalizedGini(preds,actual)\n",
    "  return(list(name = \"gini\", value = score, higher_better = TRUE))\n",
    "}"
   ]
  },
  {
   "cell_type": "markdown",
   "metadata": {},
   "source": [
    "lgb.model = lgb(params = lgb.grid, data=x_train, label=y_train, learning_rate = 0.02,\n",
    "                      num_leaves = 25, num_threads = 2 , nrounds = best.iter,\n",
    "                      eval_freq = 20, eval = lgb.normalizedgini,\n",
    "                      categorical_feature = categoricals.vec)"
   ]
  },
  {
   "cell_type": "markdown",
   "metadata": {},
   "source": [
    "preds = data.table(id=test_ids, target=predict(lgb.model,test_sparse))\n",
    "colnames(preds)[1] = \"id\"\n",
    "fwrite(preds, \"submission.csv\")"
   ]
  },
  {
   "cell_type": "code",
   "execution_count": 439,
   "metadata": {},
   "outputs": [
    {
     "data": {
      "text/html": [
       "<table>\n",
       "<caption>A data.frame: 10 × 4</caption>\n",
       "<thead>\n",
       "\t<tr><th scope=col>Name</th><th scope=col>Model</th><th scope=col>RMSE_Dev</th><th scope=col>RMSLE_Dev</th></tr>\n",
       "\t<tr><th scope=col>&lt;chr&gt;</th><th scope=col>&lt;chr&gt;</th><th scope=col>&lt;dbl&gt;</th><th scope=col>&lt;dbl&gt;</th></tr>\n",
       "</thead>\n",
       "<tbody>\n",
       "\t<tr><td>RandomForest (RF)     </td><td>mod4 </td><td> 52.73429</td><td>0.6542880</td></tr>\n",
       "\t<tr><td>XGBoost               </td><td>mod8 </td><td> 49.97225</td><td>0.6921642</td></tr>\n",
       "\t<tr><td>RandomForest (ranger) </td><td>mod5 </td><td> 58.90842</td><td>0.7323507</td></tr>\n",
       "\t<tr><td>SVM                   </td><td>mod7 </td><td> 66.74560</td><td>0.7979197</td></tr>\n",
       "\t<tr><td>GBM                   </td><td>mod10</td><td> 58.63346</td><td>0.7995394</td></tr>\n",
       "\t<tr><td>kNN                   </td><td>mod6 </td><td>100.84361</td><td>0.9142709</td></tr>\n",
       "\t<tr><td>GBM                   </td><td>mod9 </td><td> 96.52550</td><td>1.0163539</td></tr>\n",
       "\t<tr><td>Decision Trees-tree   </td><td>mod2 </td><td> 86.92200</td><td>1.0309348</td></tr>\n",
       "\t<tr><td>Decision Trees-rpart  </td><td>mod3 </td><td> 86.92200</td><td>1.0309348</td></tr>\n",
       "\t<tr><td>Base Linear regression</td><td>mod1 </td><td>101.73085</td><td>1.0460086</td></tr>\n",
       "</tbody>\n",
       "</table>\n"
      ],
      "text/latex": [
       "A data.frame: 10 × 4\n",
       "\\begin{tabular}{llll}\n",
       " Name & Model & RMSE\\_Dev & RMSLE\\_Dev\\\\\n",
       " <chr> & <chr> & <dbl> & <dbl>\\\\\n",
       "\\hline\n",
       "\t RandomForest (RF)      & mod4  &  52.73429 & 0.6542880\\\\\n",
       "\t XGBoost                & mod8  &  49.97225 & 0.6921642\\\\\n",
       "\t RandomForest (ranger)  & mod5  &  58.90842 & 0.7323507\\\\\n",
       "\t SVM                    & mod7  &  66.74560 & 0.7979197\\\\\n",
       "\t GBM                    & mod10 &  58.63346 & 0.7995394\\\\\n",
       "\t kNN                    & mod6  & 100.84361 & 0.9142709\\\\\n",
       "\t GBM                    & mod9  &  96.52550 & 1.0163539\\\\\n",
       "\t Decision Trees-tree    & mod2  &  86.92200 & 1.0309348\\\\\n",
       "\t Decision Trees-rpart   & mod3  &  86.92200 & 1.0309348\\\\\n",
       "\t Base Linear regression & mod1  & 101.73085 & 1.0460086\\\\\n",
       "\\end{tabular}\n"
      ],
      "text/markdown": [
       "\n",
       "A data.frame: 10 × 4\n",
       "\n",
       "| Name &lt;chr&gt; | Model &lt;chr&gt; | RMSE_Dev &lt;dbl&gt; | RMSLE_Dev &lt;dbl&gt; |\n",
       "|---|---|---|---|\n",
       "| RandomForest (RF)      | mod4  |  52.73429 | 0.6542880 |\n",
       "| XGBoost                | mod8  |  49.97225 | 0.6921642 |\n",
       "| RandomForest (ranger)  | mod5  |  58.90842 | 0.7323507 |\n",
       "| SVM                    | mod7  |  66.74560 | 0.7979197 |\n",
       "| GBM                    | mod10 |  58.63346 | 0.7995394 |\n",
       "| kNN                    | mod6  | 100.84361 | 0.9142709 |\n",
       "| GBM                    | mod9  |  96.52550 | 1.0163539 |\n",
       "| Decision Trees-tree    | mod2  |  86.92200 | 1.0309348 |\n",
       "| Decision Trees-rpart   | mod3  |  86.92200 | 1.0309348 |\n",
       "| Base Linear regression | mod1  | 101.73085 | 1.0460086 |\n",
       "\n"
      ],
      "text/plain": [
       "   Name                   Model RMSE_Dev  RMSLE_Dev\n",
       "1  RandomForest (RF)      mod4   52.73429 0.6542880\n",
       "2  XGBoost                mod8   49.97225 0.6921642\n",
       "3  RandomForest (ranger)  mod5   58.90842 0.7323507\n",
       "4  SVM                    mod7   66.74560 0.7979197\n",
       "5  GBM                    mod10  58.63346 0.7995394\n",
       "6  kNN                    mod6  100.84361 0.9142709\n",
       "7  GBM                    mod9   96.52550 1.0163539\n",
       "8  Decision Trees-tree    mod2   86.92200 1.0309348\n",
       "9  Decision Trees-rpart   mod3   86.92200 1.0309348\n",
       "10 Base Linear regression mod1  101.73085 1.0460086"
      ]
     },
     "metadata": {},
     "output_type": "display_data"
    }
   ],
   "source": [
    "Results_Dev <-err_res %>% arrange(RMSLE_Dev) \n",
    "Results_Dev"
   ]
  },
  {
   "cell_type": "code",
   "execution_count": 553,
   "metadata": {},
   "outputs": [],
   "source": [
    "### The error we will use is the RMSE and RMSLE since we don't have outliers \n",
    "\n",
    "rmse_train <- function(y,y_hat) {\n",
    "    err <- sqrt(sum((y_hat-y)^2,na.rm=T)/length(y))\n",
    "    return(err)\n",
    "}\n",
    "\n",
    "rmsle_train <- function(y,y_hat) {\n",
    "    err <- sqrt(sum((log(y_hat+1)-log(y+1))^2,na.rm=T)/length(y))\n",
    "    return(err)\n",
    "}\n",
    "\n",
    "\n"
   ]
  },
  {
   "cell_type": "code",
   "execution_count": 554,
   "metadata": {},
   "outputs": [],
   "source": [
    "### Table of resulting errors\n",
    "### Name, Model, RMSE, RMSLE\n",
    "err_res_train <- NULL"
   ]
  },
  {
   "cell_type": "code",
   "execution_count": 555,
   "metadata": {},
   "outputs": [
    {
     "name": "stderr",
     "output_type": "stream",
     "text": [
      "Warning message in predict.lm(mod1, newdata = train):\n",
      "\"prediction from a rank-deficient fit may be misleading\"\n"
     ]
    },
    {
     "data": {
      "text/html": [
       "99.7478548517797"
      ],
      "text/latex": [
       "99.7478548517797"
      ],
      "text/markdown": [
       "99.7478548517797"
      ],
      "text/plain": [
       "[1] 99.74785"
      ]
     },
     "metadata": {},
     "output_type": "display_data"
    },
    {
     "name": "stderr",
     "output_type": "stream",
     "text": [
      "Warning message in log(y_hat + 1):\n",
      "\"NaNs produced\"\n"
     ]
    },
    {
     "data": {
      "text/html": [
       "1.01562447895278"
      ],
      "text/latex": [
       "1.01562447895278"
      ],
      "text/markdown": [
       "1.01562447895278"
      ],
      "text/plain": [
       "[1] 1.015624"
      ]
     },
     "metadata": {},
     "output_type": "display_data"
    },
    {
     "name": "stderr",
     "output_type": "stream",
     "text": [
      "Warning message in log(y_hat + 1):\n",
      "\"NaNs produced\"\n"
     ]
    }
   ],
   "source": [
    "pred1_train <- predict(mod1,newdata=train)\n",
    "rmse_train(train$log_sales,pred1_train)\n",
    "rmsle_train(train$log_sales,pred1_train)\n",
    "err_res_train <- rbind(err_res_train, data.frame(Name=\"Base Linear regression\", Model=\"mod1\", \n",
    "                                     RMSE_Train=rmse_train(train$log_sales,pred1_train), \n",
    "                                     RMSLE_Train=rmsle_train(train$log_sales,pred1_train)))"
   ]
  },
  {
   "cell_type": "code",
   "execution_count": 556,
   "metadata": {},
   "outputs": [
    {
     "data": {
      "text/html": [
       "81.8964658808924"
      ],
      "text/latex": [
       "81.8964658808924"
      ],
      "text/markdown": [
       "81.8964658808924"
      ],
      "text/plain": [
       "[1] 81.89647"
      ]
     },
     "metadata": {},
     "output_type": "display_data"
    },
    {
     "data": {
      "text/html": [
       "1.00717290819486"
      ],
      "text/latex": [
       "1.00717290819486"
      ],
      "text/markdown": [
       "1.00717290819486"
      ],
      "text/plain": [
       "[1] 1.007173"
      ]
     },
     "metadata": {},
     "output_type": "display_data"
    }
   ],
   "source": [
    "pred2_train <- predict(mod2,newdata=train)\n",
    "\n",
    "rmse_train(train$log_sales,pred2_train)\n",
    "rmsle_train(train$log_sales,pred2_train)\n",
    "err_res_train <- rbind(err_res_train, data.frame(Name=\"Decision Trees-tree\", Model=\"mod2\", \n",
    "                                     RMSE_Train=rmse_train(train$log_sales,pred2_train), \n",
    "                                     RMSLE_Train=rmsle_train(train$log_sales,pred2_train)))"
   ]
  },
  {
   "cell_type": "code",
   "execution_count": 557,
   "metadata": {},
   "outputs": [
    {
     "data": {
      "text/html": [
       "81.8964658808924"
      ],
      "text/latex": [
       "81.8964658808924"
      ],
      "text/markdown": [
       "81.8964658808924"
      ],
      "text/plain": [
       "[1] 81.89647"
      ]
     },
     "metadata": {},
     "output_type": "display_data"
    },
    {
     "data": {
      "text/html": [
       "1.00717290819486"
      ],
      "text/latex": [
       "1.00717290819486"
      ],
      "text/markdown": [
       "1.00717290819486"
      ],
      "text/plain": [
       "[1] 1.007173"
      ]
     },
     "metadata": {},
     "output_type": "display_data"
    }
   ],
   "source": [
    "pred3_train <- predict(mod3,newdata=train)\n",
    "rmse_train(train$log_sales,pred3_train)\n",
    "rmsle_train(train$log_sales,pred3_train)\n",
    "err_res_train <- rbind(err_res_train, data.frame(Name=\"Decision Trees-rpart\", Model=\"mod3\", \n",
    "                                     RMSE_Train=rmse_train(train$log_sales,pred3_train), \n",
    "                                     RMSLE_Train=rmsle_train(train$log_sales,pred3_train)))"
   ]
  },
  {
   "cell_type": "code",
   "execution_count": 558,
   "metadata": {},
   "outputs": [
    {
     "data": {
      "text/html": [
       "29.8960058718388"
      ],
      "text/latex": [
       "29.8960058718388"
      ],
      "text/markdown": [
       "29.8960058718388"
      ],
      "text/plain": [
       "[1] 29.89601"
      ]
     },
     "metadata": {},
     "output_type": "display_data"
    },
    {
     "data": {
      "text/html": [
       "0.42592783520977"
      ],
      "text/latex": [
       "0.42592783520977"
      ],
      "text/markdown": [
       "0.42592783520977"
      ],
      "text/plain": [
       "[1] 0.4259278"
      ]
     },
     "metadata": {},
     "output_type": "display_data"
    }
   ],
   "source": [
    "pred4_train <- predict(mod4,newdata=train)\n",
    "rmse_train(train$log_sales,pred4_train)\n",
    "rmsle_train(train$log_sales,pred4_train)\n",
    "err_res_train <- rbind(err_res_train, data.frame(Name=\"RandomForest (RF)\", Model=\"mod4\", \n",
    "                                     RMSE_Train=rmse_train(train$log_sales,pred4_train), \n",
    "                                     RMSLE_Train=rmsle_train(train$log_sales,pred4_train)))"
   ]
  },
  {
   "cell_type": "code",
   "execution_count": 559,
   "metadata": {},
   "outputs": [
    {
     "data": {
      "text/html": [
       "44.0697147789821"
      ],
      "text/latex": [
       "44.0697147789821"
      ],
      "text/markdown": [
       "44.0697147789821"
      ],
      "text/plain": [
       "[1] 44.06971"
      ]
     },
     "metadata": {},
     "output_type": "display_data"
    },
    {
     "data": {
      "text/html": [
       "0.587211791285437"
      ],
      "text/latex": [
       "0.587211791285437"
      ],
      "text/markdown": [
       "0.587211791285437"
      ],
      "text/plain": [
       "[1] 0.5872118"
      ]
     },
     "metadata": {},
     "output_type": "display_data"
    }
   ],
   "source": [
    "pred5_train <- predict(mod5,data=train)\n",
    "\n",
    "rmse_train(train$log_sales,pred5_train$predictions)\n",
    "rmsle_train(train$log_sales,pred5_train$predictions)\n",
    "err_res_train <- rbind(err_res_train, data.frame(Name=\"RandomForest (ranger)\", Model=\"mod5\", \n",
    "                                     RMSE_Train=rmse_train(train$log_sales,pred5_train$predictions), \n",
    "                                     RMSLE_Train=rmsle_train(train$log_sales,pred5_train$predictions)))"
   ]
  },
  {
   "cell_type": "code",
   "execution_count": 560,
   "metadata": {},
   "outputs": [],
   "source": [
    "# לטפל בשני המצבים במודל KNN"
   ]
  },
  {
   "cell_type": "code",
   "execution_count": 561,
   "metadata": {},
   "outputs": [
    {
     "data": {
      "text/html": [
       "50.7290652217935"
      ],
      "text/latex": [
       "50.7290652217935"
      ],
      "text/markdown": [
       "50.7290652217935"
      ],
      "text/plain": [
       "[1] 50.72907"
      ]
     },
     "metadata": {},
     "output_type": "display_data"
    },
    {
     "name": "stderr",
     "output_type": "stream",
     "text": [
      "Warning message in log(y_hat + 1):\n",
      "\"NaNs produced\"\n"
     ]
    },
    {
     "data": {
      "text/html": [
       "0.689892077158531"
      ],
      "text/latex": [
       "0.689892077158531"
      ],
      "text/markdown": [
       "0.689892077158531"
      ],
      "text/plain": [
       "[1] 0.6898921"
      ]
     },
     "metadata": {},
     "output_type": "display_data"
    },
    {
     "name": "stderr",
     "output_type": "stream",
     "text": [
      "Warning message in log(y_hat + 1):\n",
      "\"NaNs produced\"\n"
     ]
    }
   ],
   "source": [
    "pred7_train <- predict(mod7, newdata=train)\n",
    "rmse_train(train$log_sales,pred7_train)\n",
    "rmsle_train(train$log_sales,pred7_train)\n",
    "err_res_train <- rbind(err_res_train, data.frame(Name=\"SVM\", Model=\"mod7\", \n",
    "                                     RMSE_Train=rmse_train(train$log_sales,pred7_train), \n",
    "                                     RMSLE_Train=rmsle_train(train$log_sales,pred7_train)))"
   ]
  },
  {
   "cell_type": "code",
   "execution_count": 565,
   "metadata": {},
   "outputs": [
    {
     "data": {
      "text/html": [
       "26.731512652792"
      ],
      "text/latex": [
       "26.731512652792"
      ],
      "text/markdown": [
       "26.731512652792"
      ],
      "text/plain": [
       "[1] 26.73151"
      ]
     },
     "metadata": {},
     "output_type": "display_data"
    },
    {
     "name": "stderr",
     "output_type": "stream",
     "text": [
      "Warning message in log(y_hat + 1):\n",
      "\"NaNs produced\"\n"
     ]
    },
    {
     "data": {
      "text/html": [
       "0.53618309225074"
      ],
      "text/latex": [
       "0.53618309225074"
      ],
      "text/markdown": [
       "0.53618309225074"
      ],
      "text/plain": [
       "[1] 0.5361831"
      ]
     },
     "metadata": {},
     "output_type": "display_data"
    },
    {
     "name": "stderr",
     "output_type": "stream",
     "text": [
      "Warning message in log(y_hat + 1):\n",
      "\"NaNs produced\"\n"
     ]
    }
   ],
   "source": [
    "pred8_train <- predict(mod8,newdata=X_train)\n",
    "rmse_train(y_train,pred8_train)\n",
    "rmsle_train(y_train,pred8_train)\n",
    "err_res_train <- rbind(err_res_train, data.frame(Name=\"XGBoost\", Model=\"mod8\", \n",
    "                                     RMSE_Train=rmse_train(train$log_sales,pred8_train), \n",
    "                                     RMSLE_Train=rmsle_train(train$log_sales,pred8_train)))"
   ]
  },
  {
   "cell_type": "code",
   "execution_count": 562,
   "metadata": {},
   "outputs": [
    {
     "name": "stderr",
     "output_type": "stream",
     "text": [
      "Using 19999 trees...\n",
      "\n",
      "\n"
     ]
    },
    {
     "data": {
      "text/html": [
       "94.5381230160487"
      ],
      "text/latex": [
       "94.5381230160487"
      ],
      "text/markdown": [
       "94.5381230160487"
      ],
      "text/plain": [
       "[1] 94.53812"
      ]
     },
     "metadata": {},
     "output_type": "display_data"
    },
    {
     "name": "stderr",
     "output_type": "stream",
     "text": [
      "Warning message in log(y_hat + 1):\n",
      "\"NaNs produced\"\n"
     ]
    },
    {
     "data": {
      "text/html": [
       "0.99564256890265"
      ],
      "text/latex": [
       "0.99564256890265"
      ],
      "text/markdown": [
       "0.99564256890265"
      ],
      "text/plain": [
       "[1] 0.9956426"
      ]
     },
     "metadata": {},
     "output_type": "display_data"
    },
    {
     "name": "stderr",
     "output_type": "stream",
     "text": [
      "Warning message in log(y_hat + 1):\n",
      "\"NaNs produced\"\n"
     ]
    }
   ],
   "source": [
    "pred9_train<- predict(mod9,newdata=train)\n",
    "rmse_train(train$log_sales,pred9_train)\n",
    "rmsle_train(train$log_sales,pred9_train)\n",
    "err_res_train <- rbind(err_res_train, data.frame(Name=\"GBM\", Model=\"mod9\", \n",
    "                                     RMSE_Train=rmse_train(train$log_sales,pred9_train), \n",
    "                                     RMSLE_Train=rmsle_train(train$log_sales,pred9_train)))"
   ]
  },
  {
   "cell_type": "code",
   "execution_count": 563,
   "metadata": {},
   "outputs": [
    {
     "name": "stderr",
     "output_type": "stream",
     "text": [
      "Using 4947 trees...\n",
      "\n",
      "\n"
     ]
    },
    {
     "data": {
      "text/html": [
       "47.3321402557792"
      ],
      "text/latex": [
       "47.3321402557792"
      ],
      "text/markdown": [
       "47.3321402557792"
      ],
      "text/plain": [
       "[1] 47.33214"
      ]
     },
     "metadata": {},
     "output_type": "display_data"
    },
    {
     "name": "stderr",
     "output_type": "stream",
     "text": [
      "Warning message in log(y_hat + 1):\n",
      "\"NaNs produced\"\n"
     ]
    },
    {
     "data": {
      "text/html": [
       "0.740301120978005"
      ],
      "text/latex": [
       "0.740301120978005"
      ],
      "text/markdown": [
       "0.740301120978005"
      ],
      "text/plain": [
       "[1] 0.7403011"
      ]
     },
     "metadata": {},
     "output_type": "display_data"
    },
    {
     "name": "stderr",
     "output_type": "stream",
     "text": [
      "Warning message in log(y_hat + 1):\n",
      "\"NaNs produced\"\n"
     ]
    }
   ],
   "source": [
    "pred10_train <- predict(mod10,newdata=train)\n",
    "\n",
    "rmse_train(train$log_sales,pred10_train)\n",
    "rmsle_train(train$log_sales,pred10_train)\n",
    "err_res_train <- rbind(err_res_train, data.frame(Name=\"GBM\", Model=\"mod10\", \n",
    "                                     RMSE_Train=rmse_train(train$log_sales,pred10_train), \n",
    "                                     RMSLE_Train=rmsle_train(train$log_sales,pred10_train)))"
   ]
  },
  {
   "cell_type": "code",
   "execution_count": 566,
   "metadata": {
    "scrolled": true
   },
   "outputs": [
    {
     "data": {
      "text/html": [
       "<table>\n",
       "<caption>A data.frame: 9 × 4</caption>\n",
       "<thead>\n",
       "\t<tr><th scope=col>Name</th><th scope=col>Model</th><th scope=col>RMSE_Train</th><th scope=col>RMSLE_Train</th></tr>\n",
       "\t<tr><th scope=col>&lt;chr&gt;</th><th scope=col>&lt;chr&gt;</th><th scope=col>&lt;dbl&gt;</th><th scope=col>&lt;dbl&gt;</th></tr>\n",
       "</thead>\n",
       "<tbody>\n",
       "\t<tr><td>RandomForest (RF)     </td><td>mod4 </td><td>29.89601</td><td>0.4259278</td></tr>\n",
       "\t<tr><td>XGBoost               </td><td>mod8 </td><td>26.73151</td><td>0.5361831</td></tr>\n",
       "\t<tr><td>RandomForest (ranger) </td><td>mod5 </td><td>44.06971</td><td>0.5872118</td></tr>\n",
       "\t<tr><td>SVM                   </td><td>mod7 </td><td>50.72907</td><td>0.6898921</td></tr>\n",
       "\t<tr><td>GBM                   </td><td>mod10</td><td>47.33214</td><td>0.7403011</td></tr>\n",
       "\t<tr><td>GBM                   </td><td>mod9 </td><td>94.53812</td><td>0.9956426</td></tr>\n",
       "\t<tr><td>Decision Trees-tree   </td><td>mod2 </td><td>81.89647</td><td>1.0071729</td></tr>\n",
       "\t<tr><td>Decision Trees-rpart  </td><td>mod3 </td><td>81.89647</td><td>1.0071729</td></tr>\n",
       "\t<tr><td>Base Linear regression</td><td>mod1 </td><td>99.74785</td><td>1.0156245</td></tr>\n",
       "</tbody>\n",
       "</table>\n"
      ],
      "text/latex": [
       "A data.frame: 9 × 4\n",
       "\\begin{tabular}{llll}\n",
       " Name & Model & RMSE\\_Train & RMSLE\\_Train\\\\\n",
       " <chr> & <chr> & <dbl> & <dbl>\\\\\n",
       "\\hline\n",
       "\t RandomForest (RF)      & mod4  & 29.89601 & 0.4259278\\\\\n",
       "\t XGBoost                & mod8  & 26.73151 & 0.5361831\\\\\n",
       "\t RandomForest (ranger)  & mod5  & 44.06971 & 0.5872118\\\\\n",
       "\t SVM                    & mod7  & 50.72907 & 0.6898921\\\\\n",
       "\t GBM                    & mod10 & 47.33214 & 0.7403011\\\\\n",
       "\t GBM                    & mod9  & 94.53812 & 0.9956426\\\\\n",
       "\t Decision Trees-tree    & mod2  & 81.89647 & 1.0071729\\\\\n",
       "\t Decision Trees-rpart   & mod3  & 81.89647 & 1.0071729\\\\\n",
       "\t Base Linear regression & mod1  & 99.74785 & 1.0156245\\\\\n",
       "\\end{tabular}\n"
      ],
      "text/markdown": [
       "\n",
       "A data.frame: 9 × 4\n",
       "\n",
       "| Name &lt;chr&gt; | Model &lt;chr&gt; | RMSE_Train &lt;dbl&gt; | RMSLE_Train &lt;dbl&gt; |\n",
       "|---|---|---|---|\n",
       "| RandomForest (RF)      | mod4  | 29.89601 | 0.4259278 |\n",
       "| XGBoost                | mod8  | 26.73151 | 0.5361831 |\n",
       "| RandomForest (ranger)  | mod5  | 44.06971 | 0.5872118 |\n",
       "| SVM                    | mod7  | 50.72907 | 0.6898921 |\n",
       "| GBM                    | mod10 | 47.33214 | 0.7403011 |\n",
       "| GBM                    | mod9  | 94.53812 | 0.9956426 |\n",
       "| Decision Trees-tree    | mod2  | 81.89647 | 1.0071729 |\n",
       "| Decision Trees-rpart   | mod3  | 81.89647 | 1.0071729 |\n",
       "| Base Linear regression | mod1  | 99.74785 | 1.0156245 |\n",
       "\n"
      ],
      "text/plain": [
       "  Name                   Model RMSE_Train RMSLE_Train\n",
       "1 RandomForest (RF)      mod4  29.89601   0.4259278  \n",
       "2 XGBoost                mod8  26.73151   0.5361831  \n",
       "3 RandomForest (ranger)  mod5  44.06971   0.5872118  \n",
       "4 SVM                    mod7  50.72907   0.6898921  \n",
       "5 GBM                    mod10 47.33214   0.7403011  \n",
       "6 GBM                    mod9  94.53812   0.9956426  \n",
       "7 Decision Trees-tree    mod2  81.89647   1.0071729  \n",
       "8 Decision Trees-rpart   mod3  81.89647   1.0071729  \n",
       "9 Base Linear regression mod1  99.74785   1.0156245  "
      ]
     },
     "metadata": {},
     "output_type": "display_data"
    }
   ],
   "source": [
    "Results_Train <-err_res_train %>% arrange(RMSLE_Train) \n",
    "Results_Train"
   ]
  },
  {
   "cell_type": "code",
   "execution_count": 567,
   "metadata": {},
   "outputs": [
    {
     "name": "stderr",
     "output_type": "stream",
     "text": [
      "Joining, by = c(\"Name\", \"Model\")\n",
      "\n"
     ]
    },
    {
     "data": {
      "text/html": [
       "<table>\n",
       "<caption>A data.frame: 10 × 6</caption>\n",
       "<thead>\n",
       "\t<tr><th scope=col>Name</th><th scope=col>Model</th><th scope=col>RMSE_Dev</th><th scope=col>RMSLE_Dev</th><th scope=col>RMSE_Train</th><th scope=col>RMSLE_Train</th></tr>\n",
       "\t<tr><th scope=col>&lt;chr&gt;</th><th scope=col>&lt;chr&gt;</th><th scope=col>&lt;dbl&gt;</th><th scope=col>&lt;dbl&gt;</th><th scope=col>&lt;dbl&gt;</th><th scope=col>&lt;dbl&gt;</th></tr>\n",
       "</thead>\n",
       "<tbody>\n",
       "\t<tr><td>RandomForest (RF)     </td><td>mod4 </td><td> 52.73429</td><td>0.6542880</td><td>29.89601</td><td>0.4259278</td></tr>\n",
       "\t<tr><td>XGBoost               </td><td>mod8 </td><td> 49.97225</td><td>0.6921642</td><td>26.73151</td><td>0.5361831</td></tr>\n",
       "\t<tr><td>RandomForest (ranger) </td><td>mod5 </td><td> 58.90842</td><td>0.7323507</td><td>44.06971</td><td>0.5872118</td></tr>\n",
       "\t<tr><td>SVM                   </td><td>mod7 </td><td> 66.74560</td><td>0.7979197</td><td>50.72907</td><td>0.6898921</td></tr>\n",
       "\t<tr><td>GBM                   </td><td>mod10</td><td> 58.63346</td><td>0.7995394</td><td>47.33214</td><td>0.7403011</td></tr>\n",
       "\t<tr><td>kNN                   </td><td>mod6 </td><td>100.84361</td><td>0.9142709</td><td>      NA</td><td>       NA</td></tr>\n",
       "\t<tr><td>GBM                   </td><td>mod9 </td><td> 96.52550</td><td>1.0163539</td><td>94.53812</td><td>0.9956426</td></tr>\n",
       "\t<tr><td>Decision Trees-tree   </td><td>mod2 </td><td> 86.92200</td><td>1.0309348</td><td>81.89647</td><td>1.0071729</td></tr>\n",
       "\t<tr><td>Decision Trees-rpart  </td><td>mod3 </td><td> 86.92200</td><td>1.0309348</td><td>81.89647</td><td>1.0071729</td></tr>\n",
       "\t<tr><td>Base Linear regression</td><td>mod1 </td><td>101.73085</td><td>1.0460086</td><td>99.74785</td><td>1.0156245</td></tr>\n",
       "</tbody>\n",
       "</table>\n"
      ],
      "text/latex": [
       "A data.frame: 10 × 6\n",
       "\\begin{tabular}{llllll}\n",
       " Name & Model & RMSE\\_Dev & RMSLE\\_Dev & RMSE\\_Train & RMSLE\\_Train\\\\\n",
       " <chr> & <chr> & <dbl> & <dbl> & <dbl> & <dbl>\\\\\n",
       "\\hline\n",
       "\t RandomForest (RF)      & mod4  &  52.73429 & 0.6542880 & 29.89601 & 0.4259278\\\\\n",
       "\t XGBoost                & mod8  &  49.97225 & 0.6921642 & 26.73151 & 0.5361831\\\\\n",
       "\t RandomForest (ranger)  & mod5  &  58.90842 & 0.7323507 & 44.06971 & 0.5872118\\\\\n",
       "\t SVM                    & mod7  &  66.74560 & 0.7979197 & 50.72907 & 0.6898921\\\\\n",
       "\t GBM                    & mod10 &  58.63346 & 0.7995394 & 47.33214 & 0.7403011\\\\\n",
       "\t kNN                    & mod6  & 100.84361 & 0.9142709 &       NA &        NA\\\\\n",
       "\t GBM                    & mod9  &  96.52550 & 1.0163539 & 94.53812 & 0.9956426\\\\\n",
       "\t Decision Trees-tree    & mod2  &  86.92200 & 1.0309348 & 81.89647 & 1.0071729\\\\\n",
       "\t Decision Trees-rpart   & mod3  &  86.92200 & 1.0309348 & 81.89647 & 1.0071729\\\\\n",
       "\t Base Linear regression & mod1  & 101.73085 & 1.0460086 & 99.74785 & 1.0156245\\\\\n",
       "\\end{tabular}\n"
      ],
      "text/markdown": [
       "\n",
       "A data.frame: 10 × 6\n",
       "\n",
       "| Name &lt;chr&gt; | Model &lt;chr&gt; | RMSE_Dev &lt;dbl&gt; | RMSLE_Dev &lt;dbl&gt; | RMSE_Train &lt;dbl&gt; | RMSLE_Train &lt;dbl&gt; |\n",
       "|---|---|---|---|---|---|\n",
       "| RandomForest (RF)      | mod4  |  52.73429 | 0.6542880 | 29.89601 | 0.4259278 |\n",
       "| XGBoost                | mod8  |  49.97225 | 0.6921642 | 26.73151 | 0.5361831 |\n",
       "| RandomForest (ranger)  | mod5  |  58.90842 | 0.7323507 | 44.06971 | 0.5872118 |\n",
       "| SVM                    | mod7  |  66.74560 | 0.7979197 | 50.72907 | 0.6898921 |\n",
       "| GBM                    | mod10 |  58.63346 | 0.7995394 | 47.33214 | 0.7403011 |\n",
       "| kNN                    | mod6  | 100.84361 | 0.9142709 |       NA |        NA |\n",
       "| GBM                    | mod9  |  96.52550 | 1.0163539 | 94.53812 | 0.9956426 |\n",
       "| Decision Trees-tree    | mod2  |  86.92200 | 1.0309348 | 81.89647 | 1.0071729 |\n",
       "| Decision Trees-rpart   | mod3  |  86.92200 | 1.0309348 | 81.89647 | 1.0071729 |\n",
       "| Base Linear regression | mod1  | 101.73085 | 1.0460086 | 99.74785 | 1.0156245 |\n",
       "\n"
      ],
      "text/plain": [
       "   Name                   Model RMSE_Dev  RMSLE_Dev RMSE_Train RMSLE_Train\n",
       "1  RandomForest (RF)      mod4   52.73429 0.6542880 29.89601   0.4259278  \n",
       "2  XGBoost                mod8   49.97225 0.6921642 26.73151   0.5361831  \n",
       "3  RandomForest (ranger)  mod5   58.90842 0.7323507 44.06971   0.5872118  \n",
       "4  SVM                    mod7   66.74560 0.7979197 50.72907   0.6898921  \n",
       "5  GBM                    mod10  58.63346 0.7995394 47.33214   0.7403011  \n",
       "6  kNN                    mod6  100.84361 0.9142709       NA          NA  \n",
       "7  GBM                    mod9   96.52550 1.0163539 94.53812   0.9956426  \n",
       "8  Decision Trees-tree    mod2   86.92200 1.0309348 81.89647   1.0071729  \n",
       "9  Decision Trees-rpart   mod3   86.92200 1.0309348 81.89647   1.0071729  \n",
       "10 Base Linear regression mod1  101.73085 1.0460086 99.74785   1.0156245  "
      ]
     },
     "metadata": {},
     "output_type": "display_data"
    }
   ],
   "source": [
    "left_join(Results_Dev, Results_Train)"
   ]
  },
  {
   "cell_type": "code",
   "execution_count": null,
   "metadata": {},
   "outputs": [],
   "source": [
    "# Model 8 RMSLE_Train ~ 0.5361831 vs. RMSLE_Dev ~ 0.6921642 -----> no over fitting ------> can proceed"
   ]
  },
  {
   "cell_type": "code",
   "execution_count": 368,
   "metadata": {},
   "outputs": [
    {
     "data": {
      "image/png": "[encoded data removed]",
      "text/plain": [
       "plot without title"
      ]
     },
     "metadata": {
      "image/png": {
       "height": 480,
       "width": 600
      }
     },
     "output_type": "display_data"
    }
   ],
   "source": [
    "plot(pred4 ~ dev$log_sales)"
   ]
  },
  {
   "cell_type": "code",
   "execution_count": 342,
   "metadata": {},
   "outputs": [
    {
     "data": {
      "image/png": "[encoded data removed]",
      "text/plain": [
       "plot without title"
      ]
     },
     "metadata": {
      "image/png": {
       "height": 480,
       "width": 600
      }
     },
     "output_type": "display_data"
    }
   ],
   "source": [
    "plot(pred8 ~ dev$log_sales)"
   ]
  },
  {
   "cell_type": "code",
   "execution_count": 343,
   "metadata": {},
   "outputs": [],
   "source": [
    "## We'll choose model 8 - XGBoost since it is on 2nd place in terms of RMSLE and 1st in terms of RMSE.\n",
    "## Also its graph looks better"
   ]
  },
  {
   "cell_type": "code",
   "execution_count": 344,
   "metadata": {},
   "outputs": [
    {
     "name": "stdout",
     "output_type": "stream",
     "text": [
      "[1]\ttrain-rmse:167.519531 \n",
      "[51]\ttrain-rmse:113.963409 \n",
      "[101]\ttrain-rmse:81.982903 \n",
      "[151]\ttrain-rmse:62.102406 \n",
      "[201]\ttrain-rmse:50.394306 \n",
      "[251]\ttrain-rmse:43.098682 \n",
      "[301]\ttrain-rmse:38.224609 \n",
      "[351]\ttrain-rmse:34.969097 \n",
      "[401]\ttrain-rmse:32.449852 \n",
      "[451]\ttrain-rmse:30.650753 \n",
      "[500]\ttrain-rmse:29.264832 \n"
     ]
    }
   ],
   "source": [
    "#X_train <- xgb.DMatrix(train1)\n",
    "X_train <- train1\n",
    "y_train <- train$log_sales\n",
    "set.seed(12)\n",
    "mod11 <- xgboost(data=X_train,label=y_train, nrounds=500,print_every_n = 50,max.depth = 10,learning_rate:0.001,\n",
    "                 gamma=0.3,eta=0.01,min_child_weight=3,subsample=0.7,colsample_bytree=0.7)\n",
    "                "
   ]
  },
  {
   "cell_type": "code",
   "execution_count": 346,
   "metadata": {},
   "outputs": [
    {
     "data": {
      "text/html": [
       "48.6806368324025"
      ],
      "text/latex": [
       "48.6806368324025"
      ],
      "text/markdown": [
       "48.6806368324025"
      ],
      "text/plain": [
       "[1] 48.68064"
      ]
     },
     "metadata": {},
     "output_type": "display_data"
    },
    {
     "name": "stderr",
     "output_type": "stream",
     "text": [
      "Warning message in log(y_hat + 1):\n",
      "\"NaNs produced\"\n"
     ]
    },
    {
     "data": {
      "text/html": [
       "0.619077049943927"
      ],
      "text/latex": [
       "0.619077049943927"
      ],
      "text/markdown": [
       "0.619077049943927"
      ],
      "text/plain": [
       "[1] 0.619077"
      ]
     },
     "metadata": {},
     "output_type": "display_data"
    },
    {
     "name": "stderr",
     "output_type": "stream",
     "text": [
      "Warning message in log(y_hat + 1):\n",
      "\"NaNs produced\"\n"
     ]
    }
   ],
   "source": [
    "#X_test <- xgb.DMatrix(test1)\n",
    "X_dev <- dev1\n",
    "y_dev <- dev$log_sales\n",
    "\n",
    "pred11 <- predict(mod11,newdata=X_dev)\n",
    "rmse_dev(y_dev,pred11)\n",
    "rmsle_dev(y_dev,pred11)\n",
    "err_res <- rbind(err_res, data.frame(Name=\"XGBoost\", Model=\"mod11\", \n",
    "                                     RMSE_Dev=rmse_dev(y_dev,pred11), \n",
    "                                     RMSLE_Dev=rmsle_dev(y_dev,pred11)))"
   ]
  },
  {
   "cell_type": "code",
   "execution_count": 347,
   "metadata": {},
   "outputs": [
    {
     "data": {
      "text/html": [
       "'Percent of Variance Explained, R^2: 84.2%'"
      ],
      "text/latex": [
       "'Percent of Variance Explained, R\\textasciicircum{}2: 84.2\\%'"
      ],
      "text/markdown": [
       "'Percent of Variance Explained, R^2: 84.2%'"
      ],
      "text/plain": [
       "[1] \"Percent of Variance Explained, R^2: 84.2%\""
      ]
     },
     "metadata": {},
     "output_type": "display_data"
    }
   ],
   "source": [
    "R_squre <- tibble(pred11, obs = dev$log_sales) %>% \n",
    "  mutate(resid = pred11 - obs,\n",
    "         resid_sq = resid^2)\n",
    "sstot <- sum((R_squre$pred11 - mean(R_squre$obs))^2)\n",
    "ssresid <- sum(R_squre$resid_sq)\n",
    "sprintf(\"Percent of Variance Explained, R^2: %1.1f%%\", 100 * (1 - ssresid / sstot))"
   ]
  },
  {
   "cell_type": "markdown",
   "metadata": {},
   "source": [
    "Final Model - # 12"
   ]
  },
  {
   "cell_type": "code",
   "execution_count": 348,
   "metadata": {},
   "outputs": [
    {
     "name": "stdout",
     "output_type": "stream",
     "text": [
      "[1]\ttrain-rmse:161.274780 \n",
      "[51]\ttrain-rmse:40.182568 \n",
      "[101]\ttrain-rmse:28.927046 \n",
      "[151]\ttrain-rmse:25.589277 \n",
      "[201]\ttrain-rmse:22.968740 \n",
      "[251]\ttrain-rmse:21.191523 \n",
      "[301]\ttrain-rmse:20.126997 \n",
      "[351]\ttrain-rmse:19.158098 \n",
      "[401]\ttrain-rmse:18.513319 \n",
      "[451]\ttrain-rmse:17.865463 \n",
      "[500]\ttrain-rmse:17.308502 \n"
     ]
    }
   ],
   "source": [
    "X_train <- train1\n",
    "y_train <- train$log_sales\n",
    "set.seed(123)\n",
    "mod12 <- xgboost(data=X_train,label=y_train, nrounds=500,print_every_n = 50,max.depth = 10,min_child_weight=6,\n",
    "                eta=0.05)"
   ]
  },
  {
   "cell_type": "code",
   "execution_count": 349,
   "metadata": {},
   "outputs": [
    {
     "data": {
      "text/html": [
       "45.6829089972471"
      ],
      "text/latex": [
       "45.6829089972471"
      ],
      "text/markdown": [
       "45.6829089972471"
      ],
      "text/plain": [
       "[1] 45.68291"
      ]
     },
     "metadata": {},
     "output_type": "display_data"
    },
    {
     "name": "stderr",
     "output_type": "stream",
     "text": [
      "Warning message in log(y_hat + 1):\n",
      "\"NaNs produced\"\n"
     ]
    },
    {
     "data": {
      "text/html": [
       "0.609039691842305"
      ],
      "text/latex": [
       "0.609039691842305"
      ],
      "text/markdown": [
       "0.609039691842305"
      ],
      "text/plain": [
       "[1] 0.6090397"
      ]
     },
     "metadata": {},
     "output_type": "display_data"
    },
    {
     "name": "stderr",
     "output_type": "stream",
     "text": [
      "Warning message in log(y_hat + 1):\n",
      "\"NaNs produced\"\n"
     ]
    }
   ],
   "source": [
    "#X_test <- xgb.DMatrix(test1)\n",
    "X_dev <- dev1\n",
    "y_dev <- dev$log_sales\n",
    "set.seed(123)\n",
    "pred12 <- predict(mod12,newdata=X_dev)\n",
    "rmse_dev(y_dev,pred12)\n",
    "rmsle_dev(y_dev,pred12)\n",
    "err_res <- rbind(err_res, data.frame(Name=\"XGBoost\", Model=\"mod12\", \n",
    "                                     RMSE_Dev=rmse_dev(y_dev,pred12), \n",
    "                                     RMSLE_Dev=rmsle_dev(y_dev,pred12)))"
   ]
  },
  {
   "cell_type": "code",
   "execution_count": 350,
   "metadata": {},
   "outputs": [
    {
     "data": {
      "text/html": [
       "'Percent of Variance Explained, R^2: 87.8%'"
      ],
      "text/latex": [
       "'Percent of Variance Explained, R\\textasciicircum{}2: 87.8\\%'"
      ],
      "text/markdown": [
       "'Percent of Variance Explained, R^2: 87.8%'"
      ],
      "text/plain": [
       "[1] \"Percent of Variance Explained, R^2: 87.8%\""
      ]
     },
     "metadata": {},
     "output_type": "display_data"
    }
   ],
   "source": [
    "R_squre <- tibble(pred12, obs = dev$log_sales) %>% \n",
    "  mutate(resid = pred12 - obs,\n",
    "         resid_sq = resid^2)\n",
    "sstot <- sum((R_squre$pred12 - mean(R_squre$obs))^2)\n",
    "ssresid <- sum(R_squre$resid_sq)\n",
    "sprintf(\"Percent of Variance Explained, R^2: %1.1f%%\", 100 * (1 - ssresid / sstot))"
   ]
  },
  {
   "cell_type": "code",
   "execution_count": 351,
   "metadata": {},
   "outputs": [
    {
     "data": {
      "image/png": "[encoded data removed]",
      "text/plain": [
       "plot without title"
      ]
     },
     "metadata": {
      "image/png": {
       "height": 480,
       "width": 600
      }
     },
     "output_type": "display_data"
    }
   ],
   "source": [
    "# Density plot of residuals\n",
    "ggplot(R_squre, aes(x = resid)) +\n",
    "  geom_density(fill = 'grey50', color = 'white', alpha = 0.7) +\n",
    "  theme_bw()"
   ]
  },
  {
   "cell_type": "code",
   "execution_count": 352,
   "metadata": {},
   "outputs": [
    {
     "data": {
      "image/png": "[encoded data removed]",
      "text/plain": [
       "plot without title"
      ]
     },
     "metadata": {
      "image/png": {
       "height": 480,
       "width": 600
      }
     },
     "output_type": "display_data"
    }
   ],
   "source": [
    "# Observed and Predicted\n",
    "ggplot(R_squre, aes(x = obs, y = pred12, size = resid)) +\n",
    "  geom_point() +\n",
    "  theme_bw()"
   ]
  },
  {
   "cell_type": "code",
   "execution_count": 353,
   "metadata": {},
   "outputs": [
    {
     "data": {
      "image/png": "[encoded data removed]",
      "text/plain": [
       "plot without title"
      ]
     },
     "metadata": {
      "image/png": {
       "height": 480,
       "width": 600
      }
     },
     "output_type": "display_data"
    }
   ],
   "source": [
    "plot(pred12 ~ dev$log_sales)"
   ]
  },
  {
   "cell_type": "code",
   "execution_count": 354,
   "metadata": {},
   "outputs": [
    {
     "name": "stdout",
     "output_type": "stream",
     "text": [
      "             Feature         Gain       Cover    Frequency   Importance\n",
      " 1:        store_pct 0.2517489452 0.096457564 0.0942454665 0.2517489452\n",
      " 2:    onpromotion_1 0.1856199841 0.021539080 0.0198432189 0.1856199841\n",
      " 3: sumtaransactions 0.1168285353 0.510039007 0.3003104187 0.1168285353\n",
      " 4:  item_nbr_741201 0.0925486094 0.016271906 0.0204326215 0.0925486094\n",
      " 5:      cluster_pct 0.0860109021 0.042166688 0.0568085817 0.0860109021\n",
      " 6:       class_2802 0.0783348458 0.018028388 0.0299121790 0.0783348458\n",
      " 7:           maxoil 0.0402120294 0.080776131 0.1421245997 0.0402120294\n",
      " 8:  item_nbr_699745 0.0374690881 0.020062975 0.0263364703 0.0374690881\n",
      " 9:  item_nbr_589403 0.0222119959 0.009031463 0.0223383564 0.0222119959\n",
      "10: National_Ecuador 0.0185627945 0.029473406 0.0858464803 0.0185627945\n",
      "11: item_nbr_1247036 0.0165435084 0.020502527 0.0205701487 0.0165435084\n",
      "12:    onpromotion_0 0.0142498618 0.009659004 0.0499223953 0.0142498618\n",
      "13:         city_pct 0.0125088225 0.028474793 0.0327609580 0.0125088225\n",
      "14: item_nbr_1110679 0.0047747208 0.009145504 0.0127507417 0.0047747208\n",
      "15:       class_2850 0.0041763755 0.010551798 0.0229375823 0.0041763755\n",
      "16:     locale_Manta 0.0036185290 0.015540287 0.0097644355 0.0036185290\n",
      "17:       class_2854 0.0034111355 0.012903214 0.0082418122 0.0034111355\n",
      "18:      locale_Loja 0.0031107317 0.008347475 0.0062083734 0.0031107317\n",
      "19:  item_nbr_804098 0.0026070337 0.006511815 0.0073773552 0.0026070337\n",
      "20:    locale_Ibarra 0.0013979487 0.004296417 0.0069647734 0.0013979487\n",
      "21:             MM_1 0.0012103329 0.009984037 0.0053635631 0.0012103329\n",
      "22:             MM_2 0.0009232133 0.004177095 0.0048920411 0.0009232133\n",
      "23:        EQ_Impact 0.0006194806 0.009101754 0.0044401658 0.0006194806\n",
      "24:     store_type_A 0.0004698705 0.002710953 0.0041552879 0.0004698705\n",
      "25:     store_type_D 0.0004406472 0.001183116 0.0023969037 0.0004406472\n",
      "26:     store_type_B 0.0002809630 0.001315854 0.0022888465 0.0002809630\n",
      "27:     store_type_C 0.0001090950 0.001747750 0.0007662233 0.0001090950\n",
      "             Feature         Gain       Cover    Frequency   Importance\n"
     ]
    },
    {
     "data": {
      "image/png": "[encoded data removed]",
      "text/plain": [
       "plot without title"
      ]
     },
     "metadata": {
      "image/png": {
       "height": 480,
       "width": 600
      }
     },
     "output_type": "display_data"
    }
   ],
   "source": [
    "importance <- xgb.importance(feature_names = X_train@Dimnames[[2]], model = mod12)\n",
    "print(xgb.plot.importance(importance_matrix = importance))"
   ]
  },
  {
   "cell_type": "code",
   "execution_count": 355,
   "metadata": {},
   "outputs": [
    {
     "name": "stdout",
     "output_type": "stream",
     "text": [
      "            Feature       Gain      Cover  Frequency Importance\n",
      "1:        store_pct 0.25174895 0.09645756 0.09424547 0.25174895\n",
      "2:    onpromotion_1 0.18561998 0.02153908 0.01984322 0.18561998\n",
      "3: sumtaransactions 0.11682854 0.51003901 0.30031042 0.11682854\n",
      "4:  item_nbr_741201 0.09254861 0.01627191 0.02043262 0.09254861\n",
      "5:      cluster_pct 0.08601090 0.04216669 0.05680858 0.08601090\n"
     ]
    },
    {
     "data": {
      "image/png": "[encoded data removed]",
      "text/plain": [
       "plot without title"
      ]
     },
     "metadata": {
      "image/png": {
       "height": 480,
       "width": 600
      }
     },
     "output_type": "display_data"
    }
   ],
   "source": [
    "print(xgb.plot.importance(importance_matrix = importance, top_n = 5))"
   ]
  },
  {
   "cell_type": "code",
   "execution_count": null,
   "metadata": {},
   "outputs": [],
   "source": [
    "# Model 12 is after tuning the origin Model (#8)\n",
    "# Now we should run the final model on the test dataset. We should obtain the same score"
   ]
  },
  {
   "cell_type": "code",
   "execution_count": 356,
   "metadata": {},
   "outputs": [
    {
     "data": {
      "text/html": [
       "<table>\n",
       "<caption>A data.frame: 6 × 32</caption>\n",
       "<thead>\n",
       "\t<tr><th></th><th scope=col>sumtaransactions</th><th scope=col>locale_Ibarra</th><th scope=col>locale_Loja</th><th scope=col>locale_Manta</th><th scope=col>locale_Quito</th><th scope=col>National_Ecuador</th><th scope=col>maxoil</th><th scope=col>EQ_Impact</th><th scope=col>store_pct</th><th scope=col>city_pct</th><th scope=col>...</th><th scope=col>store_type_B</th><th scope=col>store_type_C</th><th scope=col>store_type_D</th><th scope=col>onpromotion_0</th><th scope=col>onpromotion_1</th><th scope=col>MM_1</th><th scope=col>MM_2</th><th scope=col>MM_3</th><th scope=col>MM_12</th><th scope=col>log_sales</th></tr>\n",
       "\t<tr><th></th><th scope=col>&lt;dbl&gt;</th><th scope=col>&lt;dbl&gt;</th><th scope=col>&lt;dbl&gt;</th><th scope=col>&lt;dbl&gt;</th><th scope=col>&lt;dbl&gt;</th><th scope=col>&lt;dbl&gt;</th><th scope=col>&lt;dbl&gt;</th><th scope=col>&lt;dbl&gt;</th><th scope=col>&lt;dbl&gt;</th><th scope=col>&lt;dbl&gt;</th><th scope=col>...</th><th scope=col>&lt;dbl&gt;</th><th scope=col>&lt;dbl&gt;</th><th scope=col>&lt;dbl&gt;</th><th scope=col>&lt;dbl&gt;</th><th scope=col>&lt;dbl&gt;</th><th scope=col>&lt;dbl&gt;</th><th scope=col>&lt;dbl&gt;</th><th scope=col>&lt;dbl&gt;</th><th scope=col>&lt;dbl&gt;</th><th scope=col>&lt;dbl&gt;</th></tr>\n",
       "</thead>\n",
       "<tbody>\n",
       "\t<tr><th scope=row>14</th><td> 293</td><td>1</td><td>1</td><td>1</td><td>1</td><td>7</td><td>22</td><td>1</td><td>30</td><td>16</td><td>...</td><td>1</td><td>1</td><td>2</td><td>1</td><td>1</td><td>2</td><td>1</td><td>1</td><td>1</td><td>  6</td></tr>\n",
       "\t<tr><th scope=row>15</th><td>2353</td><td>1</td><td>1</td><td>1</td><td>1</td><td>7</td><td>22</td><td>1</td><td>42</td><td>22</td><td>...</td><td>1</td><td>1</td><td>1</td><td>1</td><td>1</td><td>2</td><td>1</td><td>1</td><td>1</td><td>600</td></tr>\n",
       "\t<tr><th scope=row>19</th><td>2336</td><td>1</td><td>1</td><td>1</td><td>1</td><td>7</td><td>22</td><td>1</td><td>44</td><td>22</td><td>...</td><td>1</td><td>1</td><td>1</td><td>1</td><td>1</td><td>2</td><td>1</td><td>1</td><td>1</td><td> 79</td></tr>\n",
       "\t<tr><th scope=row>33</th><td>2336</td><td>1</td><td>1</td><td>1</td><td>1</td><td>7</td><td>22</td><td>1</td><td>44</td><td>22</td><td>...</td><td>1</td><td>1</td><td>1</td><td>1</td><td>1</td><td>2</td><td>1</td><td>1</td><td>1</td><td>748</td></tr>\n",
       "\t<tr><th scope=row>36</th><td>1310</td><td>1</td><td>1</td><td>1</td><td>1</td><td>7</td><td>22</td><td>1</td><td>36</td><td>20</td><td>...</td><td>1</td><td>1</td><td>2</td><td>1</td><td>1</td><td>2</td><td>1</td><td>1</td><td>1</td><td> 98</td></tr>\n",
       "\t<tr><th scope=row>37</th><td>2177</td><td>1</td><td>1</td><td>1</td><td>1</td><td>7</td><td>22</td><td>1</td><td>44</td><td>22</td><td>...</td><td>1</td><td>1</td><td>1</td><td>1</td><td>1</td><td>2</td><td>1</td><td>1</td><td>1</td><td>161</td></tr>\n",
       "</tbody>\n",
       "</table>\n"
      ],
      "text/latex": [
       "A data.frame: 6 × 32\n",
       "\\begin{tabular}{r|lllllllllllllllllllll}\n",
       "  & sumtaransactions & locale\\_Ibarra & locale\\_Loja & locale\\_Manta & locale\\_Quito & National\\_Ecuador & maxoil & EQ\\_Impact & store\\_pct & city\\_pct & ... & store\\_type\\_B & store\\_type\\_C & store\\_type\\_D & onpromotion\\_0 & onpromotion\\_1 & MM\\_1 & MM\\_2 & MM\\_3 & MM\\_12 & log\\_sales\\\\\n",
       "  & <dbl> & <dbl> & <dbl> & <dbl> & <dbl> & <dbl> & <dbl> & <dbl> & <dbl> & <dbl> & ... & <dbl> & <dbl> & <dbl> & <dbl> & <dbl> & <dbl> & <dbl> & <dbl> & <dbl> & <dbl>\\\\\n",
       "\\hline\n",
       "\t14 &  293 & 1 & 1 & 1 & 1 & 7 & 22 & 1 & 30 & 16 & ... & 1 & 1 & 2 & 1 & 1 & 2 & 1 & 1 & 1 &   6\\\\\n",
       "\t15 & 2353 & 1 & 1 & 1 & 1 & 7 & 22 & 1 & 42 & 22 & ... & 1 & 1 & 1 & 1 & 1 & 2 & 1 & 1 & 1 & 600\\\\\n",
       "\t19 & 2336 & 1 & 1 & 1 & 1 & 7 & 22 & 1 & 44 & 22 & ... & 1 & 1 & 1 & 1 & 1 & 2 & 1 & 1 & 1 &  79\\\\\n",
       "\t33 & 2336 & 1 & 1 & 1 & 1 & 7 & 22 & 1 & 44 & 22 & ... & 1 & 1 & 1 & 1 & 1 & 2 & 1 & 1 & 1 & 748\\\\\n",
       "\t36 & 1310 & 1 & 1 & 1 & 1 & 7 & 22 & 1 & 36 & 20 & ... & 1 & 1 & 2 & 1 & 1 & 2 & 1 & 1 & 1 &  98\\\\\n",
       "\t37 & 2177 & 1 & 1 & 1 & 1 & 7 & 22 & 1 & 44 & 22 & ... & 1 & 1 & 1 & 1 & 1 & 2 & 1 & 1 & 1 & 161\\\\\n",
       "\\end{tabular}\n"
      ],
      "text/markdown": [
       "\n",
       "A data.frame: 6 × 32\n",
       "\n",
       "| <!--/--> | sumtaransactions &lt;dbl&gt; | locale_Ibarra &lt;dbl&gt; | locale_Loja &lt;dbl&gt; | locale_Manta &lt;dbl&gt; | locale_Quito &lt;dbl&gt; | National_Ecuador &lt;dbl&gt; | maxoil &lt;dbl&gt; | EQ_Impact &lt;dbl&gt; | store_pct &lt;dbl&gt; | city_pct &lt;dbl&gt; | ... ... | store_type_B &lt;dbl&gt; | store_type_C &lt;dbl&gt; | store_type_D &lt;dbl&gt; | onpromotion_0 &lt;dbl&gt; | onpromotion_1 &lt;dbl&gt; | MM_1 &lt;dbl&gt; | MM_2 &lt;dbl&gt; | MM_3 &lt;dbl&gt; | MM_12 &lt;dbl&gt; | log_sales &lt;dbl&gt; |\n",
       "|---|---|---|---|---|---|---|---|---|---|---|---|---|---|---|---|---|---|---|---|---|---|\n",
       "| 14 |  293 | 1 | 1 | 1 | 1 | 7 | 22 | 1 | 30 | 16 | ... | 1 | 1 | 2 | 1 | 1 | 2 | 1 | 1 | 1 |   6 |\n",
       "| 15 | 2353 | 1 | 1 | 1 | 1 | 7 | 22 | 1 | 42 | 22 | ... | 1 | 1 | 1 | 1 | 1 | 2 | 1 | 1 | 1 | 600 |\n",
       "| 19 | 2336 | 1 | 1 | 1 | 1 | 7 | 22 | 1 | 44 | 22 | ... | 1 | 1 | 1 | 1 | 1 | 2 | 1 | 1 | 1 |  79 |\n",
       "| 33 | 2336 | 1 | 1 | 1 | 1 | 7 | 22 | 1 | 44 | 22 | ... | 1 | 1 | 1 | 1 | 1 | 2 | 1 | 1 | 1 | 748 |\n",
       "| 36 | 1310 | 1 | 1 | 1 | 1 | 7 | 22 | 1 | 36 | 20 | ... | 1 | 1 | 2 | 1 | 1 | 2 | 1 | 1 | 1 |  98 |\n",
       "| 37 | 2177 | 1 | 1 | 1 | 1 | 7 | 22 | 1 | 44 | 22 | ... | 1 | 1 | 1 | 1 | 1 | 2 | 1 | 1 | 1 | 161 |\n",
       "\n"
      ],
      "text/plain": [
       "   sumtaransactions locale_Ibarra locale_Loja locale_Manta locale_Quito\n",
       "14  293             1             1           1            1           \n",
       "15 2353             1             1           1            1           \n",
       "19 2336             1             1           1            1           \n",
       "33 2336             1             1           1            1           \n",
       "36 1310             1             1           1            1           \n",
       "37 2177             1             1           1            1           \n",
       "   National_Ecuador maxoil EQ_Impact store_pct city_pct ... store_type_B\n",
       "14 7                22     1         30        16       ... 1           \n",
       "15 7                22     1         42        22       ... 1           \n",
       "19 7                22     1         44        22       ... 1           \n",
       "33 7                22     1         44        22       ... 1           \n",
       "36 7                22     1         36        20       ... 1           \n",
       "37 7                22     1         44        22       ... 1           \n",
       "   store_type_C store_type_D onpromotion_0 onpromotion_1 MM_1 MM_2 MM_3 MM_12\n",
       "14 1            2            1             1             2    1    1    1    \n",
       "15 1            1            1             1             2    1    1    1    \n",
       "19 1            1            1             1             2    1    1    1    \n",
       "33 1            1            1             1             2    1    1    1    \n",
       "36 1            2            1             1             2    1    1    1    \n",
       "37 1            1            1             1             2    1    1    1    \n",
       "   log_sales\n",
       "14   6      \n",
       "15 600      \n",
       "19  79      \n",
       "33 748      \n",
       "36  98      \n",
       "37 161      "
      ]
     },
     "metadata": {},
     "output_type": "display_data"
    }
   ],
   "source": [
    "test_num <- test\n",
    "test_num[] <- sapply(test_num[], as.numeric) \n",
    "head(test_num)"
   ]
  },
  {
   "cell_type": "code",
   "execution_count": 357,
   "metadata": {},
   "outputs": [],
   "source": [
    "test1 <- Matrix::sparse.model.matrix(log_sales ~ .-1, data = test_num)"
   ]
  },
  {
   "cell_type": "code",
   "execution_count": 358,
   "metadata": {},
   "outputs": [],
   "source": [
    "X_test <- test1\n",
    "y_test <- test$log_sales\n"
   ]
  },
  {
   "cell_type": "code",
   "execution_count": 359,
   "metadata": {},
   "outputs": [
    {
     "data": {
      "text/html": [
       "46.6116326933611"
      ],
      "text/latex": [
       "46.6116326933611"
      ],
      "text/markdown": [
       "46.6116326933611"
      ],
      "text/plain": [
       "[1] 46.61163"
      ]
     },
     "metadata": {},
     "output_type": "display_data"
    },
    {
     "name": "stderr",
     "output_type": "stream",
     "text": [
      "Warning message in log(y_hat + 1):\n",
      "\"NaNs produced\"\n"
     ]
    },
    {
     "data": {
      "text/html": [
       "0.584892496062717"
      ],
      "text/latex": [
       "0.584892496062717"
      ],
      "text/markdown": [
       "0.584892496062717"
      ],
      "text/plain": [
       "[1] 0.5848925"
      ]
     },
     "metadata": {},
     "output_type": "display_data"
    },
    {
     "name": "stderr",
     "output_type": "stream",
     "text": [
      "Warning message in y_hat - y:\n",
      "\"longer object length is not a multiple of shorter object length\"\n",
      "Warning message in log(y_hat + 1):\n",
      "\"NaNs produced\"\n",
      "Warning message in log(y_hat + 1) - log(y + 1):\n",
      "\"longer object length is not a multiple of shorter object length\"\n"
     ]
    }
   ],
   "source": [
    "set.seed(123)\n",
    "predtest <- predict(mod12,newdata=X_test)\n",
    "rmse_dev(y_test,predtest)\n",
    "rmsle_dev(y_test,predtest)\n",
    "err_res <- rbind(err_res, data.frame(Name=\"XGBoost_on_test\", Model=\"mod12_test\", \n",
    "                                     RMSE_Dev=rmse_dev(y_test,pred12), \n",
    "                                     RMSLE_Dev=rmsle_dev(y_test,pred12)))"
   ]
  },
  {
   "cell_type": "code",
   "execution_count": 360,
   "metadata": {},
   "outputs": [
    {
     "data": {
      "text/html": [
       "'Percent of Variance Explained, R^2: 87.3%'"
      ],
      "text/latex": [
       "'Percent of Variance Explained, R\\textasciicircum{}2: 87.3\\%'"
      ],
      "text/markdown": [
       "'Percent of Variance Explained, R^2: 87.3%'"
      ],
      "text/plain": [
       "[1] \"Percent of Variance Explained, R^2: 87.3%\""
      ]
     },
     "metadata": {},
     "output_type": "display_data"
    }
   ],
   "source": [
    "R_squre <- tibble(predtest, obstest = test$log_sales) %>% \n",
    "  mutate(resid = predtest - obstest,\n",
    "         resid_sq = resid^2)\n",
    "sstot <- sum((R_squre$predtest - mean(R_squre$obstest))^2)\n",
    "ssresid <- sum(R_squre$resid_sq)\n",
    "sprintf(\"Percent of Variance Explained, R^2: %1.1f%%\", 100 * (1 - ssresid / sstot))"
   ]
  },
  {
   "cell_type": "code",
   "execution_count": 361,
   "metadata": {},
   "outputs": [
    {
     "data": {
      "image/png": "[encoded data removed]",
      "text/plain": [
       "plot without title"
      ]
     },
     "metadata": {
      "image/png": {
       "height": 480,
       "width": 600
      }
     },
     "output_type": "display_data"
    }
   ],
   "source": [
    "x = 1:length(y_test)\n",
    "plot(x, y_test, col = \"red\", type = \"l\")\n",
    "lines(x, predtest, col = \"blue\", type = \"l\")\n",
    "legend(x = 1, y = 250,  legend = c(\"original y_test\", \"predicted y_test\"), \n",
    "       col = c(\"red\", \"blue\"), box.lty = 10, cex = 0.8, lty = c(1, 1))"
   ]
  },
  {
   "cell_type": "code",
   "execution_count": null,
   "metadata": {},
   "outputs": [],
   "source": []
  }
 ],
 "metadata": {
  "kernelspec": {
   "display_name": "R",
   "language": "R",
   "name": "ir"
  },
  "language_info": {
   "codemirror_mode": "r",
   "file_extension": ".r",
   "mimetype": "text/x-r-source",
   "name": "R",
   "pygments_lexer": "r",
   "version": "4.0.2"
  }
 },
 "nbformat": 4,
 "nbformat_minor": 4
}
